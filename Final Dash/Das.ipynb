{
 "cells": [
  {
   "cell_type": "code",
   "execution_count": 1,
   "metadata": {},
   "outputs": [],
   "source": [
    "import dash\n",
    "import plotly.express as px\n",
    "import pandas as pd\n",
    "from dash import html\n",
    "from dash import dcc"
   ]
  },
  {
   "cell_type": "markdown",
   "metadata": {},
   "source": [
    "# GeoNuclearData\n",
    "\n",
    "This repository contains a database with information about Nuclear Power Plants worldwide.\n",
    "\n",
    "### Version\n",
    "\n",
    "Database version: **0.17.0** (**2020/04/19**)  \n",
    "Dataset last updated in version: **0.17.10** (**2021/06/29**)\n",
    "\n",
    "### Changelog\n",
    "\n",
    "See [CHANGELOG](https://github.com/cristianst85/GeoNuclearData/blob/master/CHANGELOG.md) file for details.\n",
    "\n",
    "### Data formats\n",
    "\n",
    "Data is available in multiple formats (MySQL, JSON, and CSV).\n",
    "\n",
    "### Quick database summary (by reactor status)\n",
    "\n",
    "|**Status**            |**Count**|\n",
    "|----------------------|--------:|\n",
    "|Unknown               |        1|\n",
    "|Planned               |       92|\n",
    "|Under Construction    |       56|\n",
    "|Operational           |      444|\n",
    "|Shutdown              |      193|\n",
    "|Suspended Construction|        6|\n",
    "|Cancelled Construction|        4|\n",
    "|Never Commissioned    |        2|\n",
    "|**Total**             |  **798**|\n",
    "\n",
    "## Tables structure\n",
    "\n",
    "### countries\n",
    "- `code` - ISO 3166-1 alpha-2 country code\n",
    "- `name` - country name in English\n",
    " \n",
    "### nuclear_power_plant_status_type\n",
    "- `id` - numeric id key\n",
    "- `type` - nuclear power plant status\n",
    "\n",
    "### nuclear_reactor_type\n",
    "- `id` - numeric id key\n",
    "- `type` - nuclear reactor type acronym\n",
    "- `description` - nuclear reactor type long form\n",
    " \n",
    "### nuclear_power_plants\n",
    "- `id` - numeric id key\n",
    "- `name` - nuclear power plant name\n",
    "- `latitude` - latitude in decimal format\n",
    "- `longitude` - longitude in decimal format\n",
    "- `country_code` - ISO 3166-1 alpha-2 country code\n",
    "- `status_id` - nuclear power plant status id\n",
    "- `reactor_type_id` - nuclear reactor type id\n",
    "- `reactor_model` - nuclear reactor model\n",
    "- `construction_start_at` - date when nuclear power plant construction was started\n",
    "- `operational_from` - date when nuclear power plant became operational (also known as commercial operation date)\n",
    "- `operational_to` - date when nuclear power plant was shutdown (also known as permanent shutdown date)\n",
    "- `capacity` - nuclear power plant capacity (design net capacity in MWe) \"megawatt electrical\"\n",
    "- `source` - source of the information\n",
    "- `last_updated_at` - date and time when information was last updated\n",
    "- `iaea_id` - IAEA \"\"\"international atomic energy agency\"\"\" PRIS reactor id \"\"\"THE POWER REACTOR INFORMATION SYSTEM (PRIS)\"\"\"\n",
    " \n",
    "## Notes\n",
    "Data from `source`, `last_updated_at`, and `iaea_id` columns is for maintenance purposes only and is not recommended to be used.\n",
    "\n",
    "### Known Inconsistencies (GeoNuclearData vs. WNA vs. IAEA PRIS)\n",
    "\n",
    "_Operational Reactors_\n",
    "\n",
    "* There are currently 444 reactors listed as being operational in the GeoNuclearData database, the same number as in the PRIS database. Although the China Experimental Fast Reactor ([CEFR](https://pris.iaea.org/PRIS/CountryStatistics/ReactorDetails.aspx?current=1047)) is grid-connected and occasionally producing 20 MWe net, it is omitted from the WNA's operating nuclear power reactors table ([see here](https://www.world-nuclear.org/information-library/country-profiles/countries-a-f/china-nuclear-power.aspx)) because it is considered minor and experimental, but it is included in IAEA figures for operational reactors ([see here](https://pris.iaea.org/PRIS/CountryStatistics/CountryDetails.aspx?current=CN)).\n",
    "\n",
    "_Reactors Under Construction_\n",
    "\n",
    "- The number of reactors listed as being under construction in the GeoNuclearData database does not match with either the number of reactors under construction from WNA's database or with the number from the PRIS database:\n",
    "  - [BALTIC-1](https://pris.iaea.org/PRIS/CountryStatistics/ReactorDetails.aspx?current=968) reactor (Russia) is shown as under construction in PRIS, but it was removed from the WNA's database in November 2000 ([see here](https://www.world-nuclear.org/information-library/country-profiles/countries-o-s/russia-nuclear-power.aspx));\n",
    "- In addition to the list of reactors under construction from the PRIS database, the GeoNuclearData database also contains the following reactors (as in WNA's database): \n",
    "  - CAP1400-1 ([Shidaowan 1](https://www.world-nuclear.org/reactor/default.aspx/SHIDAOWAN-1));\n",
    "  - CAP1400-1 ([Shidaowan 2](https://www.world-nuclear.org/reactor/default.aspx/SHIDAOWAN-2));\n",
    "  - Xiapu-2 ([Xiapu 2](https://www.world-nuclear.org/reactor/default.aspx/XIAPU-2));\n",
    "  - Xudabao-3 ([Xudabao 3](https://www.world-nuclear.org/reactor/default.aspx/XUDABAO-3));\n",
    "  - Tianwan-7 ([Tianwan 7](https://www.world-nuclear.org/reactor/default.aspx/TIANWAN-7)).\n",
    "\n",
    "_Naming_\n",
    "\n",
    "- The GeoNuclearData database usually follows the naming conventions from PRIS for reactors, but in WNA's database some nuclear reactors have completely different names. Some examples are:\n",
    "  - [BELARUSIAN-1](https://pris.iaea.org/PRIS/CountryStatistics/ReactorDetails.aspx?current=1056) and [2](https://pris.iaea.org/PRIS/CountryStatistics/ReactorDetails.aspx?current=1061) reactors (Belarus) are named in WNA's database [Ostrovets 1](https://www.world-nuclear.org/reactor/default.aspx/BELARUSIAN-1) and  [2](https://www.world-nuclear.org/reactor/default.aspx/BELARUSIAN-1), respectively;\n",
    "  - [SANAOCUN-1](https://pris.iaea.org/PRIS/CountryStatistics/ReactorDetails.aspx?current=1094) reactor (China) is named in WNA's database [San'oa 1](https://www.world-nuclear.org/reactor/default.aspx/SANOA-1);\n",
    "  - [CAP1400-1](https://pris.iaea.org/PRIS/CountryStatistics/ReactorDetails.aspx?current=1085) and [2](https://pris.iaea.org/PRIS/CountryStatistics/ReactorDetails.aspx?current=1086) reactors (China) (they were unlisted from PRIS as of 30 April 2021) are named in WNA's database [Shidaowan 1](https://www.world-nuclear.org/reactor/default.aspx/SHIDAOWAN-1) and [2](https://www.world-nuclear.org/reactor/default.aspx/SHIDAOWAN-2), respectively;\n",
    "  - [KANUPP-1](https://pris.iaea.org/PRIS/CountryStatistics/ReactorDetails.aspx?current=427), [2](https://pris.iaea.org/PRIS/CountryStatistics/ReactorDetails.aspx?current=1067), and [3](https://pris.iaea.org/PRIS/CountryStatistics/ReactorDetails.aspx?current=1068) reactors (Pakistan) are named in WNA's database [Karachi 1](https://www.world-nuclear.org/reactor/default.aspx/KANUPP-1), [2](https://www.world-nuclear.org/reactor/default.aspx/KANUPP-2), and [3](https://www.world-nuclear.org/reactor/default.aspx/KANUPP-3).\n",
    "\n",
    "_Coordinates_\n",
    "\n",
    "- the coordinates found in GeoNuclearData database are approximate;\n",
    "- the original source for the existing coordinates was an old Google Fusion Table dating back to March 2012 (probably sourced from WNA). Since the inception of this database some of the coordinates were manually corrected using Wikipedia/GeoHack and/or satellite imagery from Google Maps;\n",
    "- the operational [Akademik Lomonosov-1](https://www.world-nuclear.org/reactor/default.aspx/AKADEMIK%20LOMONOSOV-1) and [2](https://www.world-nuclear.org/reactor/default.aspx/AKADEMIK%20LOMONOSOV-2) reactors (Russia) and planned Bohai Shipyard FNPP and Jiaodong Shipyard FNPP (China) reactors are floating nuclear power plants thus the coordinates from this database may not necessarily indicate their current location.\n",
    "\n",
    "## Usage\n",
    "    SELECT npp.`id`\n",
    "        , npp.`name`\n",
    "        , npp.latitude\n",
    "        , npp.longitude\n",
    "        , c.`name` 'country'\n",
    "        , s.type 'status'\n",
    "        , r.type 'reactor_type'\n",
    "        , npp.reactor_model\n",
    "        , npp.construction_start_at\n",
    "        , npp.operational_from\n",
    "        , npp.operational_to\n",
    "    FROM nuclear_power_plants npp\n",
    "    INNER JOIN countries AS c ON npp.country_code = c.`code`\n",
    "    INNER JOIN nuclear_power_plant_status_type AS s ON npp.status_id = s.id\n",
    "    LEFT OUTER JOIN nuclear_reactor_type AS r ON npp.reactor_type_id = r.id\n",
    "    ORDER BY npp.`id`\n",
    "\n",
    "## License\n",
    "The GeoNuclearData database is made available under the Open Database License whose full text can be found at https://opendatacommons.org/licenses/odbl/1.0/.\n",
    " \n",
    "Any rights in individual contents of the database are licensed under the Database Contents License whose full text can be found at https://opendatacommons.org/licenses/dbcl/1.0/.\n",
    " \n",
    "## Sources\n",
    "Countries data is taken from [Unicode Common Locale Data Repository](https://github.com/unicode-org/cldr-json/blob/master/cldr-json/cldr-localenames-full/main/en/territories.json).  \n",
    "Nuclear power plants data is taken from [WNA](http://www.world-nuclear.org/information-library/facts-and-figures/reactor-database.aspx)/[IAEA](https://www.iaea.org/pris/), but some other sources are used, e.g., [Wikipedia](https://en.wikipedia.org/wiki/List_of_nuclear_power_stations).  \n",
    "\n",
    "WNA data is also taken from the IAEA PRIS reactor database, with more recent information added if available ([see here](https://www.world-nuclear.org/information-library/facts-and-figures/reactor-database-guide.aspx)).\n",
    "\n",
    "## Showcase\n",
    "- [uRADMonitor - Global Environmental Monitoring Network](http://www.uradmonitor.com).\n"
   ]
  },
  {
   "cell_type": "code",
   "execution_count": 200,
   "metadata": {},
   "outputs": [
    {
     "data": {
      "text/plain": [
       "str"
      ]
     },
     "execution_count": 200,
     "metadata": {},
     "output_type": "execute_result"
    }
   ],
   "source": [
    "df = pd.read_csv('nuclear_power_plants.csv')\n",
    "\n",
    "from mapbox import Geocoder\n",
    "# encoder = Geocoder(access_token=\"pk.eyJ1IjoibWVyY3VyeWNvZGUiLCJhIjoiY2t2OHo2enA0MDJ3czJ3bnpxeTU5dXNvcCJ9.HFSLsaR13BM2y573g4ZmsQ\")\n",
    "token = open(\".mapbox_token\").read() # you will need your own token"
   ]
  },
  {
   "cell_type": "code",
   "execution_count": 204,
   "metadata": {},
   "outputs": [
    {
     "data": {
      "text/html": [
       "<div>\n",
       "<style scoped>\n",
       "    .dataframe tbody tr th:only-of-type {\n",
       "        vertical-align: middle;\n",
       "    }\n",
       "\n",
       "    .dataframe tbody tr th {\n",
       "        vertical-align: top;\n",
       "    }\n",
       "\n",
       "    .dataframe thead th {\n",
       "        text-align: right;\n",
       "    }\n",
       "</style>\n",
       "<table border=\"1\" class=\"dataframe\">\n",
       "  <thead>\n",
       "    <tr style=\"text-align: right;\">\n",
       "      <th></th>\n",
       "      <th>Id</th>\n",
       "      <th>Name</th>\n",
       "      <th>Latitude</th>\n",
       "      <th>Longitude</th>\n",
       "      <th>Country</th>\n",
       "      <th>CountryCode</th>\n",
       "      <th>Status</th>\n",
       "      <th>ReactorType</th>\n",
       "      <th>ReactorModel</th>\n",
       "      <th>ConstructionStartAt</th>\n",
       "      <th>OperationalFrom</th>\n",
       "      <th>OperationalTo</th>\n",
       "      <th>Capacity</th>\n",
       "      <th>LastUpdatedAt</th>\n",
       "      <th>Source</th>\n",
       "      <th>IAEAId</th>\n",
       "    </tr>\n",
       "  </thead>\n",
       "  <tbody>\n",
       "    <tr>\n",
       "      <th>0</th>\n",
       "      <td>1</td>\n",
       "      <td>Ågesta</td>\n",
       "      <td>59.206000</td>\n",
       "      <td>18.08290</td>\n",
       "      <td>Sweden</td>\n",
       "      <td>SE</td>\n",
       "      <td>Shutdown</td>\n",
       "      <td>PHWR</td>\n",
       "      <td>NaN</td>\n",
       "      <td>1957-12-01</td>\n",
       "      <td>1964-05-01</td>\n",
       "      <td>1974-06-02</td>\n",
       "      <td>9.0</td>\n",
       "      <td>2015-05-24T04:51:37+03:00</td>\n",
       "      <td>WNA/IAEA</td>\n",
       "      <td>528.0</td>\n",
       "    </tr>\n",
       "    <tr>\n",
       "      <th>1</th>\n",
       "      <td>2</td>\n",
       "      <td>Akademik Lomonosov-1</td>\n",
       "      <td>69.709579</td>\n",
       "      <td>170.30625</td>\n",
       "      <td>Russia</td>\n",
       "      <td>RU</td>\n",
       "      <td>Operational</td>\n",
       "      <td>PWR</td>\n",
       "      <td>KLT-40S 'Floating'</td>\n",
       "      <td>2007-04-15</td>\n",
       "      <td>2020-05-22</td>\n",
       "      <td>NaT</td>\n",
       "      <td>30.0</td>\n",
       "      <td>2021-05-31</td>\n",
       "      <td>WNA/IAEA/Google Maps</td>\n",
       "      <td>895.0</td>\n",
       "    </tr>\n",
       "    <tr>\n",
       "      <th>2</th>\n",
       "      <td>3</td>\n",
       "      <td>Akademik Lomonosov-2</td>\n",
       "      <td>69.709579</td>\n",
       "      <td>170.30625</td>\n",
       "      <td>Russia</td>\n",
       "      <td>RU</td>\n",
       "      <td>Operational</td>\n",
       "      <td>PWR</td>\n",
       "      <td>KLT-40S 'Floating'</td>\n",
       "      <td>2007-04-15</td>\n",
       "      <td>2020-05-22</td>\n",
       "      <td>NaT</td>\n",
       "      <td>30.0</td>\n",
       "      <td>2021-05-31</td>\n",
       "      <td>WNA/IAEA/Google Maps</td>\n",
       "      <td>896.0</td>\n",
       "    </tr>\n",
       "    <tr>\n",
       "      <th>3</th>\n",
       "      <td>4</td>\n",
       "      <td>Akhvaz-1</td>\n",
       "      <td>NaN</td>\n",
       "      <td>NaN</td>\n",
       "      <td>Iran</td>\n",
       "      <td>IR</td>\n",
       "      <td>Planned</td>\n",
       "      <td>NaN</td>\n",
       "      <td>NaN</td>\n",
       "      <td>NaT</td>\n",
       "      <td>NaT</td>\n",
       "      <td>NaT</td>\n",
       "      <td>0.0</td>\n",
       "      <td>NaN</td>\n",
       "      <td>WNA</td>\n",
       "      <td>NaN</td>\n",
       "    </tr>\n",
       "    <tr>\n",
       "      <th>4</th>\n",
       "      <td>5</td>\n",
       "      <td>Akhvaz-2</td>\n",
       "      <td>NaN</td>\n",
       "      <td>NaN</td>\n",
       "      <td>Iran</td>\n",
       "      <td>IR</td>\n",
       "      <td>Planned</td>\n",
       "      <td>NaN</td>\n",
       "      <td>NaN</td>\n",
       "      <td>NaT</td>\n",
       "      <td>NaT</td>\n",
       "      <td>NaT</td>\n",
       "      <td>0.0</td>\n",
       "      <td>NaN</td>\n",
       "      <td>WNA</td>\n",
       "      <td>NaN</td>\n",
       "    </tr>\n",
       "  </tbody>\n",
       "</table>\n",
       "</div>"
      ],
      "text/plain": [
       "   Id                  Name   Latitude  Longitude Country CountryCode  \\\n",
       "0   1                Ågesta  59.206000   18.08290  Sweden          SE   \n",
       "1   2  Akademik Lomonosov-1  69.709579  170.30625  Russia          RU   \n",
       "2   3  Akademik Lomonosov-2  69.709579  170.30625  Russia          RU   \n",
       "3   4              Akhvaz-1        NaN        NaN    Iran          IR   \n",
       "4   5              Akhvaz-2        NaN        NaN    Iran          IR   \n",
       "\n",
       "        Status ReactorType        ReactorModel ConstructionStartAt  \\\n",
       "0     Shutdown        PHWR                 NaN          1957-12-01   \n",
       "1  Operational         PWR  KLT-40S 'Floating'          2007-04-15   \n",
       "2  Operational         PWR  KLT-40S 'Floating'          2007-04-15   \n",
       "3      Planned         NaN                 NaN                 NaT   \n",
       "4      Planned         NaN                 NaN                 NaT   \n",
       "\n",
       "  OperationalFrom OperationalTo  Capacity              LastUpdatedAt  \\\n",
       "0      1964-05-01    1974-06-02       9.0  2015-05-24T04:51:37+03:00   \n",
       "1      2020-05-22           NaT      30.0                 2021-05-31   \n",
       "2      2020-05-22           NaT      30.0                 2021-05-31   \n",
       "3             NaT           NaT       0.0                        NaN   \n",
       "4             NaT           NaT       0.0                        NaN   \n",
       "\n",
       "                 Source  IAEAId  \n",
       "0              WNA/IAEA   528.0  \n",
       "1  WNA/IAEA/Google Maps   895.0  \n",
       "2  WNA/IAEA/Google Maps   896.0  \n",
       "3                   WNA     NaN  \n",
       "4                   WNA     NaN  "
      ]
     },
     "execution_count": 204,
     "metadata": {},
     "output_type": "execute_result"
    }
   ],
   "source": [
    "df['ConstructionStartAt']=pd.to_datetime(df['ConstructionStartAt'], dayfirst=True)\n",
    "df['OperationalFrom']=pd.to_datetime(df['OperationalFrom'], dayfirst=True)\n",
    "df['OperationalTo']=pd.to_datetime(df['OperationalTo'], dayfirst=True)\n",
    "df.head(5)"
   ]
  },
  {
   "cell_type": "code",
   "execution_count": 202,
   "metadata": {},
   "outputs": [],
   "source": [
    "# df.info()"
   ]
  },
  {
   "cell_type": "code",
   "execution_count": 203,
   "metadata": {},
   "outputs": [],
   "source": [
    "# df['how long'] = df['OperationalTo']-df[\"OperationalFrom\"]\n",
    "# df['how long'].head(40)\n",
    "df['Capacity'].fillna(0,inplace=True)"
   ]
  },
  {
   "cell_type": "code",
   "execution_count": 184,
   "metadata": {},
   "outputs": [],
   "source": [
    "# px.histogram(df,\n",
    "#            template='plotly_dark',width=700,height=350,\n",
    "#            x=\"Country\",y=\"Capacity\")"
   ]
  },
  {
   "cell_type": "code",
   "execution_count": 185,
   "metadata": {},
   "outputs": [],
   "source": [
    "countries = list(((df.groupby(by='Country',as_index=False).sum()).sort_values('Capacity'))['Country'])\n",
    "# countries"
   ]
  },
  {
   "cell_type": "code",
   "execution_count": 266,
   "metadata": {},
   "outputs": [],
   "source": [
    "# colorscales = ['#041c43','#062a64','#083986','#0a47a7','#0c55c9','#0f63ea','#2c78f1','#4d8df3','#6fa3f5','#90b8f7']\n",
    "# colorscales = ['#041c43','#0a47a7','#2c78f1','#90b8f7'] #Sky\n",
    "colorscales = ['#de4b00','#ff5600','#ff7833','#ff9a66','#ffe1cc']\n",
    "colorscales.reverse()\n",
    "colorscales2 = ['#ff5600','#ffe1cc','#ff0b00','#ff3c33']"
   ]
  },
  {
   "cell_type": "code",
   "execution_count": 267,
   "metadata": {},
   "outputs": [
    {
     "data": {
      "application/vnd.plotly.v1+json": {
       "config": {
        "plotlyServerURL": "https://plot.ly"
       },
       "data": [
        {
         "hovertemplate": "Status=Operational<br>OperationalFrom=%{x}<br>Capacity=%{y}<extra></extra>",
         "legendgroup": "Operational",
         "marker": {
          "color": "#ff5600",
          "symbol": "circle"
         },
         "mode": "markers",
         "name": "Operational",
         "orientation": "v",
         "showlegend": true,
         "type": "scatter",
         "x": [
          "1974-12-19T00:00:00",
          "1980-03-26T00:00:00",
          "1976-10-01T00:00:00",
          "1987-11-17T00:00:00",
          "1988-07-29T00:00:00",
          "1988-10-17T00:00:00",
          "1974-08-01T00:00:00",
          "1975-03-01T00:00:00",
          "1977-03-01T00:00:00",
          "1977-03-18T00:00:00",
          "1975-11-03T00:00:00",
          "1985-09-16T00:00:00",
          "1987-08-02T00:00:00",
          "1984-12-19T00:00:00",
          "1975-05-08T00:00:00",
          "1977-04-01T00:00:00",
          "1985-06-29T00:00:00",
          "1986-08-19T00:00:00",
          "1987-11-24T00:00:00",
          "1984-12-13T00:00:00",
          "1990-08-13T00:00:00",
          "1993-08-03T00:00:00",
          "1974-07-01T00:00:00",
          "1978-07-31T00:00:00",
          "1985-05-07T00:00:00",
          "1986-03-13T00:00:00",
          "1975-08-28T00:00:00",
          "1978-07-01T00:00:00",
          "1970-06-09T00:00:00",
          "1971-11-16T00:00:00",
          "1988-01-23T00:00:00",
          "1977-12-01T00:00:00",
          "1981-07-30T00:00:00",
          "1975-07-28T00:00:00",
          "1985-07-01T00:00:00",
          "1971-03-07T00:00:00",
          "1975-12-31T00:00:00",
          "1979-09-05T00:00:00",
          "1986-12-20T00:00:00",
          "1984-01-01T00:00:00",
          "1984-10-19T00:00:00",
          "1986-02-01T00:00:00",
          "1990-01-08T00:00:00",
          "1981-12-01T00:00:00",
          "1984-03-01T00:00:00",
          "1975-12-26T00:00:00",
          "1986-04-23T00:00:00",
          "1971-06-30T00:00:00",
          "1969-12-01T00:00:00",
          "1988-03-11T00:00:00",
          "1978-06-06T00:00:00",
          "1980-12-14T00:00:00",
          "1973-07-15T00:00:00",
          "1974-09-09T00:00:00",
          "1974-12-16T00:00:00",
          "1971-12-31T00:00:00",
          "1986-01-28T00:00:00",
          "1986-09-19T00:00:00",
          "1988-01-08T00:00:00",
          "1974-07-05T00:00:00",
          "1974-12-23T00:00:00",
          "1987-11-18T00:00:00",
          "1970-12-21T00:00:00",
          "1972-10-01T00:00:00",
          "1973-12-16T00:00:00",
          "1974-12-21T00:00:00",
          "1973-02-18T00:00:00",
          "1973-03-10T00:00:00",
          "1970-07-01T00:00:00",
          "1986-06-16T00:00:00",
          "1977-06-30T00:00:00",
          "1981-10-13T00:00:00",
          "1990-08-19T00:00:00",
          "1981-07-01T00:00:00",
          "1982-06-01T00:00:00",
          "1987-05-02T00:00:00",
          "1988-08-25T00:00:00",
          "1989-06-19T00:00:00",
          "1976-12-21T00:00:00",
          "1983-08-08T00:00:00",
          "1984-01-01T00:00:00",
          "1972-12-22T00:00:00",
          "1973-05-01T00:00:00",
          "1983-06-08T00:00:00",
          "1985-02-12T00:00:00",
          "1972-12-14T00:00:00",
          "1973-09-07T00:00:00",
          "1987-06-01T00:00:00",
          "1989-05-20T00:00:00",
          "1985-09-24T00:00:00",
          "1996-05-27T00:00:00",
          "2016-10-19T00:00:00",
          "1985-09-03T00:00:00"
         ],
         "xaxis": "x",
         "y": [
          850,
          912,
          835,
          836,
          1120,
          1120,
          1065,
          1065,
          1065,
          821,
          821,
          1120,
          1120,
          1171,
          845,
          845,
          1145,
          1145,
          950,
          1100,
          1150,
          1150,
          778,
          906,
          1084,
          1106,
          1030,
          1100,
          794,
          794,
          1093,
          829,
          829,
          821,
          1250,
          700,
          777,
          784,
          1067,
          1078,
          1078,
          1055,
          1055,
          1180,
          1180,
          870,
          1159,
          545,
          620,
          1100,
          907,
          907,
          887,
          887,
          887,
          805,
          1221,
          1304,
          1304,
          1065,
          1065,
          1205,
          497,
          497,
          530,
          530,
          789,
          789,
          470,
          966,
          1090,
          1115,
          1149,
          1148,
          1148,
          900,
          1250,
          1250,
          830,
          830,
          900,
          788,
          788,
          1065,
          1065,
          693,
          693,
          1122,
          1101,
          1104,
          1218,
          1165,
          1170
         ],
         "yaxis": "y"
        },
        {
         "hovertemplate": "Status=Shutdown<br>OperationalFrom=%{x}<br>Capacity=%{y}<extra></extra>",
         "legendgroup": "Shutdown",
         "marker": {
          "color": "#ffe1cc",
          "symbol": "circle"
         },
         "mode": "markers",
         "name": "Shutdown",
         "orientation": "v",
         "showlegend": true,
         "type": "scatter",
         "x": [
          "1963-03-29T00:00:00",
          "1965-09-01T00:00:00",
          "1963-12-18T00:00:00",
          "1977-03-13T00:00:00",
          "1960-07-04T00:00:00",
          "1975-02-01T00:00:00",
          "1964-07-01T00:00:00",
          "1966-08-07T00:00:00",
          "1973-09-26T00:00:00",
          "1979-07-01T00:00:00",
          "1957-10-19T00:00:00",
          "1968-01-01T00:00:00",
          "1963-11-01T00:00:00",
          "1963-08-01T00:00:00",
          "1962-10-01T00:00:00",
          "1974-08-01T00:00:00",
          "1976-08-30T00:00:00",
          "1974-06-16T00:00:00",
          "1969-11-07T00:00:00",
          "1972-12-28T00:00:00",
          "1971-03-01T00:00:00",
          "1969-12-01T00:00:00",
          "1966-08-01T00:00:00",
          "1967-06-01T00:00:00",
          "1972-12-01T00:00:00",
          "1963-11-01T00:00:00",
          "1975-04-17T00:00:00",
          "1968-01-01T00:00:00",
          "1983-08-08T00:00:00",
          "1984-04-01T00:00:00",
          "1967-03-01T00:00:00",
          "1958-05-26T00:00:00",
          "1986-08-01T00:00:00",
          "1974-09-02T00:00:00",
          "1978-12-30T00:00:00",
          "1976-05-20T00:00:00",
          "1972-11-30T00:00:00",
          "1961-07-01T00:00:00",
          "1973-12-31T00:00:00",
          "1974-09-17T00:00:00"
         ],
         "xaxis": "x",
         "y": [
          72,
          17,
          17,
          825,
          192,
          601,
          22,
          60,
          478,
          330,
          24,
          582,
          75,
          65,
          265,
          873,
          965,
          535,
          50,
          825,
          660,
          650,
          59,
          40,
          655,
          11,
          918,
          436,
          1070,
          1070,
          3,
          60,
          809,
          819,
          906,
          1130,
          514,
          175,
          1040,
          1040
         ],
         "yaxis": "y"
        },
        {
         "hovertemplate": "Status=Suspended Construction<br>OperationalFrom=%{x}<br>Capacity=%{y}<extra></extra>",
         "legendgroup": "Suspended Construction",
         "marker": {
          "color": "#ff0b00",
          "symbol": "circle"
         },
         "mode": "markers",
         "name": "Suspended Construction",
         "orientation": "v",
         "showlegend": true,
         "type": "scatter",
         "x": [
          null,
          null
         ],
         "xaxis": "x",
         "y": [
          1117,
          1117
         ],
         "yaxis": "y"
        },
        {
         "hovertemplate": "Status=Under Construction<br>OperationalFrom=%{x}<br>Capacity=%{y}<extra></extra>",
         "legendgroup": "Under Construction",
         "marker": {
          "color": "#ff3c33",
          "symbol": "circle"
         },
         "mode": "markers",
         "name": "Under Construction",
         "orientation": "v",
         "showlegend": true,
         "type": "scatter",
         "x": [
          null,
          null
         ],
         "xaxis": "x",
         "y": [
          1117,
          1117
         ],
         "yaxis": "y"
        }
       ],
       "layout": {
        "legend": {
         "title": {
          "text": "Status"
         },
         "tracegroupgap": 0
        },
        "margin": {
         "t": 60
        },
        "template": {
         "data": {
          "bar": [
           {
            "error_x": {
             "color": "#f2f5fa"
            },
            "error_y": {
             "color": "#f2f5fa"
            },
            "marker": {
             "line": {
              "color": "rgb(17,17,17)",
              "width": 0.5
             },
             "pattern": {
              "fillmode": "overlay",
              "size": 10,
              "solidity": 0.2
             }
            },
            "type": "bar"
           }
          ],
          "barpolar": [
           {
            "marker": {
             "line": {
              "color": "rgb(17,17,17)",
              "width": 0.5
             },
             "pattern": {
              "fillmode": "overlay",
              "size": 10,
              "solidity": 0.2
             }
            },
            "type": "barpolar"
           }
          ],
          "carpet": [
           {
            "aaxis": {
             "endlinecolor": "#A2B1C6",
             "gridcolor": "#506784",
             "linecolor": "#506784",
             "minorgridcolor": "#506784",
             "startlinecolor": "#A2B1C6"
            },
            "baxis": {
             "endlinecolor": "#A2B1C6",
             "gridcolor": "#506784",
             "linecolor": "#506784",
             "minorgridcolor": "#506784",
             "startlinecolor": "#A2B1C6"
            },
            "type": "carpet"
           }
          ],
          "choropleth": [
           {
            "colorbar": {
             "outlinewidth": 0,
             "ticks": ""
            },
            "type": "choropleth"
           }
          ],
          "contour": [
           {
            "colorbar": {
             "outlinewidth": 0,
             "ticks": ""
            },
            "colorscale": [
             [
              0,
              "#0d0887"
             ],
             [
              0.1111111111111111,
              "#46039f"
             ],
             [
              0.2222222222222222,
              "#7201a8"
             ],
             [
              0.3333333333333333,
              "#9c179e"
             ],
             [
              0.4444444444444444,
              "#bd3786"
             ],
             [
              0.5555555555555556,
              "#d8576b"
             ],
             [
              0.6666666666666666,
              "#ed7953"
             ],
             [
              0.7777777777777778,
              "#fb9f3a"
             ],
             [
              0.8888888888888888,
              "#fdca26"
             ],
             [
              1,
              "#f0f921"
             ]
            ],
            "type": "contour"
           }
          ],
          "contourcarpet": [
           {
            "colorbar": {
             "outlinewidth": 0,
             "ticks": ""
            },
            "type": "contourcarpet"
           }
          ],
          "heatmap": [
           {
            "colorbar": {
             "outlinewidth": 0,
             "ticks": ""
            },
            "colorscale": [
             [
              0,
              "#0d0887"
             ],
             [
              0.1111111111111111,
              "#46039f"
             ],
             [
              0.2222222222222222,
              "#7201a8"
             ],
             [
              0.3333333333333333,
              "#9c179e"
             ],
             [
              0.4444444444444444,
              "#bd3786"
             ],
             [
              0.5555555555555556,
              "#d8576b"
             ],
             [
              0.6666666666666666,
              "#ed7953"
             ],
             [
              0.7777777777777778,
              "#fb9f3a"
             ],
             [
              0.8888888888888888,
              "#fdca26"
             ],
             [
              1,
              "#f0f921"
             ]
            ],
            "type": "heatmap"
           }
          ],
          "heatmapgl": [
           {
            "colorbar": {
             "outlinewidth": 0,
             "ticks": ""
            },
            "colorscale": [
             [
              0,
              "#0d0887"
             ],
             [
              0.1111111111111111,
              "#46039f"
             ],
             [
              0.2222222222222222,
              "#7201a8"
             ],
             [
              0.3333333333333333,
              "#9c179e"
             ],
             [
              0.4444444444444444,
              "#bd3786"
             ],
             [
              0.5555555555555556,
              "#d8576b"
             ],
             [
              0.6666666666666666,
              "#ed7953"
             ],
             [
              0.7777777777777778,
              "#fb9f3a"
             ],
             [
              0.8888888888888888,
              "#fdca26"
             ],
             [
              1,
              "#f0f921"
             ]
            ],
            "type": "heatmapgl"
           }
          ],
          "histogram": [
           {
            "marker": {
             "pattern": {
              "fillmode": "overlay",
              "size": 10,
              "solidity": 0.2
             }
            },
            "type": "histogram"
           }
          ],
          "histogram2d": [
           {
            "colorbar": {
             "outlinewidth": 0,
             "ticks": ""
            },
            "colorscale": [
             [
              0,
              "#0d0887"
             ],
             [
              0.1111111111111111,
              "#46039f"
             ],
             [
              0.2222222222222222,
              "#7201a8"
             ],
             [
              0.3333333333333333,
              "#9c179e"
             ],
             [
              0.4444444444444444,
              "#bd3786"
             ],
             [
              0.5555555555555556,
              "#d8576b"
             ],
             [
              0.6666666666666666,
              "#ed7953"
             ],
             [
              0.7777777777777778,
              "#fb9f3a"
             ],
             [
              0.8888888888888888,
              "#fdca26"
             ],
             [
              1,
              "#f0f921"
             ]
            ],
            "type": "histogram2d"
           }
          ],
          "histogram2dcontour": [
           {
            "colorbar": {
             "outlinewidth": 0,
             "ticks": ""
            },
            "colorscale": [
             [
              0,
              "#0d0887"
             ],
             [
              0.1111111111111111,
              "#46039f"
             ],
             [
              0.2222222222222222,
              "#7201a8"
             ],
             [
              0.3333333333333333,
              "#9c179e"
             ],
             [
              0.4444444444444444,
              "#bd3786"
             ],
             [
              0.5555555555555556,
              "#d8576b"
             ],
             [
              0.6666666666666666,
              "#ed7953"
             ],
             [
              0.7777777777777778,
              "#fb9f3a"
             ],
             [
              0.8888888888888888,
              "#fdca26"
             ],
             [
              1,
              "#f0f921"
             ]
            ],
            "type": "histogram2dcontour"
           }
          ],
          "mesh3d": [
           {
            "colorbar": {
             "outlinewidth": 0,
             "ticks": ""
            },
            "type": "mesh3d"
           }
          ],
          "parcoords": [
           {
            "line": {
             "colorbar": {
              "outlinewidth": 0,
              "ticks": ""
             }
            },
            "type": "parcoords"
           }
          ],
          "pie": [
           {
            "automargin": true,
            "type": "pie"
           }
          ],
          "scatter": [
           {
            "marker": {
             "line": {
              "color": "#283442"
             }
            },
            "type": "scatter"
           }
          ],
          "scatter3d": [
           {
            "line": {
             "colorbar": {
              "outlinewidth": 0,
              "ticks": ""
             }
            },
            "marker": {
             "colorbar": {
              "outlinewidth": 0,
              "ticks": ""
             }
            },
            "type": "scatter3d"
           }
          ],
          "scattercarpet": [
           {
            "marker": {
             "colorbar": {
              "outlinewidth": 0,
              "ticks": ""
             }
            },
            "type": "scattercarpet"
           }
          ],
          "scattergeo": [
           {
            "marker": {
             "colorbar": {
              "outlinewidth": 0,
              "ticks": ""
             }
            },
            "type": "scattergeo"
           }
          ],
          "scattergl": [
           {
            "marker": {
             "line": {
              "color": "#283442"
             }
            },
            "type": "scattergl"
           }
          ],
          "scattermapbox": [
           {
            "marker": {
             "colorbar": {
              "outlinewidth": 0,
              "ticks": ""
             }
            },
            "type": "scattermapbox"
           }
          ],
          "scatterpolar": [
           {
            "marker": {
             "colorbar": {
              "outlinewidth": 0,
              "ticks": ""
             }
            },
            "type": "scatterpolar"
           }
          ],
          "scatterpolargl": [
           {
            "marker": {
             "colorbar": {
              "outlinewidth": 0,
              "ticks": ""
             }
            },
            "type": "scatterpolargl"
           }
          ],
          "scatterternary": [
           {
            "marker": {
             "colorbar": {
              "outlinewidth": 0,
              "ticks": ""
             }
            },
            "type": "scatterternary"
           }
          ],
          "surface": [
           {
            "colorbar": {
             "outlinewidth": 0,
             "ticks": ""
            },
            "colorscale": [
             [
              0,
              "#0d0887"
             ],
             [
              0.1111111111111111,
              "#46039f"
             ],
             [
              0.2222222222222222,
              "#7201a8"
             ],
             [
              0.3333333333333333,
              "#9c179e"
             ],
             [
              0.4444444444444444,
              "#bd3786"
             ],
             [
              0.5555555555555556,
              "#d8576b"
             ],
             [
              0.6666666666666666,
              "#ed7953"
             ],
             [
              0.7777777777777778,
              "#fb9f3a"
             ],
             [
              0.8888888888888888,
              "#fdca26"
             ],
             [
              1,
              "#f0f921"
             ]
            ],
            "type": "surface"
           }
          ],
          "table": [
           {
            "cells": {
             "fill": {
              "color": "#506784"
             },
             "line": {
              "color": "rgb(17,17,17)"
             }
            },
            "header": {
             "fill": {
              "color": "#2a3f5f"
             },
             "line": {
              "color": "rgb(17,17,17)"
             }
            },
            "type": "table"
           }
          ]
         },
         "layout": {
          "annotationdefaults": {
           "arrowcolor": "#f2f5fa",
           "arrowhead": 0,
           "arrowwidth": 1
          },
          "autotypenumbers": "strict",
          "coloraxis": {
           "colorbar": {
            "outlinewidth": 0,
            "ticks": ""
           }
          },
          "colorscale": {
           "diverging": [
            [
             0,
             "#8e0152"
            ],
            [
             0.1,
             "#c51b7d"
            ],
            [
             0.2,
             "#de77ae"
            ],
            [
             0.3,
             "#f1b6da"
            ],
            [
             0.4,
             "#fde0ef"
            ],
            [
             0.5,
             "#f7f7f7"
            ],
            [
             0.6,
             "#e6f5d0"
            ],
            [
             0.7,
             "#b8e186"
            ],
            [
             0.8,
             "#7fbc41"
            ],
            [
             0.9,
             "#4d9221"
            ],
            [
             1,
             "#276419"
            ]
           ],
           "sequential": [
            [
             0,
             "#0d0887"
            ],
            [
             0.1111111111111111,
             "#46039f"
            ],
            [
             0.2222222222222222,
             "#7201a8"
            ],
            [
             0.3333333333333333,
             "#9c179e"
            ],
            [
             0.4444444444444444,
             "#bd3786"
            ],
            [
             0.5555555555555556,
             "#d8576b"
            ],
            [
             0.6666666666666666,
             "#ed7953"
            ],
            [
             0.7777777777777778,
             "#fb9f3a"
            ],
            [
             0.8888888888888888,
             "#fdca26"
            ],
            [
             1,
             "#f0f921"
            ]
           ],
           "sequentialminus": [
            [
             0,
             "#0d0887"
            ],
            [
             0.1111111111111111,
             "#46039f"
            ],
            [
             0.2222222222222222,
             "#7201a8"
            ],
            [
             0.3333333333333333,
             "#9c179e"
            ],
            [
             0.4444444444444444,
             "#bd3786"
            ],
            [
             0.5555555555555556,
             "#d8576b"
            ],
            [
             0.6666666666666666,
             "#ed7953"
            ],
            [
             0.7777777777777778,
             "#fb9f3a"
            ],
            [
             0.8888888888888888,
             "#fdca26"
            ],
            [
             1,
             "#f0f921"
            ]
           ]
          },
          "colorway": [
           "#636efa",
           "#EF553B",
           "#00cc96",
           "#ab63fa",
           "#FFA15A",
           "#19d3f3",
           "#FF6692",
           "#B6E880",
           "#FF97FF",
           "#FECB52"
          ],
          "font": {
           "color": "#f2f5fa"
          },
          "geo": {
           "bgcolor": "rgb(17,17,17)",
           "lakecolor": "rgb(17,17,17)",
           "landcolor": "rgb(17,17,17)",
           "showlakes": true,
           "showland": true,
           "subunitcolor": "#506784"
          },
          "hoverlabel": {
           "align": "left"
          },
          "hovermode": "closest",
          "mapbox": {
           "style": "dark"
          },
          "paper_bgcolor": "rgb(17,17,17)",
          "plot_bgcolor": "rgb(17,17,17)",
          "polar": {
           "angularaxis": {
            "gridcolor": "#506784",
            "linecolor": "#506784",
            "ticks": ""
           },
           "bgcolor": "rgb(17,17,17)",
           "radialaxis": {
            "gridcolor": "#506784",
            "linecolor": "#506784",
            "ticks": ""
           }
          },
          "scene": {
           "xaxis": {
            "backgroundcolor": "rgb(17,17,17)",
            "gridcolor": "#506784",
            "gridwidth": 2,
            "linecolor": "#506784",
            "showbackground": true,
            "ticks": "",
            "zerolinecolor": "#C8D4E3"
           },
           "yaxis": {
            "backgroundcolor": "rgb(17,17,17)",
            "gridcolor": "#506784",
            "gridwidth": 2,
            "linecolor": "#506784",
            "showbackground": true,
            "ticks": "",
            "zerolinecolor": "#C8D4E3"
           },
           "zaxis": {
            "backgroundcolor": "rgb(17,17,17)",
            "gridcolor": "#506784",
            "gridwidth": 2,
            "linecolor": "#506784",
            "showbackground": true,
            "ticks": "",
            "zerolinecolor": "#C8D4E3"
           }
          },
          "shapedefaults": {
           "line": {
            "color": "#f2f5fa"
           }
          },
          "sliderdefaults": {
           "bgcolor": "#C8D4E3",
           "bordercolor": "rgb(17,17,17)",
           "borderwidth": 1,
           "tickwidth": 0
          },
          "ternary": {
           "aaxis": {
            "gridcolor": "#506784",
            "linecolor": "#506784",
            "ticks": ""
           },
           "baxis": {
            "gridcolor": "#506784",
            "linecolor": "#506784",
            "ticks": ""
           },
           "bgcolor": "rgb(17,17,17)",
           "caxis": {
            "gridcolor": "#506784",
            "linecolor": "#506784",
            "ticks": ""
           }
          },
          "title": {
           "x": 0.05
          },
          "updatemenudefaults": {
           "bgcolor": "#506784",
           "borderwidth": 0
          },
          "xaxis": {
           "automargin": true,
           "gridcolor": "#283442",
           "linecolor": "#506784",
           "ticks": "",
           "title": {
            "standoff": 15
           },
           "zerolinecolor": "#283442",
           "zerolinewidth": 2
          },
          "yaxis": {
           "automargin": true,
           "gridcolor": "#283442",
           "linecolor": "#506784",
           "ticks": "",
           "title": {
            "standoff": 15
           },
           "zerolinecolor": "#283442",
           "zerolinewidth": 2
          }
         }
        },
        "xaxis": {
         "anchor": "y",
         "domain": [
          0,
          1
         ],
         "title": {
          "text": "OperationalFrom"
         }
        },
        "yaxis": {
         "anchor": "x",
         "domain": [
          0,
          1
         ],
         "title": {
          "text": "Capacity"
         }
        }
       }
      },
      "text/html": [
       "<div>                            <div id=\"3831decf-4f0d-4133-97a9-3ecd3a008b12\" class=\"plotly-graph-div\" style=\"height:525px; width:100%;\"></div>            <script type=\"text/javascript\">                require([\"plotly\"], function(Plotly) {                    window.PLOTLYENV=window.PLOTLYENV || {};                                    if (document.getElementById(\"3831decf-4f0d-4133-97a9-3ecd3a008b12\")) {                    Plotly.newPlot(                        \"3831decf-4f0d-4133-97a9-3ecd3a008b12\",                        [{\"hovertemplate\":\"Status=Operational<br>OperationalFrom=%{x}<br>Capacity=%{y}<extra></extra>\",\"legendgroup\":\"Operational\",\"marker\":{\"color\":\"#ff5600\",\"symbol\":\"circle\"},\"mode\":\"markers\",\"name\":\"Operational\",\"orientation\":\"v\",\"showlegend\":true,\"type\":\"scatter\",\"x\":[\"1974-12-19T00:00:00\",\"1980-03-26T00:00:00\",\"1976-10-01T00:00:00\",\"1987-11-17T00:00:00\",\"1988-07-29T00:00:00\",\"1988-10-17T00:00:00\",\"1974-08-01T00:00:00\",\"1975-03-01T00:00:00\",\"1977-03-01T00:00:00\",\"1977-03-18T00:00:00\",\"1975-11-03T00:00:00\",\"1985-09-16T00:00:00\",\"1987-08-02T00:00:00\",\"1984-12-19T00:00:00\",\"1975-05-08T00:00:00\",\"1977-04-01T00:00:00\",\"1985-06-29T00:00:00\",\"1986-08-19T00:00:00\",\"1987-11-24T00:00:00\",\"1984-12-13T00:00:00\",\"1990-08-13T00:00:00\",\"1993-08-03T00:00:00\",\"1974-07-01T00:00:00\",\"1978-07-31T00:00:00\",\"1985-05-07T00:00:00\",\"1986-03-13T00:00:00\",\"1975-08-28T00:00:00\",\"1978-07-01T00:00:00\",\"1970-06-09T00:00:00\",\"1971-11-16T00:00:00\",\"1988-01-23T00:00:00\",\"1977-12-01T00:00:00\",\"1981-07-30T00:00:00\",\"1975-07-28T00:00:00\",\"1985-07-01T00:00:00\",\"1971-03-07T00:00:00\",\"1975-12-31T00:00:00\",\"1979-09-05T00:00:00\",\"1986-12-20T00:00:00\",\"1984-01-01T00:00:00\",\"1984-10-19T00:00:00\",\"1986-02-01T00:00:00\",\"1990-01-08T00:00:00\",\"1981-12-01T00:00:00\",\"1984-03-01T00:00:00\",\"1975-12-26T00:00:00\",\"1986-04-23T00:00:00\",\"1971-06-30T00:00:00\",\"1969-12-01T00:00:00\",\"1988-03-11T00:00:00\",\"1978-06-06T00:00:00\",\"1980-12-14T00:00:00\",\"1973-07-15T00:00:00\",\"1974-09-09T00:00:00\",\"1974-12-16T00:00:00\",\"1971-12-31T00:00:00\",\"1986-01-28T00:00:00\",\"1986-09-19T00:00:00\",\"1988-01-08T00:00:00\",\"1974-07-05T00:00:00\",\"1974-12-23T00:00:00\",\"1987-11-18T00:00:00\",\"1970-12-21T00:00:00\",\"1972-10-01T00:00:00\",\"1973-12-16T00:00:00\",\"1974-12-21T00:00:00\",\"1973-02-18T00:00:00\",\"1973-03-10T00:00:00\",\"1970-07-01T00:00:00\",\"1986-06-16T00:00:00\",\"1977-06-30T00:00:00\",\"1981-10-13T00:00:00\",\"1990-08-19T00:00:00\",\"1981-07-01T00:00:00\",\"1982-06-01T00:00:00\",\"1987-05-02T00:00:00\",\"1988-08-25T00:00:00\",\"1989-06-19T00:00:00\",\"1976-12-21T00:00:00\",\"1983-08-08T00:00:00\",\"1984-01-01T00:00:00\",\"1972-12-22T00:00:00\",\"1973-05-01T00:00:00\",\"1983-06-08T00:00:00\",\"1985-02-12T00:00:00\",\"1972-12-14T00:00:00\",\"1973-09-07T00:00:00\",\"1987-06-01T00:00:00\",\"1989-05-20T00:00:00\",\"1985-09-24T00:00:00\",\"1996-05-27T00:00:00\",\"2016-10-19T00:00:00\",\"1985-09-03T00:00:00\"],\"xaxis\":\"x\",\"y\":[850.0,912.0,835.0,836.0,1120.0,1120.0,1065.0,1065.0,1065.0,821.0,821.0,1120.0,1120.0,1171.0,845.0,845.0,1145.0,1145.0,950.0,1100.0,1150.0,1150.0,778.0,906.0,1084.0,1106.0,1030.0,1100.0,794.0,794.0,1093.0,829.0,829.0,821.0,1250.0,700.0,777.0,784.0,1067.0,1078.0,1078.0,1055.0,1055.0,1180.0,1180.0,870.0,1159.0,545.0,620.0,1100.0,907.0,907.0,887.0,887.0,887.0,805.0,1221.0,1304.0,1304.0,1065.0,1065.0,1205.0,497.0,497.0,530.0,530.0,789.0,789.0,470.0,966.0,1090.0,1115.0,1149.0,1148.0,1148.0,900.0,1250.0,1250.0,830.0,830.0,900.0,788.0,788.0,1065.0,1065.0,693.0,693.0,1122.0,1101.0,1104.0,1218.0,1165.0,1170.0],\"yaxis\":\"y\"},{\"hovertemplate\":\"Status=Shutdown<br>OperationalFrom=%{x}<br>Capacity=%{y}<extra></extra>\",\"legendgroup\":\"Shutdown\",\"marker\":{\"color\":\"#ffe1cc\",\"symbol\":\"circle\"},\"mode\":\"markers\",\"name\":\"Shutdown\",\"orientation\":\"v\",\"showlegend\":true,\"type\":\"scatter\",\"x\":[\"1963-03-29T00:00:00\",\"1965-09-01T00:00:00\",\"1963-12-18T00:00:00\",\"1977-03-13T00:00:00\",\"1960-07-04T00:00:00\",\"1975-02-01T00:00:00\",\"1964-07-01T00:00:00\",\"1966-08-07T00:00:00\",\"1973-09-26T00:00:00\",\"1979-07-01T00:00:00\",\"1957-10-19T00:00:00\",\"1968-01-01T00:00:00\",\"1963-11-01T00:00:00\",\"1963-08-01T00:00:00\",\"1962-10-01T00:00:00\",\"1974-08-01T00:00:00\",\"1976-08-30T00:00:00\",\"1974-06-16T00:00:00\",\"1969-11-07T00:00:00\",\"1972-12-28T00:00:00\",\"1971-03-01T00:00:00\",\"1969-12-01T00:00:00\",\"1966-08-01T00:00:00\",\"1967-06-01T00:00:00\",\"1972-12-01T00:00:00\",\"1963-11-01T00:00:00\",\"1975-04-17T00:00:00\",\"1968-01-01T00:00:00\",\"1983-08-08T00:00:00\",\"1984-04-01T00:00:00\",\"1967-03-01T00:00:00\",\"1958-05-26T00:00:00\",\"1986-08-01T00:00:00\",\"1974-09-02T00:00:00\",\"1978-12-30T00:00:00\",\"1976-05-20T00:00:00\",\"1972-11-30T00:00:00\",\"1961-07-01T00:00:00\",\"1973-12-31T00:00:00\",\"1974-09-17T00:00:00\"],\"xaxis\":\"x\",\"y\":[72.0,17.0,17.0,825.0,192.0,601.0,22.0,60.0,478.0,330.0,24.0,582.0,75.0,65.0,265.0,873.0,965.0,535.0,50.0,825.0,660.0,650.0,59.0,40.0,655.0,11.0,918.0,436.0,1070.0,1070.0,3.0,60.0,809.0,819.0,906.0,1130.0,514.0,175.0,1040.0,1040.0],\"yaxis\":\"y\"},{\"hovertemplate\":\"Status=Suspended Construction<br>OperationalFrom=%{x}<br>Capacity=%{y}<extra></extra>\",\"legendgroup\":\"Suspended Construction\",\"marker\":{\"color\":\"#ff0b00\",\"symbol\":\"circle\"},\"mode\":\"markers\",\"name\":\"Suspended Construction\",\"orientation\":\"v\",\"showlegend\":true,\"type\":\"scatter\",\"x\":[null,null],\"xaxis\":\"x\",\"y\":[1117.0,1117.0],\"yaxis\":\"y\"},{\"hovertemplate\":\"Status=Under Construction<br>OperationalFrom=%{x}<br>Capacity=%{y}<extra></extra>\",\"legendgroup\":\"Under Construction\",\"marker\":{\"color\":\"#ff3c33\",\"symbol\":\"circle\"},\"mode\":\"markers\",\"name\":\"Under Construction\",\"orientation\":\"v\",\"showlegend\":true,\"type\":\"scatter\",\"x\":[null,null],\"xaxis\":\"x\",\"y\":[1117.0,1117.0],\"yaxis\":\"y\"}],                        {\"legend\":{\"title\":{\"text\":\"Status\"},\"tracegroupgap\":0},\"margin\":{\"t\":60},\"template\":{\"data\":{\"bar\":[{\"error_x\":{\"color\":\"#f2f5fa\"},\"error_y\":{\"color\":\"#f2f5fa\"},\"marker\":{\"line\":{\"color\":\"rgb(17,17,17)\",\"width\":0.5},\"pattern\":{\"fillmode\":\"overlay\",\"size\":10,\"solidity\":0.2}},\"type\":\"bar\"}],\"barpolar\":[{\"marker\":{\"line\":{\"color\":\"rgb(17,17,17)\",\"width\":0.5},\"pattern\":{\"fillmode\":\"overlay\",\"size\":10,\"solidity\":0.2}},\"type\":\"barpolar\"}],\"carpet\":[{\"aaxis\":{\"endlinecolor\":\"#A2B1C6\",\"gridcolor\":\"#506784\",\"linecolor\":\"#506784\",\"minorgridcolor\":\"#506784\",\"startlinecolor\":\"#A2B1C6\"},\"baxis\":{\"endlinecolor\":\"#A2B1C6\",\"gridcolor\":\"#506784\",\"linecolor\":\"#506784\",\"minorgridcolor\":\"#506784\",\"startlinecolor\":\"#A2B1C6\"},\"type\":\"carpet\"}],\"choropleth\":[{\"colorbar\":{\"outlinewidth\":0,\"ticks\":\"\"},\"type\":\"choropleth\"}],\"contour\":[{\"colorbar\":{\"outlinewidth\":0,\"ticks\":\"\"},\"colorscale\":[[0.0,\"#0d0887\"],[0.1111111111111111,\"#46039f\"],[0.2222222222222222,\"#7201a8\"],[0.3333333333333333,\"#9c179e\"],[0.4444444444444444,\"#bd3786\"],[0.5555555555555556,\"#d8576b\"],[0.6666666666666666,\"#ed7953\"],[0.7777777777777778,\"#fb9f3a\"],[0.8888888888888888,\"#fdca26\"],[1.0,\"#f0f921\"]],\"type\":\"contour\"}],\"contourcarpet\":[{\"colorbar\":{\"outlinewidth\":0,\"ticks\":\"\"},\"type\":\"contourcarpet\"}],\"heatmap\":[{\"colorbar\":{\"outlinewidth\":0,\"ticks\":\"\"},\"colorscale\":[[0.0,\"#0d0887\"],[0.1111111111111111,\"#46039f\"],[0.2222222222222222,\"#7201a8\"],[0.3333333333333333,\"#9c179e\"],[0.4444444444444444,\"#bd3786\"],[0.5555555555555556,\"#d8576b\"],[0.6666666666666666,\"#ed7953\"],[0.7777777777777778,\"#fb9f3a\"],[0.8888888888888888,\"#fdca26\"],[1.0,\"#f0f921\"]],\"type\":\"heatmap\"}],\"heatmapgl\":[{\"colorbar\":{\"outlinewidth\":0,\"ticks\":\"\"},\"colorscale\":[[0.0,\"#0d0887\"],[0.1111111111111111,\"#46039f\"],[0.2222222222222222,\"#7201a8\"],[0.3333333333333333,\"#9c179e\"],[0.4444444444444444,\"#bd3786\"],[0.5555555555555556,\"#d8576b\"],[0.6666666666666666,\"#ed7953\"],[0.7777777777777778,\"#fb9f3a\"],[0.8888888888888888,\"#fdca26\"],[1.0,\"#f0f921\"]],\"type\":\"heatmapgl\"}],\"histogram\":[{\"marker\":{\"pattern\":{\"fillmode\":\"overlay\",\"size\":10,\"solidity\":0.2}},\"type\":\"histogram\"}],\"histogram2d\":[{\"colorbar\":{\"outlinewidth\":0,\"ticks\":\"\"},\"colorscale\":[[0.0,\"#0d0887\"],[0.1111111111111111,\"#46039f\"],[0.2222222222222222,\"#7201a8\"],[0.3333333333333333,\"#9c179e\"],[0.4444444444444444,\"#bd3786\"],[0.5555555555555556,\"#d8576b\"],[0.6666666666666666,\"#ed7953\"],[0.7777777777777778,\"#fb9f3a\"],[0.8888888888888888,\"#fdca26\"],[1.0,\"#f0f921\"]],\"type\":\"histogram2d\"}],\"histogram2dcontour\":[{\"colorbar\":{\"outlinewidth\":0,\"ticks\":\"\"},\"colorscale\":[[0.0,\"#0d0887\"],[0.1111111111111111,\"#46039f\"],[0.2222222222222222,\"#7201a8\"],[0.3333333333333333,\"#9c179e\"],[0.4444444444444444,\"#bd3786\"],[0.5555555555555556,\"#d8576b\"],[0.6666666666666666,\"#ed7953\"],[0.7777777777777778,\"#fb9f3a\"],[0.8888888888888888,\"#fdca26\"],[1.0,\"#f0f921\"]],\"type\":\"histogram2dcontour\"}],\"mesh3d\":[{\"colorbar\":{\"outlinewidth\":0,\"ticks\":\"\"},\"type\":\"mesh3d\"}],\"parcoords\":[{\"line\":{\"colorbar\":{\"outlinewidth\":0,\"ticks\":\"\"}},\"type\":\"parcoords\"}],\"pie\":[{\"automargin\":true,\"type\":\"pie\"}],\"scatter\":[{\"marker\":{\"line\":{\"color\":\"#283442\"}},\"type\":\"scatter\"}],\"scatter3d\":[{\"line\":{\"colorbar\":{\"outlinewidth\":0,\"ticks\":\"\"}},\"marker\":{\"colorbar\":{\"outlinewidth\":0,\"ticks\":\"\"}},\"type\":\"scatter3d\"}],\"scattercarpet\":[{\"marker\":{\"colorbar\":{\"outlinewidth\":0,\"ticks\":\"\"}},\"type\":\"scattercarpet\"}],\"scattergeo\":[{\"marker\":{\"colorbar\":{\"outlinewidth\":0,\"ticks\":\"\"}},\"type\":\"scattergeo\"}],\"scattergl\":[{\"marker\":{\"line\":{\"color\":\"#283442\"}},\"type\":\"scattergl\"}],\"scattermapbox\":[{\"marker\":{\"colorbar\":{\"outlinewidth\":0,\"ticks\":\"\"}},\"type\":\"scattermapbox\"}],\"scatterpolar\":[{\"marker\":{\"colorbar\":{\"outlinewidth\":0,\"ticks\":\"\"}},\"type\":\"scatterpolar\"}],\"scatterpolargl\":[{\"marker\":{\"colorbar\":{\"outlinewidth\":0,\"ticks\":\"\"}},\"type\":\"scatterpolargl\"}],\"scatterternary\":[{\"marker\":{\"colorbar\":{\"outlinewidth\":0,\"ticks\":\"\"}},\"type\":\"scatterternary\"}],\"surface\":[{\"colorbar\":{\"outlinewidth\":0,\"ticks\":\"\"},\"colorscale\":[[0.0,\"#0d0887\"],[0.1111111111111111,\"#46039f\"],[0.2222222222222222,\"#7201a8\"],[0.3333333333333333,\"#9c179e\"],[0.4444444444444444,\"#bd3786\"],[0.5555555555555556,\"#d8576b\"],[0.6666666666666666,\"#ed7953\"],[0.7777777777777778,\"#fb9f3a\"],[0.8888888888888888,\"#fdca26\"],[1.0,\"#f0f921\"]],\"type\":\"surface\"}],\"table\":[{\"cells\":{\"fill\":{\"color\":\"#506784\"},\"line\":{\"color\":\"rgb(17,17,17)\"}},\"header\":{\"fill\":{\"color\":\"#2a3f5f\"},\"line\":{\"color\":\"rgb(17,17,17)\"}},\"type\":\"table\"}]},\"layout\":{\"annotationdefaults\":{\"arrowcolor\":\"#f2f5fa\",\"arrowhead\":0,\"arrowwidth\":1},\"autotypenumbers\":\"strict\",\"coloraxis\":{\"colorbar\":{\"outlinewidth\":0,\"ticks\":\"\"}},\"colorscale\":{\"diverging\":[[0,\"#8e0152\"],[0.1,\"#c51b7d\"],[0.2,\"#de77ae\"],[0.3,\"#f1b6da\"],[0.4,\"#fde0ef\"],[0.5,\"#f7f7f7\"],[0.6,\"#e6f5d0\"],[0.7,\"#b8e186\"],[0.8,\"#7fbc41\"],[0.9,\"#4d9221\"],[1,\"#276419\"]],\"sequential\":[[0.0,\"#0d0887\"],[0.1111111111111111,\"#46039f\"],[0.2222222222222222,\"#7201a8\"],[0.3333333333333333,\"#9c179e\"],[0.4444444444444444,\"#bd3786\"],[0.5555555555555556,\"#d8576b\"],[0.6666666666666666,\"#ed7953\"],[0.7777777777777778,\"#fb9f3a\"],[0.8888888888888888,\"#fdca26\"],[1.0,\"#f0f921\"]],\"sequentialminus\":[[0.0,\"#0d0887\"],[0.1111111111111111,\"#46039f\"],[0.2222222222222222,\"#7201a8\"],[0.3333333333333333,\"#9c179e\"],[0.4444444444444444,\"#bd3786\"],[0.5555555555555556,\"#d8576b\"],[0.6666666666666666,\"#ed7953\"],[0.7777777777777778,\"#fb9f3a\"],[0.8888888888888888,\"#fdca26\"],[1.0,\"#f0f921\"]]},\"colorway\":[\"#636efa\",\"#EF553B\",\"#00cc96\",\"#ab63fa\",\"#FFA15A\",\"#19d3f3\",\"#FF6692\",\"#B6E880\",\"#FF97FF\",\"#FECB52\"],\"font\":{\"color\":\"#f2f5fa\"},\"geo\":{\"bgcolor\":\"rgb(17,17,17)\",\"lakecolor\":\"rgb(17,17,17)\",\"landcolor\":\"rgb(17,17,17)\",\"showlakes\":true,\"showland\":true,\"subunitcolor\":\"#506784\"},\"hoverlabel\":{\"align\":\"left\"},\"hovermode\":\"closest\",\"mapbox\":{\"style\":\"dark\"},\"paper_bgcolor\":\"rgb(17,17,17)\",\"plot_bgcolor\":\"rgb(17,17,17)\",\"polar\":{\"angularaxis\":{\"gridcolor\":\"#506784\",\"linecolor\":\"#506784\",\"ticks\":\"\"},\"bgcolor\":\"rgb(17,17,17)\",\"radialaxis\":{\"gridcolor\":\"#506784\",\"linecolor\":\"#506784\",\"ticks\":\"\"}},\"scene\":{\"xaxis\":{\"backgroundcolor\":\"rgb(17,17,17)\",\"gridcolor\":\"#506784\",\"gridwidth\":2,\"linecolor\":\"#506784\",\"showbackground\":true,\"ticks\":\"\",\"zerolinecolor\":\"#C8D4E3\"},\"yaxis\":{\"backgroundcolor\":\"rgb(17,17,17)\",\"gridcolor\":\"#506784\",\"gridwidth\":2,\"linecolor\":\"#506784\",\"showbackground\":true,\"ticks\":\"\",\"zerolinecolor\":\"#C8D4E3\"},\"zaxis\":{\"backgroundcolor\":\"rgb(17,17,17)\",\"gridcolor\":\"#506784\",\"gridwidth\":2,\"linecolor\":\"#506784\",\"showbackground\":true,\"ticks\":\"\",\"zerolinecolor\":\"#C8D4E3\"}},\"shapedefaults\":{\"line\":{\"color\":\"#f2f5fa\"}},\"sliderdefaults\":{\"bgcolor\":\"#C8D4E3\",\"bordercolor\":\"rgb(17,17,17)\",\"borderwidth\":1,\"tickwidth\":0},\"ternary\":{\"aaxis\":{\"gridcolor\":\"#506784\",\"linecolor\":\"#506784\",\"ticks\":\"\"},\"baxis\":{\"gridcolor\":\"#506784\",\"linecolor\":\"#506784\",\"ticks\":\"\"},\"bgcolor\":\"rgb(17,17,17)\",\"caxis\":{\"gridcolor\":\"#506784\",\"linecolor\":\"#506784\",\"ticks\":\"\"}},\"title\":{\"x\":0.05},\"updatemenudefaults\":{\"bgcolor\":\"#506784\",\"borderwidth\":0},\"xaxis\":{\"automargin\":true,\"gridcolor\":\"#283442\",\"linecolor\":\"#506784\",\"ticks\":\"\",\"title\":{\"standoff\":15},\"zerolinecolor\":\"#283442\",\"zerolinewidth\":2},\"yaxis\":{\"automargin\":true,\"gridcolor\":\"#283442\",\"linecolor\":\"#506784\",\"ticks\":\"\",\"title\":{\"standoff\":15},\"zerolinecolor\":\"#283442\",\"zerolinewidth\":2}}},\"xaxis\":{\"anchor\":\"y\",\"domain\":[0.0,1.0],\"title\":{\"text\":\"OperationalFrom\"}},\"yaxis\":{\"anchor\":\"x\",\"domain\":[0.0,1.0],\"title\":{\"text\":\"Capacity\"}}},                        {\"responsive\": true}                    ).then(function(){\n",
       "                            \n",
       "var gd = document.getElementById('3831decf-4f0d-4133-97a9-3ecd3a008b12');\n",
       "var x = new MutationObserver(function (mutations, observer) {{\n",
       "        var display = window.getComputedStyle(gd).display;\n",
       "        if (!display || display === 'none') {{\n",
       "            console.log([gd, 'removed!']);\n",
       "            Plotly.purge(gd);\n",
       "            observer.disconnect();\n",
       "        }}\n",
       "}});\n",
       "\n",
       "// Listen for the removal of the full notebook cells\n",
       "var notebookContainer = gd.closest('#notebook-container');\n",
       "if (notebookContainer) {{\n",
       "    x.observe(notebookContainer, {childList: true});\n",
       "}}\n",
       "\n",
       "// Listen for the clearing of the current output cell\n",
       "var outputEl = gd.closest('.output');\n",
       "if (outputEl) {{\n",
       "    x.observe(outputEl, {childList: true});\n",
       "}}\n",
       "\n",
       "                        })                };                });            </script>        </div>"
      ]
     },
     "metadata": {},
     "output_type": "display_data"
    }
   ],
   "source": [
    "#draw life exp for ochine\n",
    "px.scatter(df.query('Country == \"United States\"'),x =\"OperationalFrom\" , y =\"Capacity\",color= \"Status\",\n",
    "           template='plotly_dark',color_discrete_sequence=colorscales2)"
   ]
  },
  {
   "cell_type": "code",
   "execution_count": 268,
   "metadata": {},
   "outputs": [],
   "source": [
    "country_power=(df.groupby(by='Country',as_index=False).sum()).sort_values('Capacity')\n",
    "# country_power"
   ]
  },
  {
   "cell_type": "code",
   "execution_count": 269,
   "metadata": {},
   "outputs": [
    {
     "data": {
      "application/vnd.plotly.v1+json": {
       "config": {
        "plotlyServerURL": "https://plot.ly"
       },
       "data": [
        {
         "alignmentgroup": "True",
         "hovertemplate": "Capacity=%{x}<br>Country=%{y}<extra></extra>",
         "legendgroup": "",
         "marker": {
          "color": "#ff5600",
          "pattern": {
           "shape": ""
          }
         },
         "name": "",
         "offsetgroup": "",
         "orientation": "h",
         "showlegend": false,
         "textposition": "auto",
         "type": "bar",
         "x": [
          0,
          0,
          52,
          549,
          632,
          692,
          751,
          1437,
          1557,
          1638,
          1665,
          1842,
          1889,
          2160,
          2220,
          3012,
          3194,
          3265,
          3342,
          3381,
          3643,
          3750,
          3760,
          3784,
          5380,
          5544,
          5644,
          7652,
          7724,
          9972,
          11304,
          15746,
          18383,
          18865,
          25593,
          29697,
          37198,
          51484,
          64693,
          68538,
          113413
         ],
         "xaxis": "x",
         "y": [
          "Indonesia",
          "Egypt",
          "Kazakhstan",
          "Netherlands",
          "Slovenia",
          "Austria",
          "Armenia",
          "Italy",
          "Mexico",
          "Hungary",
          "Argentina",
          "South Africa",
          "Iran",
          "Bangladesh",
          "Belarus",
          "Switzerland",
          "Brazil",
          "Romania",
          "Turkey",
          "Pakistan",
          "Slovakia",
          "Lithuania",
          "Finland",
          "Czechia",
          "United Arab Emirates",
          "Bulgaria",
          "Belgium",
          "Taiwan",
          "Spain",
          "Sweden",
          "India",
          "Canada",
          "United Kingdom",
          "Ukraine",
          "Germany",
          "South Korea",
          "Russia",
          "Japan",
          "China",
          "France",
          "United States"
         ],
         "yaxis": "y"
        }
       ],
       "layout": {
        "barmode": "relative",
        "legend": {
         "tracegroupgap": 0
        },
        "margin": {
         "t": 60
        },
        "template": {
         "data": {
          "bar": [
           {
            "error_x": {
             "color": "#f2f5fa"
            },
            "error_y": {
             "color": "#f2f5fa"
            },
            "marker": {
             "line": {
              "color": "rgb(17,17,17)",
              "width": 0.5
             },
             "pattern": {
              "fillmode": "overlay",
              "size": 10,
              "solidity": 0.2
             }
            },
            "type": "bar"
           }
          ],
          "barpolar": [
           {
            "marker": {
             "line": {
              "color": "rgb(17,17,17)",
              "width": 0.5
             },
             "pattern": {
              "fillmode": "overlay",
              "size": 10,
              "solidity": 0.2
             }
            },
            "type": "barpolar"
           }
          ],
          "carpet": [
           {
            "aaxis": {
             "endlinecolor": "#A2B1C6",
             "gridcolor": "#506784",
             "linecolor": "#506784",
             "minorgridcolor": "#506784",
             "startlinecolor": "#A2B1C6"
            },
            "baxis": {
             "endlinecolor": "#A2B1C6",
             "gridcolor": "#506784",
             "linecolor": "#506784",
             "minorgridcolor": "#506784",
             "startlinecolor": "#A2B1C6"
            },
            "type": "carpet"
           }
          ],
          "choropleth": [
           {
            "colorbar": {
             "outlinewidth": 0,
             "ticks": ""
            },
            "type": "choropleth"
           }
          ],
          "contour": [
           {
            "colorbar": {
             "outlinewidth": 0,
             "ticks": ""
            },
            "colorscale": [
             [
              0,
              "#0d0887"
             ],
             [
              0.1111111111111111,
              "#46039f"
             ],
             [
              0.2222222222222222,
              "#7201a8"
             ],
             [
              0.3333333333333333,
              "#9c179e"
             ],
             [
              0.4444444444444444,
              "#bd3786"
             ],
             [
              0.5555555555555556,
              "#d8576b"
             ],
             [
              0.6666666666666666,
              "#ed7953"
             ],
             [
              0.7777777777777778,
              "#fb9f3a"
             ],
             [
              0.8888888888888888,
              "#fdca26"
             ],
             [
              1,
              "#f0f921"
             ]
            ],
            "type": "contour"
           }
          ],
          "contourcarpet": [
           {
            "colorbar": {
             "outlinewidth": 0,
             "ticks": ""
            },
            "type": "contourcarpet"
           }
          ],
          "heatmap": [
           {
            "colorbar": {
             "outlinewidth": 0,
             "ticks": ""
            },
            "colorscale": [
             [
              0,
              "#0d0887"
             ],
             [
              0.1111111111111111,
              "#46039f"
             ],
             [
              0.2222222222222222,
              "#7201a8"
             ],
             [
              0.3333333333333333,
              "#9c179e"
             ],
             [
              0.4444444444444444,
              "#bd3786"
             ],
             [
              0.5555555555555556,
              "#d8576b"
             ],
             [
              0.6666666666666666,
              "#ed7953"
             ],
             [
              0.7777777777777778,
              "#fb9f3a"
             ],
             [
              0.8888888888888888,
              "#fdca26"
             ],
             [
              1,
              "#f0f921"
             ]
            ],
            "type": "heatmap"
           }
          ],
          "heatmapgl": [
           {
            "colorbar": {
             "outlinewidth": 0,
             "ticks": ""
            },
            "colorscale": [
             [
              0,
              "#0d0887"
             ],
             [
              0.1111111111111111,
              "#46039f"
             ],
             [
              0.2222222222222222,
              "#7201a8"
             ],
             [
              0.3333333333333333,
              "#9c179e"
             ],
             [
              0.4444444444444444,
              "#bd3786"
             ],
             [
              0.5555555555555556,
              "#d8576b"
             ],
             [
              0.6666666666666666,
              "#ed7953"
             ],
             [
              0.7777777777777778,
              "#fb9f3a"
             ],
             [
              0.8888888888888888,
              "#fdca26"
             ],
             [
              1,
              "#f0f921"
             ]
            ],
            "type": "heatmapgl"
           }
          ],
          "histogram": [
           {
            "marker": {
             "pattern": {
              "fillmode": "overlay",
              "size": 10,
              "solidity": 0.2
             }
            },
            "type": "histogram"
           }
          ],
          "histogram2d": [
           {
            "colorbar": {
             "outlinewidth": 0,
             "ticks": ""
            },
            "colorscale": [
             [
              0,
              "#0d0887"
             ],
             [
              0.1111111111111111,
              "#46039f"
             ],
             [
              0.2222222222222222,
              "#7201a8"
             ],
             [
              0.3333333333333333,
              "#9c179e"
             ],
             [
              0.4444444444444444,
              "#bd3786"
             ],
             [
              0.5555555555555556,
              "#d8576b"
             ],
             [
              0.6666666666666666,
              "#ed7953"
             ],
             [
              0.7777777777777778,
              "#fb9f3a"
             ],
             [
              0.8888888888888888,
              "#fdca26"
             ],
             [
              1,
              "#f0f921"
             ]
            ],
            "type": "histogram2d"
           }
          ],
          "histogram2dcontour": [
           {
            "colorbar": {
             "outlinewidth": 0,
             "ticks": ""
            },
            "colorscale": [
             [
              0,
              "#0d0887"
             ],
             [
              0.1111111111111111,
              "#46039f"
             ],
             [
              0.2222222222222222,
              "#7201a8"
             ],
             [
              0.3333333333333333,
              "#9c179e"
             ],
             [
              0.4444444444444444,
              "#bd3786"
             ],
             [
              0.5555555555555556,
              "#d8576b"
             ],
             [
              0.6666666666666666,
              "#ed7953"
             ],
             [
              0.7777777777777778,
              "#fb9f3a"
             ],
             [
              0.8888888888888888,
              "#fdca26"
             ],
             [
              1,
              "#f0f921"
             ]
            ],
            "type": "histogram2dcontour"
           }
          ],
          "mesh3d": [
           {
            "colorbar": {
             "outlinewidth": 0,
             "ticks": ""
            },
            "type": "mesh3d"
           }
          ],
          "parcoords": [
           {
            "line": {
             "colorbar": {
              "outlinewidth": 0,
              "ticks": ""
             }
            },
            "type": "parcoords"
           }
          ],
          "pie": [
           {
            "automargin": true,
            "type": "pie"
           }
          ],
          "scatter": [
           {
            "marker": {
             "line": {
              "color": "#283442"
             }
            },
            "type": "scatter"
           }
          ],
          "scatter3d": [
           {
            "line": {
             "colorbar": {
              "outlinewidth": 0,
              "ticks": ""
             }
            },
            "marker": {
             "colorbar": {
              "outlinewidth": 0,
              "ticks": ""
             }
            },
            "type": "scatter3d"
           }
          ],
          "scattercarpet": [
           {
            "marker": {
             "colorbar": {
              "outlinewidth": 0,
              "ticks": ""
             }
            },
            "type": "scattercarpet"
           }
          ],
          "scattergeo": [
           {
            "marker": {
             "colorbar": {
              "outlinewidth": 0,
              "ticks": ""
             }
            },
            "type": "scattergeo"
           }
          ],
          "scattergl": [
           {
            "marker": {
             "line": {
              "color": "#283442"
             }
            },
            "type": "scattergl"
           }
          ],
          "scattermapbox": [
           {
            "marker": {
             "colorbar": {
              "outlinewidth": 0,
              "ticks": ""
             }
            },
            "type": "scattermapbox"
           }
          ],
          "scatterpolar": [
           {
            "marker": {
             "colorbar": {
              "outlinewidth": 0,
              "ticks": ""
             }
            },
            "type": "scatterpolar"
           }
          ],
          "scatterpolargl": [
           {
            "marker": {
             "colorbar": {
              "outlinewidth": 0,
              "ticks": ""
             }
            },
            "type": "scatterpolargl"
           }
          ],
          "scatterternary": [
           {
            "marker": {
             "colorbar": {
              "outlinewidth": 0,
              "ticks": ""
             }
            },
            "type": "scatterternary"
           }
          ],
          "surface": [
           {
            "colorbar": {
             "outlinewidth": 0,
             "ticks": ""
            },
            "colorscale": [
             [
              0,
              "#0d0887"
             ],
             [
              0.1111111111111111,
              "#46039f"
             ],
             [
              0.2222222222222222,
              "#7201a8"
             ],
             [
              0.3333333333333333,
              "#9c179e"
             ],
             [
              0.4444444444444444,
              "#bd3786"
             ],
             [
              0.5555555555555556,
              "#d8576b"
             ],
             [
              0.6666666666666666,
              "#ed7953"
             ],
             [
              0.7777777777777778,
              "#fb9f3a"
             ],
             [
              0.8888888888888888,
              "#fdca26"
             ],
             [
              1,
              "#f0f921"
             ]
            ],
            "type": "surface"
           }
          ],
          "table": [
           {
            "cells": {
             "fill": {
              "color": "#506784"
             },
             "line": {
              "color": "rgb(17,17,17)"
             }
            },
            "header": {
             "fill": {
              "color": "#2a3f5f"
             },
             "line": {
              "color": "rgb(17,17,17)"
             }
            },
            "type": "table"
           }
          ]
         },
         "layout": {
          "annotationdefaults": {
           "arrowcolor": "#f2f5fa",
           "arrowhead": 0,
           "arrowwidth": 1
          },
          "autotypenumbers": "strict",
          "coloraxis": {
           "colorbar": {
            "outlinewidth": 0,
            "ticks": ""
           }
          },
          "colorscale": {
           "diverging": [
            [
             0,
             "#8e0152"
            ],
            [
             0.1,
             "#c51b7d"
            ],
            [
             0.2,
             "#de77ae"
            ],
            [
             0.3,
             "#f1b6da"
            ],
            [
             0.4,
             "#fde0ef"
            ],
            [
             0.5,
             "#f7f7f7"
            ],
            [
             0.6,
             "#e6f5d0"
            ],
            [
             0.7,
             "#b8e186"
            ],
            [
             0.8,
             "#7fbc41"
            ],
            [
             0.9,
             "#4d9221"
            ],
            [
             1,
             "#276419"
            ]
           ],
           "sequential": [
            [
             0,
             "#0d0887"
            ],
            [
             0.1111111111111111,
             "#46039f"
            ],
            [
             0.2222222222222222,
             "#7201a8"
            ],
            [
             0.3333333333333333,
             "#9c179e"
            ],
            [
             0.4444444444444444,
             "#bd3786"
            ],
            [
             0.5555555555555556,
             "#d8576b"
            ],
            [
             0.6666666666666666,
             "#ed7953"
            ],
            [
             0.7777777777777778,
             "#fb9f3a"
            ],
            [
             0.8888888888888888,
             "#fdca26"
            ],
            [
             1,
             "#f0f921"
            ]
           ],
           "sequentialminus": [
            [
             0,
             "#0d0887"
            ],
            [
             0.1111111111111111,
             "#46039f"
            ],
            [
             0.2222222222222222,
             "#7201a8"
            ],
            [
             0.3333333333333333,
             "#9c179e"
            ],
            [
             0.4444444444444444,
             "#bd3786"
            ],
            [
             0.5555555555555556,
             "#d8576b"
            ],
            [
             0.6666666666666666,
             "#ed7953"
            ],
            [
             0.7777777777777778,
             "#fb9f3a"
            ],
            [
             0.8888888888888888,
             "#fdca26"
            ],
            [
             1,
             "#f0f921"
            ]
           ]
          },
          "colorway": [
           "#636efa",
           "#EF553B",
           "#00cc96",
           "#ab63fa",
           "#FFA15A",
           "#19d3f3",
           "#FF6692",
           "#B6E880",
           "#FF97FF",
           "#FECB52"
          ],
          "font": {
           "color": "#f2f5fa"
          },
          "geo": {
           "bgcolor": "rgb(17,17,17)",
           "lakecolor": "rgb(17,17,17)",
           "landcolor": "rgb(17,17,17)",
           "showlakes": true,
           "showland": true,
           "subunitcolor": "#506784"
          },
          "hoverlabel": {
           "align": "left"
          },
          "hovermode": "closest",
          "mapbox": {
           "style": "dark"
          },
          "paper_bgcolor": "rgb(17,17,17)",
          "plot_bgcolor": "rgb(17,17,17)",
          "polar": {
           "angularaxis": {
            "gridcolor": "#506784",
            "linecolor": "#506784",
            "ticks": ""
           },
           "bgcolor": "rgb(17,17,17)",
           "radialaxis": {
            "gridcolor": "#506784",
            "linecolor": "#506784",
            "ticks": ""
           }
          },
          "scene": {
           "xaxis": {
            "backgroundcolor": "rgb(17,17,17)",
            "gridcolor": "#506784",
            "gridwidth": 2,
            "linecolor": "#506784",
            "showbackground": true,
            "ticks": "",
            "zerolinecolor": "#C8D4E3"
           },
           "yaxis": {
            "backgroundcolor": "rgb(17,17,17)",
            "gridcolor": "#506784",
            "gridwidth": 2,
            "linecolor": "#506784",
            "showbackground": true,
            "ticks": "",
            "zerolinecolor": "#C8D4E3"
           },
           "zaxis": {
            "backgroundcolor": "rgb(17,17,17)",
            "gridcolor": "#506784",
            "gridwidth": 2,
            "linecolor": "#506784",
            "showbackground": true,
            "ticks": "",
            "zerolinecolor": "#C8D4E3"
           }
          },
          "shapedefaults": {
           "line": {
            "color": "#f2f5fa"
           }
          },
          "sliderdefaults": {
           "bgcolor": "#C8D4E3",
           "bordercolor": "rgb(17,17,17)",
           "borderwidth": 1,
           "tickwidth": 0
          },
          "ternary": {
           "aaxis": {
            "gridcolor": "#506784",
            "linecolor": "#506784",
            "ticks": ""
           },
           "baxis": {
            "gridcolor": "#506784",
            "linecolor": "#506784",
            "ticks": ""
           },
           "bgcolor": "rgb(17,17,17)",
           "caxis": {
            "gridcolor": "#506784",
            "linecolor": "#506784",
            "ticks": ""
           }
          },
          "title": {
           "x": 0.05
          },
          "updatemenudefaults": {
           "bgcolor": "#506784",
           "borderwidth": 0
          },
          "xaxis": {
           "automargin": true,
           "gridcolor": "#283442",
           "linecolor": "#506784",
           "ticks": "",
           "title": {
            "standoff": 15
           },
           "zerolinecolor": "#283442",
           "zerolinewidth": 2
          },
          "yaxis": {
           "automargin": true,
           "gridcolor": "#283442",
           "linecolor": "#506784",
           "ticks": "",
           "title": {
            "standoff": 15
           },
           "zerolinecolor": "#283442",
           "zerolinewidth": 2
          }
         }
        },
        "xaxis": {
         "anchor": "y",
         "domain": [
          0,
          1
         ],
         "title": {
          "text": "Capacity"
         }
        },
        "yaxis": {
         "anchor": "x",
         "domain": [
          0,
          1
         ],
         "title": {
          "text": "Country"
         }
        }
       }
      },
      "text/html": [
       "<div>                            <div id=\"6586679a-4d75-47f0-90ec-ddc619ff171f\" class=\"plotly-graph-div\" style=\"height:525px; width:100%;\"></div>            <script type=\"text/javascript\">                require([\"plotly\"], function(Plotly) {                    window.PLOTLYENV=window.PLOTLYENV || {};                                    if (document.getElementById(\"6586679a-4d75-47f0-90ec-ddc619ff171f\")) {                    Plotly.newPlot(                        \"6586679a-4d75-47f0-90ec-ddc619ff171f\",                        [{\"alignmentgroup\":\"True\",\"hovertemplate\":\"Capacity=%{x}<br>Country=%{y}<extra></extra>\",\"legendgroup\":\"\",\"marker\":{\"color\":\"#ff5600\",\"pattern\":{\"shape\":\"\"}},\"name\":\"\",\"offsetgroup\":\"\",\"orientation\":\"h\",\"showlegend\":false,\"textposition\":\"auto\",\"type\":\"bar\",\"x\":[0.0,0.0,52.0,549.0,632.0,692.0,751.0,1437.0,1557.0,1638.0,1665.0,1842.0,1889.0,2160.0,2220.0,3012.0,3194.0,3265.0,3342.0,3381.0,3643.0,3750.0,3760.0,3784.0,5380.0,5544.0,5644.0,7652.0,7724.0,9972.0,11304.0,15746.0,18383.0,18865.0,25593.0,29697.0,37198.0,51484.0,64693.0,68538.0,113413.0],\"xaxis\":\"x\",\"y\":[\"Indonesia\",\"Egypt\",\"Kazakhstan\",\"Netherlands\",\"Slovenia\",\"Austria\",\"Armenia\",\"Italy\",\"Mexico\",\"Hungary\",\"Argentina\",\"South Africa\",\"Iran\",\"Bangladesh\",\"Belarus\",\"Switzerland\",\"Brazil\",\"Romania\",\"Turkey\",\"Pakistan\",\"Slovakia\",\"Lithuania\",\"Finland\",\"Czechia\",\"United Arab Emirates\",\"Bulgaria\",\"Belgium\",\"Taiwan\",\"Spain\",\"Sweden\",\"India\",\"Canada\",\"United Kingdom\",\"Ukraine\",\"Germany\",\"South Korea\",\"Russia\",\"Japan\",\"China\",\"France\",\"United States\"],\"yaxis\":\"y\"}],                        {\"barmode\":\"relative\",\"legend\":{\"tracegroupgap\":0},\"margin\":{\"t\":60},\"template\":{\"data\":{\"bar\":[{\"error_x\":{\"color\":\"#f2f5fa\"},\"error_y\":{\"color\":\"#f2f5fa\"},\"marker\":{\"line\":{\"color\":\"rgb(17,17,17)\",\"width\":0.5},\"pattern\":{\"fillmode\":\"overlay\",\"size\":10,\"solidity\":0.2}},\"type\":\"bar\"}],\"barpolar\":[{\"marker\":{\"line\":{\"color\":\"rgb(17,17,17)\",\"width\":0.5},\"pattern\":{\"fillmode\":\"overlay\",\"size\":10,\"solidity\":0.2}},\"type\":\"barpolar\"}],\"carpet\":[{\"aaxis\":{\"endlinecolor\":\"#A2B1C6\",\"gridcolor\":\"#506784\",\"linecolor\":\"#506784\",\"minorgridcolor\":\"#506784\",\"startlinecolor\":\"#A2B1C6\"},\"baxis\":{\"endlinecolor\":\"#A2B1C6\",\"gridcolor\":\"#506784\",\"linecolor\":\"#506784\",\"minorgridcolor\":\"#506784\",\"startlinecolor\":\"#A2B1C6\"},\"type\":\"carpet\"}],\"choropleth\":[{\"colorbar\":{\"outlinewidth\":0,\"ticks\":\"\"},\"type\":\"choropleth\"}],\"contour\":[{\"colorbar\":{\"outlinewidth\":0,\"ticks\":\"\"},\"colorscale\":[[0.0,\"#0d0887\"],[0.1111111111111111,\"#46039f\"],[0.2222222222222222,\"#7201a8\"],[0.3333333333333333,\"#9c179e\"],[0.4444444444444444,\"#bd3786\"],[0.5555555555555556,\"#d8576b\"],[0.6666666666666666,\"#ed7953\"],[0.7777777777777778,\"#fb9f3a\"],[0.8888888888888888,\"#fdca26\"],[1.0,\"#f0f921\"]],\"type\":\"contour\"}],\"contourcarpet\":[{\"colorbar\":{\"outlinewidth\":0,\"ticks\":\"\"},\"type\":\"contourcarpet\"}],\"heatmap\":[{\"colorbar\":{\"outlinewidth\":0,\"ticks\":\"\"},\"colorscale\":[[0.0,\"#0d0887\"],[0.1111111111111111,\"#46039f\"],[0.2222222222222222,\"#7201a8\"],[0.3333333333333333,\"#9c179e\"],[0.4444444444444444,\"#bd3786\"],[0.5555555555555556,\"#d8576b\"],[0.6666666666666666,\"#ed7953\"],[0.7777777777777778,\"#fb9f3a\"],[0.8888888888888888,\"#fdca26\"],[1.0,\"#f0f921\"]],\"type\":\"heatmap\"}],\"heatmapgl\":[{\"colorbar\":{\"outlinewidth\":0,\"ticks\":\"\"},\"colorscale\":[[0.0,\"#0d0887\"],[0.1111111111111111,\"#46039f\"],[0.2222222222222222,\"#7201a8\"],[0.3333333333333333,\"#9c179e\"],[0.4444444444444444,\"#bd3786\"],[0.5555555555555556,\"#d8576b\"],[0.6666666666666666,\"#ed7953\"],[0.7777777777777778,\"#fb9f3a\"],[0.8888888888888888,\"#fdca26\"],[1.0,\"#f0f921\"]],\"type\":\"heatmapgl\"}],\"histogram\":[{\"marker\":{\"pattern\":{\"fillmode\":\"overlay\",\"size\":10,\"solidity\":0.2}},\"type\":\"histogram\"}],\"histogram2d\":[{\"colorbar\":{\"outlinewidth\":0,\"ticks\":\"\"},\"colorscale\":[[0.0,\"#0d0887\"],[0.1111111111111111,\"#46039f\"],[0.2222222222222222,\"#7201a8\"],[0.3333333333333333,\"#9c179e\"],[0.4444444444444444,\"#bd3786\"],[0.5555555555555556,\"#d8576b\"],[0.6666666666666666,\"#ed7953\"],[0.7777777777777778,\"#fb9f3a\"],[0.8888888888888888,\"#fdca26\"],[1.0,\"#f0f921\"]],\"type\":\"histogram2d\"}],\"histogram2dcontour\":[{\"colorbar\":{\"outlinewidth\":0,\"ticks\":\"\"},\"colorscale\":[[0.0,\"#0d0887\"],[0.1111111111111111,\"#46039f\"],[0.2222222222222222,\"#7201a8\"],[0.3333333333333333,\"#9c179e\"],[0.4444444444444444,\"#bd3786\"],[0.5555555555555556,\"#d8576b\"],[0.6666666666666666,\"#ed7953\"],[0.7777777777777778,\"#fb9f3a\"],[0.8888888888888888,\"#fdca26\"],[1.0,\"#f0f921\"]],\"type\":\"histogram2dcontour\"}],\"mesh3d\":[{\"colorbar\":{\"outlinewidth\":0,\"ticks\":\"\"},\"type\":\"mesh3d\"}],\"parcoords\":[{\"line\":{\"colorbar\":{\"outlinewidth\":0,\"ticks\":\"\"}},\"type\":\"parcoords\"}],\"pie\":[{\"automargin\":true,\"type\":\"pie\"}],\"scatter\":[{\"marker\":{\"line\":{\"color\":\"#283442\"}},\"type\":\"scatter\"}],\"scatter3d\":[{\"line\":{\"colorbar\":{\"outlinewidth\":0,\"ticks\":\"\"}},\"marker\":{\"colorbar\":{\"outlinewidth\":0,\"ticks\":\"\"}},\"type\":\"scatter3d\"}],\"scattercarpet\":[{\"marker\":{\"colorbar\":{\"outlinewidth\":0,\"ticks\":\"\"}},\"type\":\"scattercarpet\"}],\"scattergeo\":[{\"marker\":{\"colorbar\":{\"outlinewidth\":0,\"ticks\":\"\"}},\"type\":\"scattergeo\"}],\"scattergl\":[{\"marker\":{\"line\":{\"color\":\"#283442\"}},\"type\":\"scattergl\"}],\"scattermapbox\":[{\"marker\":{\"colorbar\":{\"outlinewidth\":0,\"ticks\":\"\"}},\"type\":\"scattermapbox\"}],\"scatterpolar\":[{\"marker\":{\"colorbar\":{\"outlinewidth\":0,\"ticks\":\"\"}},\"type\":\"scatterpolar\"}],\"scatterpolargl\":[{\"marker\":{\"colorbar\":{\"outlinewidth\":0,\"ticks\":\"\"}},\"type\":\"scatterpolargl\"}],\"scatterternary\":[{\"marker\":{\"colorbar\":{\"outlinewidth\":0,\"ticks\":\"\"}},\"type\":\"scatterternary\"}],\"surface\":[{\"colorbar\":{\"outlinewidth\":0,\"ticks\":\"\"},\"colorscale\":[[0.0,\"#0d0887\"],[0.1111111111111111,\"#46039f\"],[0.2222222222222222,\"#7201a8\"],[0.3333333333333333,\"#9c179e\"],[0.4444444444444444,\"#bd3786\"],[0.5555555555555556,\"#d8576b\"],[0.6666666666666666,\"#ed7953\"],[0.7777777777777778,\"#fb9f3a\"],[0.8888888888888888,\"#fdca26\"],[1.0,\"#f0f921\"]],\"type\":\"surface\"}],\"table\":[{\"cells\":{\"fill\":{\"color\":\"#506784\"},\"line\":{\"color\":\"rgb(17,17,17)\"}},\"header\":{\"fill\":{\"color\":\"#2a3f5f\"},\"line\":{\"color\":\"rgb(17,17,17)\"}},\"type\":\"table\"}]},\"layout\":{\"annotationdefaults\":{\"arrowcolor\":\"#f2f5fa\",\"arrowhead\":0,\"arrowwidth\":1},\"autotypenumbers\":\"strict\",\"coloraxis\":{\"colorbar\":{\"outlinewidth\":0,\"ticks\":\"\"}},\"colorscale\":{\"diverging\":[[0,\"#8e0152\"],[0.1,\"#c51b7d\"],[0.2,\"#de77ae\"],[0.3,\"#f1b6da\"],[0.4,\"#fde0ef\"],[0.5,\"#f7f7f7\"],[0.6,\"#e6f5d0\"],[0.7,\"#b8e186\"],[0.8,\"#7fbc41\"],[0.9,\"#4d9221\"],[1,\"#276419\"]],\"sequential\":[[0.0,\"#0d0887\"],[0.1111111111111111,\"#46039f\"],[0.2222222222222222,\"#7201a8\"],[0.3333333333333333,\"#9c179e\"],[0.4444444444444444,\"#bd3786\"],[0.5555555555555556,\"#d8576b\"],[0.6666666666666666,\"#ed7953\"],[0.7777777777777778,\"#fb9f3a\"],[0.8888888888888888,\"#fdca26\"],[1.0,\"#f0f921\"]],\"sequentialminus\":[[0.0,\"#0d0887\"],[0.1111111111111111,\"#46039f\"],[0.2222222222222222,\"#7201a8\"],[0.3333333333333333,\"#9c179e\"],[0.4444444444444444,\"#bd3786\"],[0.5555555555555556,\"#d8576b\"],[0.6666666666666666,\"#ed7953\"],[0.7777777777777778,\"#fb9f3a\"],[0.8888888888888888,\"#fdca26\"],[1.0,\"#f0f921\"]]},\"colorway\":[\"#636efa\",\"#EF553B\",\"#00cc96\",\"#ab63fa\",\"#FFA15A\",\"#19d3f3\",\"#FF6692\",\"#B6E880\",\"#FF97FF\",\"#FECB52\"],\"font\":{\"color\":\"#f2f5fa\"},\"geo\":{\"bgcolor\":\"rgb(17,17,17)\",\"lakecolor\":\"rgb(17,17,17)\",\"landcolor\":\"rgb(17,17,17)\",\"showlakes\":true,\"showland\":true,\"subunitcolor\":\"#506784\"},\"hoverlabel\":{\"align\":\"left\"},\"hovermode\":\"closest\",\"mapbox\":{\"style\":\"dark\"},\"paper_bgcolor\":\"rgb(17,17,17)\",\"plot_bgcolor\":\"rgb(17,17,17)\",\"polar\":{\"angularaxis\":{\"gridcolor\":\"#506784\",\"linecolor\":\"#506784\",\"ticks\":\"\"},\"bgcolor\":\"rgb(17,17,17)\",\"radialaxis\":{\"gridcolor\":\"#506784\",\"linecolor\":\"#506784\",\"ticks\":\"\"}},\"scene\":{\"xaxis\":{\"backgroundcolor\":\"rgb(17,17,17)\",\"gridcolor\":\"#506784\",\"gridwidth\":2,\"linecolor\":\"#506784\",\"showbackground\":true,\"ticks\":\"\",\"zerolinecolor\":\"#C8D4E3\"},\"yaxis\":{\"backgroundcolor\":\"rgb(17,17,17)\",\"gridcolor\":\"#506784\",\"gridwidth\":2,\"linecolor\":\"#506784\",\"showbackground\":true,\"ticks\":\"\",\"zerolinecolor\":\"#C8D4E3\"},\"zaxis\":{\"backgroundcolor\":\"rgb(17,17,17)\",\"gridcolor\":\"#506784\",\"gridwidth\":2,\"linecolor\":\"#506784\",\"showbackground\":true,\"ticks\":\"\",\"zerolinecolor\":\"#C8D4E3\"}},\"shapedefaults\":{\"line\":{\"color\":\"#f2f5fa\"}},\"sliderdefaults\":{\"bgcolor\":\"#C8D4E3\",\"bordercolor\":\"rgb(17,17,17)\",\"borderwidth\":1,\"tickwidth\":0},\"ternary\":{\"aaxis\":{\"gridcolor\":\"#506784\",\"linecolor\":\"#506784\",\"ticks\":\"\"},\"baxis\":{\"gridcolor\":\"#506784\",\"linecolor\":\"#506784\",\"ticks\":\"\"},\"bgcolor\":\"rgb(17,17,17)\",\"caxis\":{\"gridcolor\":\"#506784\",\"linecolor\":\"#506784\",\"ticks\":\"\"}},\"title\":{\"x\":0.05},\"updatemenudefaults\":{\"bgcolor\":\"#506784\",\"borderwidth\":0},\"xaxis\":{\"automargin\":true,\"gridcolor\":\"#283442\",\"linecolor\":\"#506784\",\"ticks\":\"\",\"title\":{\"standoff\":15},\"zerolinecolor\":\"#283442\",\"zerolinewidth\":2},\"yaxis\":{\"automargin\":true,\"gridcolor\":\"#283442\",\"linecolor\":\"#506784\",\"ticks\":\"\",\"title\":{\"standoff\":15},\"zerolinecolor\":\"#283442\",\"zerolinewidth\":2}}},\"xaxis\":{\"anchor\":\"y\",\"domain\":[0.0,1.0],\"title\":{\"text\":\"Capacity\"}},\"yaxis\":{\"anchor\":\"x\",\"domain\":[0.0,1.0],\"title\":{\"text\":\"Country\"}}},                        {\"responsive\": true}                    ).then(function(){\n",
       "                            \n",
       "var gd = document.getElementById('6586679a-4d75-47f0-90ec-ddc619ff171f');\n",
       "var x = new MutationObserver(function (mutations, observer) {{\n",
       "        var display = window.getComputedStyle(gd).display;\n",
       "        if (!display || display === 'none') {{\n",
       "            console.log([gd, 'removed!']);\n",
       "            Plotly.purge(gd);\n",
       "            observer.disconnect();\n",
       "        }}\n",
       "}});\n",
       "\n",
       "// Listen for the removal of the full notebook cells\n",
       "var notebookContainer = gd.closest('#notebook-container');\n",
       "if (notebookContainer) {{\n",
       "    x.observe(notebookContainer, {childList: true});\n",
       "}}\n",
       "\n",
       "// Listen for the clearing of the current output cell\n",
       "var outputEl = gd.closest('.output');\n",
       "if (outputEl) {{\n",
       "    x.observe(outputEl, {childList: true});\n",
       "}}\n",
       "\n",
       "                        })                };                });            </script>        </div>"
      ]
     },
     "metadata": {},
     "output_type": "display_data"
    }
   ],
   "source": [
    "px.bar(country_power,y =\"Country\" , x =\"Capacity\",\n",
    "           template='plotly_dark',color_discrete_sequence=colorscales2)"
   ]
  },
  {
   "cell_type": "code",
   "execution_count": 270,
   "metadata": {},
   "outputs": [],
   "source": [
    "# data = [dict(type='scattergeo',locationmode='USA-states',lon=df['Longitude'],\n",
    "#             lat=df['Latitude'],marker = dict(size = 12,autocolorscale = False,\n",
    "#             colorscale = 'custom-colorscale',clor = df['Capacity'],colorbar=dict(title = 'Capacity')))]\n",
    "\n",
    "# layout = dict(title = 'Test',colorbar = True,\n",
    "#              geo = dict(scope = 'use',projection = dict(type = 'albers usa'),showland=True,\n",
    "#                        landcolor = 'rgb(250,250,250)',subunitcolor = \"rgb(217,217,217)\",countrycolor =\"rgb(217,217,217)\",countrywidth = 0.5,subunitwidth =0.5 ))\n",
    "\n",
    "# fig = dict(data = data ,layout =layout )\n",
    "\n",
    "# p.ip"
   ]
  },
  {
   "cell_type": "code",
   "execution_count": 271,
   "metadata": {},
   "outputs": [
    {
     "data": {
      "application/vnd.plotly.v1+json": {
       "config": {
        "plotlyServerURL": "https://plot.ly"
       },
       "data": [
        {
         "coloraxis": "coloraxis",
         "geo": "geo",
         "hovertemplate": "<b>%{hovertext}</b><br><br>Country=%{location}<br>Capacity=%{z}<extra></extra>",
         "hovertext": [
          "Indonesia",
          "Egypt",
          "Kazakhstan",
          "Netherlands",
          "Slovenia",
          "Austria",
          "Armenia",
          "Italy",
          "Mexico",
          "Hungary",
          "Argentina",
          "South Africa",
          "Iran",
          "Bangladesh",
          "Belarus",
          "Switzerland",
          "Brazil",
          "Romania",
          "Turkey",
          "Pakistan",
          "Slovakia",
          "Lithuania",
          "Finland",
          "Czechia",
          "United Arab Emirates",
          "Bulgaria",
          "Belgium",
          "Taiwan",
          "Spain",
          "Sweden",
          "India",
          "Canada",
          "United Kingdom",
          "Ukraine",
          "Germany",
          "South Korea",
          "Russia",
          "Japan",
          "China",
          "France",
          "United States"
         ],
         "locationmode": "country names",
         "locations": [
          "Indonesia",
          "Egypt",
          "Kazakhstan",
          "Netherlands",
          "Slovenia",
          "Austria",
          "Armenia",
          "Italy",
          "Mexico",
          "Hungary",
          "Argentina",
          "South Africa",
          "Iran",
          "Bangladesh",
          "Belarus",
          "Switzerland",
          "Brazil",
          "Romania",
          "Turkey",
          "Pakistan",
          "Slovakia",
          "Lithuania",
          "Finland",
          "Czechia",
          "United Arab Emirates",
          "Bulgaria",
          "Belgium",
          "Taiwan",
          "Spain",
          "Sweden",
          "India",
          "Canada",
          "United Kingdom",
          "Ukraine",
          "Germany",
          "South Korea",
          "Russia",
          "Japan",
          "China",
          "France",
          "United States"
         ],
         "name": "",
         "type": "choropleth",
         "z": [
          0,
          0,
          52,
          549,
          632,
          692,
          751,
          1437,
          1557,
          1638,
          1665,
          1842,
          1889,
          2160,
          2220,
          3012,
          3194,
          3265,
          3342,
          3381,
          3643,
          3750,
          3760,
          3784,
          5380,
          5544,
          5644,
          7652,
          7724,
          9972,
          11304,
          15746,
          18383,
          18865,
          25593,
          29697,
          37198,
          51484,
          64693,
          68538,
          113413
         ]
        }
       ],
       "layout": {
        "coloraxis": {
         "colorbar": {
          "title": {
           "text": "Capacity"
          }
         },
         "colorscale": [
          [
           0,
           "#ffe1cc"
          ],
          [
           0.25,
           "#ff9a66"
          ],
          [
           0.5,
           "#ff7833"
          ],
          [
           0.75,
           "#ff5600"
          ],
          [
           1,
           "#de4b00"
          ]
         ]
        },
        "geo": {
         "center": {},
         "domain": {
          "x": [
           0,
           1
          ],
          "y": [
           0,
           1
          ]
         },
         "projection": {
          "type": "natural earth"
         }
        },
        "legend": {
         "tracegroupgap": 0
        },
        "margin": {
         "t": 60
        },
        "template": {
         "data": {
          "bar": [
           {
            "error_x": {
             "color": "#f2f5fa"
            },
            "error_y": {
             "color": "#f2f5fa"
            },
            "marker": {
             "line": {
              "color": "rgb(17,17,17)",
              "width": 0.5
             },
             "pattern": {
              "fillmode": "overlay",
              "size": 10,
              "solidity": 0.2
             }
            },
            "type": "bar"
           }
          ],
          "barpolar": [
           {
            "marker": {
             "line": {
              "color": "rgb(17,17,17)",
              "width": 0.5
             },
             "pattern": {
              "fillmode": "overlay",
              "size": 10,
              "solidity": 0.2
             }
            },
            "type": "barpolar"
           }
          ],
          "carpet": [
           {
            "aaxis": {
             "endlinecolor": "#A2B1C6",
             "gridcolor": "#506784",
             "linecolor": "#506784",
             "minorgridcolor": "#506784",
             "startlinecolor": "#A2B1C6"
            },
            "baxis": {
             "endlinecolor": "#A2B1C6",
             "gridcolor": "#506784",
             "linecolor": "#506784",
             "minorgridcolor": "#506784",
             "startlinecolor": "#A2B1C6"
            },
            "type": "carpet"
           }
          ],
          "choropleth": [
           {
            "colorbar": {
             "outlinewidth": 0,
             "ticks": ""
            },
            "type": "choropleth"
           }
          ],
          "contour": [
           {
            "colorbar": {
             "outlinewidth": 0,
             "ticks": ""
            },
            "colorscale": [
             [
              0,
              "#0d0887"
             ],
             [
              0.1111111111111111,
              "#46039f"
             ],
             [
              0.2222222222222222,
              "#7201a8"
             ],
             [
              0.3333333333333333,
              "#9c179e"
             ],
             [
              0.4444444444444444,
              "#bd3786"
             ],
             [
              0.5555555555555556,
              "#d8576b"
             ],
             [
              0.6666666666666666,
              "#ed7953"
             ],
             [
              0.7777777777777778,
              "#fb9f3a"
             ],
             [
              0.8888888888888888,
              "#fdca26"
             ],
             [
              1,
              "#f0f921"
             ]
            ],
            "type": "contour"
           }
          ],
          "contourcarpet": [
           {
            "colorbar": {
             "outlinewidth": 0,
             "ticks": ""
            },
            "type": "contourcarpet"
           }
          ],
          "heatmap": [
           {
            "colorbar": {
             "outlinewidth": 0,
             "ticks": ""
            },
            "colorscale": [
             [
              0,
              "#0d0887"
             ],
             [
              0.1111111111111111,
              "#46039f"
             ],
             [
              0.2222222222222222,
              "#7201a8"
             ],
             [
              0.3333333333333333,
              "#9c179e"
             ],
             [
              0.4444444444444444,
              "#bd3786"
             ],
             [
              0.5555555555555556,
              "#d8576b"
             ],
             [
              0.6666666666666666,
              "#ed7953"
             ],
             [
              0.7777777777777778,
              "#fb9f3a"
             ],
             [
              0.8888888888888888,
              "#fdca26"
             ],
             [
              1,
              "#f0f921"
             ]
            ],
            "type": "heatmap"
           }
          ],
          "heatmapgl": [
           {
            "colorbar": {
             "outlinewidth": 0,
             "ticks": ""
            },
            "colorscale": [
             [
              0,
              "#0d0887"
             ],
             [
              0.1111111111111111,
              "#46039f"
             ],
             [
              0.2222222222222222,
              "#7201a8"
             ],
             [
              0.3333333333333333,
              "#9c179e"
             ],
             [
              0.4444444444444444,
              "#bd3786"
             ],
             [
              0.5555555555555556,
              "#d8576b"
             ],
             [
              0.6666666666666666,
              "#ed7953"
             ],
             [
              0.7777777777777778,
              "#fb9f3a"
             ],
             [
              0.8888888888888888,
              "#fdca26"
             ],
             [
              1,
              "#f0f921"
             ]
            ],
            "type": "heatmapgl"
           }
          ],
          "histogram": [
           {
            "marker": {
             "pattern": {
              "fillmode": "overlay",
              "size": 10,
              "solidity": 0.2
             }
            },
            "type": "histogram"
           }
          ],
          "histogram2d": [
           {
            "colorbar": {
             "outlinewidth": 0,
             "ticks": ""
            },
            "colorscale": [
             [
              0,
              "#0d0887"
             ],
             [
              0.1111111111111111,
              "#46039f"
             ],
             [
              0.2222222222222222,
              "#7201a8"
             ],
             [
              0.3333333333333333,
              "#9c179e"
             ],
             [
              0.4444444444444444,
              "#bd3786"
             ],
             [
              0.5555555555555556,
              "#d8576b"
             ],
             [
              0.6666666666666666,
              "#ed7953"
             ],
             [
              0.7777777777777778,
              "#fb9f3a"
             ],
             [
              0.8888888888888888,
              "#fdca26"
             ],
             [
              1,
              "#f0f921"
             ]
            ],
            "type": "histogram2d"
           }
          ],
          "histogram2dcontour": [
           {
            "colorbar": {
             "outlinewidth": 0,
             "ticks": ""
            },
            "colorscale": [
             [
              0,
              "#0d0887"
             ],
             [
              0.1111111111111111,
              "#46039f"
             ],
             [
              0.2222222222222222,
              "#7201a8"
             ],
             [
              0.3333333333333333,
              "#9c179e"
             ],
             [
              0.4444444444444444,
              "#bd3786"
             ],
             [
              0.5555555555555556,
              "#d8576b"
             ],
             [
              0.6666666666666666,
              "#ed7953"
             ],
             [
              0.7777777777777778,
              "#fb9f3a"
             ],
             [
              0.8888888888888888,
              "#fdca26"
             ],
             [
              1,
              "#f0f921"
             ]
            ],
            "type": "histogram2dcontour"
           }
          ],
          "mesh3d": [
           {
            "colorbar": {
             "outlinewidth": 0,
             "ticks": ""
            },
            "type": "mesh3d"
           }
          ],
          "parcoords": [
           {
            "line": {
             "colorbar": {
              "outlinewidth": 0,
              "ticks": ""
             }
            },
            "type": "parcoords"
           }
          ],
          "pie": [
           {
            "automargin": true,
            "type": "pie"
           }
          ],
          "scatter": [
           {
            "marker": {
             "line": {
              "color": "#283442"
             }
            },
            "type": "scatter"
           }
          ],
          "scatter3d": [
           {
            "line": {
             "colorbar": {
              "outlinewidth": 0,
              "ticks": ""
             }
            },
            "marker": {
             "colorbar": {
              "outlinewidth": 0,
              "ticks": ""
             }
            },
            "type": "scatter3d"
           }
          ],
          "scattercarpet": [
           {
            "marker": {
             "colorbar": {
              "outlinewidth": 0,
              "ticks": ""
             }
            },
            "type": "scattercarpet"
           }
          ],
          "scattergeo": [
           {
            "marker": {
             "colorbar": {
              "outlinewidth": 0,
              "ticks": ""
             }
            },
            "type": "scattergeo"
           }
          ],
          "scattergl": [
           {
            "marker": {
             "line": {
              "color": "#283442"
             }
            },
            "type": "scattergl"
           }
          ],
          "scattermapbox": [
           {
            "marker": {
             "colorbar": {
              "outlinewidth": 0,
              "ticks": ""
             }
            },
            "type": "scattermapbox"
           }
          ],
          "scatterpolar": [
           {
            "marker": {
             "colorbar": {
              "outlinewidth": 0,
              "ticks": ""
             }
            },
            "type": "scatterpolar"
           }
          ],
          "scatterpolargl": [
           {
            "marker": {
             "colorbar": {
              "outlinewidth": 0,
              "ticks": ""
             }
            },
            "type": "scatterpolargl"
           }
          ],
          "scatterternary": [
           {
            "marker": {
             "colorbar": {
              "outlinewidth": 0,
              "ticks": ""
             }
            },
            "type": "scatterternary"
           }
          ],
          "surface": [
           {
            "colorbar": {
             "outlinewidth": 0,
             "ticks": ""
            },
            "colorscale": [
             [
              0,
              "#0d0887"
             ],
             [
              0.1111111111111111,
              "#46039f"
             ],
             [
              0.2222222222222222,
              "#7201a8"
             ],
             [
              0.3333333333333333,
              "#9c179e"
             ],
             [
              0.4444444444444444,
              "#bd3786"
             ],
             [
              0.5555555555555556,
              "#d8576b"
             ],
             [
              0.6666666666666666,
              "#ed7953"
             ],
             [
              0.7777777777777778,
              "#fb9f3a"
             ],
             [
              0.8888888888888888,
              "#fdca26"
             ],
             [
              1,
              "#f0f921"
             ]
            ],
            "type": "surface"
           }
          ],
          "table": [
           {
            "cells": {
             "fill": {
              "color": "#506784"
             },
             "line": {
              "color": "rgb(17,17,17)"
             }
            },
            "header": {
             "fill": {
              "color": "#2a3f5f"
             },
             "line": {
              "color": "rgb(17,17,17)"
             }
            },
            "type": "table"
           }
          ]
         },
         "layout": {
          "annotationdefaults": {
           "arrowcolor": "#f2f5fa",
           "arrowhead": 0,
           "arrowwidth": 1
          },
          "autotypenumbers": "strict",
          "coloraxis": {
           "colorbar": {
            "outlinewidth": 0,
            "ticks": ""
           }
          },
          "colorscale": {
           "diverging": [
            [
             0,
             "#8e0152"
            ],
            [
             0.1,
             "#c51b7d"
            ],
            [
             0.2,
             "#de77ae"
            ],
            [
             0.3,
             "#f1b6da"
            ],
            [
             0.4,
             "#fde0ef"
            ],
            [
             0.5,
             "#f7f7f7"
            ],
            [
             0.6,
             "#e6f5d0"
            ],
            [
             0.7,
             "#b8e186"
            ],
            [
             0.8,
             "#7fbc41"
            ],
            [
             0.9,
             "#4d9221"
            ],
            [
             1,
             "#276419"
            ]
           ],
           "sequential": [
            [
             0,
             "#0d0887"
            ],
            [
             0.1111111111111111,
             "#46039f"
            ],
            [
             0.2222222222222222,
             "#7201a8"
            ],
            [
             0.3333333333333333,
             "#9c179e"
            ],
            [
             0.4444444444444444,
             "#bd3786"
            ],
            [
             0.5555555555555556,
             "#d8576b"
            ],
            [
             0.6666666666666666,
             "#ed7953"
            ],
            [
             0.7777777777777778,
             "#fb9f3a"
            ],
            [
             0.8888888888888888,
             "#fdca26"
            ],
            [
             1,
             "#f0f921"
            ]
           ],
           "sequentialminus": [
            [
             0,
             "#0d0887"
            ],
            [
             0.1111111111111111,
             "#46039f"
            ],
            [
             0.2222222222222222,
             "#7201a8"
            ],
            [
             0.3333333333333333,
             "#9c179e"
            ],
            [
             0.4444444444444444,
             "#bd3786"
            ],
            [
             0.5555555555555556,
             "#d8576b"
            ],
            [
             0.6666666666666666,
             "#ed7953"
            ],
            [
             0.7777777777777778,
             "#fb9f3a"
            ],
            [
             0.8888888888888888,
             "#fdca26"
            ],
            [
             1,
             "#f0f921"
            ]
           ]
          },
          "colorway": [
           "#636efa",
           "#EF553B",
           "#00cc96",
           "#ab63fa",
           "#FFA15A",
           "#19d3f3",
           "#FF6692",
           "#B6E880",
           "#FF97FF",
           "#FECB52"
          ],
          "font": {
           "color": "#f2f5fa"
          },
          "geo": {
           "bgcolor": "rgb(17,17,17)",
           "lakecolor": "rgb(17,17,17)",
           "landcolor": "rgb(17,17,17)",
           "showlakes": true,
           "showland": true,
           "subunitcolor": "#506784"
          },
          "hoverlabel": {
           "align": "left"
          },
          "hovermode": "closest",
          "mapbox": {
           "style": "dark"
          },
          "paper_bgcolor": "rgb(17,17,17)",
          "plot_bgcolor": "rgb(17,17,17)",
          "polar": {
           "angularaxis": {
            "gridcolor": "#506784",
            "linecolor": "#506784",
            "ticks": ""
           },
           "bgcolor": "rgb(17,17,17)",
           "radialaxis": {
            "gridcolor": "#506784",
            "linecolor": "#506784",
            "ticks": ""
           }
          },
          "scene": {
           "xaxis": {
            "backgroundcolor": "rgb(17,17,17)",
            "gridcolor": "#506784",
            "gridwidth": 2,
            "linecolor": "#506784",
            "showbackground": true,
            "ticks": "",
            "zerolinecolor": "#C8D4E3"
           },
           "yaxis": {
            "backgroundcolor": "rgb(17,17,17)",
            "gridcolor": "#506784",
            "gridwidth": 2,
            "linecolor": "#506784",
            "showbackground": true,
            "ticks": "",
            "zerolinecolor": "#C8D4E3"
           },
           "zaxis": {
            "backgroundcolor": "rgb(17,17,17)",
            "gridcolor": "#506784",
            "gridwidth": 2,
            "linecolor": "#506784",
            "showbackground": true,
            "ticks": "",
            "zerolinecolor": "#C8D4E3"
           }
          },
          "shapedefaults": {
           "line": {
            "color": "#f2f5fa"
           }
          },
          "sliderdefaults": {
           "bgcolor": "#C8D4E3",
           "bordercolor": "rgb(17,17,17)",
           "borderwidth": 1,
           "tickwidth": 0
          },
          "ternary": {
           "aaxis": {
            "gridcolor": "#506784",
            "linecolor": "#506784",
            "ticks": ""
           },
           "baxis": {
            "gridcolor": "#506784",
            "linecolor": "#506784",
            "ticks": ""
           },
           "bgcolor": "rgb(17,17,17)",
           "caxis": {
            "gridcolor": "#506784",
            "linecolor": "#506784",
            "ticks": ""
           }
          },
          "title": {
           "x": 0.05
          },
          "updatemenudefaults": {
           "bgcolor": "#506784",
           "borderwidth": 0
          },
          "xaxis": {
           "automargin": true,
           "gridcolor": "#283442",
           "linecolor": "#506784",
           "ticks": "",
           "title": {
            "standoff": 15
           },
           "zerolinecolor": "#283442",
           "zerolinewidth": 2
          },
          "yaxis": {
           "automargin": true,
           "gridcolor": "#283442",
           "linecolor": "#506784",
           "ticks": "",
           "title": {
            "standoff": 15
           },
           "zerolinecolor": "#283442",
           "zerolinewidth": 2
          }
         }
        }
       }
      },
      "text/html": [
       "<div>                            <div id=\"457c0c2c-64ba-41ae-8fc6-00517088a21c\" class=\"plotly-graph-div\" style=\"height:525px; width:100%;\"></div>            <script type=\"text/javascript\">                require([\"plotly\"], function(Plotly) {                    window.PLOTLYENV=window.PLOTLYENV || {};                                    if (document.getElementById(\"457c0c2c-64ba-41ae-8fc6-00517088a21c\")) {                    Plotly.newPlot(                        \"457c0c2c-64ba-41ae-8fc6-00517088a21c\",                        [{\"coloraxis\":\"coloraxis\",\"geo\":\"geo\",\"hovertemplate\":\"<b>%{hovertext}</b><br><br>Country=%{location}<br>Capacity=%{z}<extra></extra>\",\"hovertext\":[\"Indonesia\",\"Egypt\",\"Kazakhstan\",\"Netherlands\",\"Slovenia\",\"Austria\",\"Armenia\",\"Italy\",\"Mexico\",\"Hungary\",\"Argentina\",\"South Africa\",\"Iran\",\"Bangladesh\",\"Belarus\",\"Switzerland\",\"Brazil\",\"Romania\",\"Turkey\",\"Pakistan\",\"Slovakia\",\"Lithuania\",\"Finland\",\"Czechia\",\"United Arab Emirates\",\"Bulgaria\",\"Belgium\",\"Taiwan\",\"Spain\",\"Sweden\",\"India\",\"Canada\",\"United Kingdom\",\"Ukraine\",\"Germany\",\"South Korea\",\"Russia\",\"Japan\",\"China\",\"France\",\"United States\"],\"locationmode\":\"country names\",\"locations\":[\"Indonesia\",\"Egypt\",\"Kazakhstan\",\"Netherlands\",\"Slovenia\",\"Austria\",\"Armenia\",\"Italy\",\"Mexico\",\"Hungary\",\"Argentina\",\"South Africa\",\"Iran\",\"Bangladesh\",\"Belarus\",\"Switzerland\",\"Brazil\",\"Romania\",\"Turkey\",\"Pakistan\",\"Slovakia\",\"Lithuania\",\"Finland\",\"Czechia\",\"United Arab Emirates\",\"Bulgaria\",\"Belgium\",\"Taiwan\",\"Spain\",\"Sweden\",\"India\",\"Canada\",\"United Kingdom\",\"Ukraine\",\"Germany\",\"South Korea\",\"Russia\",\"Japan\",\"China\",\"France\",\"United States\"],\"name\":\"\",\"type\":\"choropleth\",\"z\":[0.0,0.0,52.0,549.0,632.0,692.0,751.0,1437.0,1557.0,1638.0,1665.0,1842.0,1889.0,2160.0,2220.0,3012.0,3194.0,3265.0,3342.0,3381.0,3643.0,3750.0,3760.0,3784.0,5380.0,5544.0,5644.0,7652.0,7724.0,9972.0,11304.0,15746.0,18383.0,18865.0,25593.0,29697.0,37198.0,51484.0,64693.0,68538.0,113413.0]}],                        {\"coloraxis\":{\"colorbar\":{\"title\":{\"text\":\"Capacity\"}},\"colorscale\":[[0.0,\"#ffe1cc\"],[0.25,\"#ff9a66\"],[0.5,\"#ff7833\"],[0.75,\"#ff5600\"],[1.0,\"#de4b00\"]]},\"geo\":{\"center\":{},\"domain\":{\"x\":[0.0,1.0],\"y\":[0.0,1.0]},\"projection\":{\"type\":\"natural earth\"}},\"legend\":{\"tracegroupgap\":0},\"margin\":{\"t\":60},\"template\":{\"data\":{\"bar\":[{\"error_x\":{\"color\":\"#f2f5fa\"},\"error_y\":{\"color\":\"#f2f5fa\"},\"marker\":{\"line\":{\"color\":\"rgb(17,17,17)\",\"width\":0.5},\"pattern\":{\"fillmode\":\"overlay\",\"size\":10,\"solidity\":0.2}},\"type\":\"bar\"}],\"barpolar\":[{\"marker\":{\"line\":{\"color\":\"rgb(17,17,17)\",\"width\":0.5},\"pattern\":{\"fillmode\":\"overlay\",\"size\":10,\"solidity\":0.2}},\"type\":\"barpolar\"}],\"carpet\":[{\"aaxis\":{\"endlinecolor\":\"#A2B1C6\",\"gridcolor\":\"#506784\",\"linecolor\":\"#506784\",\"minorgridcolor\":\"#506784\",\"startlinecolor\":\"#A2B1C6\"},\"baxis\":{\"endlinecolor\":\"#A2B1C6\",\"gridcolor\":\"#506784\",\"linecolor\":\"#506784\",\"minorgridcolor\":\"#506784\",\"startlinecolor\":\"#A2B1C6\"},\"type\":\"carpet\"}],\"choropleth\":[{\"colorbar\":{\"outlinewidth\":0,\"ticks\":\"\"},\"type\":\"choropleth\"}],\"contour\":[{\"colorbar\":{\"outlinewidth\":0,\"ticks\":\"\"},\"colorscale\":[[0.0,\"#0d0887\"],[0.1111111111111111,\"#46039f\"],[0.2222222222222222,\"#7201a8\"],[0.3333333333333333,\"#9c179e\"],[0.4444444444444444,\"#bd3786\"],[0.5555555555555556,\"#d8576b\"],[0.6666666666666666,\"#ed7953\"],[0.7777777777777778,\"#fb9f3a\"],[0.8888888888888888,\"#fdca26\"],[1.0,\"#f0f921\"]],\"type\":\"contour\"}],\"contourcarpet\":[{\"colorbar\":{\"outlinewidth\":0,\"ticks\":\"\"},\"type\":\"contourcarpet\"}],\"heatmap\":[{\"colorbar\":{\"outlinewidth\":0,\"ticks\":\"\"},\"colorscale\":[[0.0,\"#0d0887\"],[0.1111111111111111,\"#46039f\"],[0.2222222222222222,\"#7201a8\"],[0.3333333333333333,\"#9c179e\"],[0.4444444444444444,\"#bd3786\"],[0.5555555555555556,\"#d8576b\"],[0.6666666666666666,\"#ed7953\"],[0.7777777777777778,\"#fb9f3a\"],[0.8888888888888888,\"#fdca26\"],[1.0,\"#f0f921\"]],\"type\":\"heatmap\"}],\"heatmapgl\":[{\"colorbar\":{\"outlinewidth\":0,\"ticks\":\"\"},\"colorscale\":[[0.0,\"#0d0887\"],[0.1111111111111111,\"#46039f\"],[0.2222222222222222,\"#7201a8\"],[0.3333333333333333,\"#9c179e\"],[0.4444444444444444,\"#bd3786\"],[0.5555555555555556,\"#d8576b\"],[0.6666666666666666,\"#ed7953\"],[0.7777777777777778,\"#fb9f3a\"],[0.8888888888888888,\"#fdca26\"],[1.0,\"#f0f921\"]],\"type\":\"heatmapgl\"}],\"histogram\":[{\"marker\":{\"pattern\":{\"fillmode\":\"overlay\",\"size\":10,\"solidity\":0.2}},\"type\":\"histogram\"}],\"histogram2d\":[{\"colorbar\":{\"outlinewidth\":0,\"ticks\":\"\"},\"colorscale\":[[0.0,\"#0d0887\"],[0.1111111111111111,\"#46039f\"],[0.2222222222222222,\"#7201a8\"],[0.3333333333333333,\"#9c179e\"],[0.4444444444444444,\"#bd3786\"],[0.5555555555555556,\"#d8576b\"],[0.6666666666666666,\"#ed7953\"],[0.7777777777777778,\"#fb9f3a\"],[0.8888888888888888,\"#fdca26\"],[1.0,\"#f0f921\"]],\"type\":\"histogram2d\"}],\"histogram2dcontour\":[{\"colorbar\":{\"outlinewidth\":0,\"ticks\":\"\"},\"colorscale\":[[0.0,\"#0d0887\"],[0.1111111111111111,\"#46039f\"],[0.2222222222222222,\"#7201a8\"],[0.3333333333333333,\"#9c179e\"],[0.4444444444444444,\"#bd3786\"],[0.5555555555555556,\"#d8576b\"],[0.6666666666666666,\"#ed7953\"],[0.7777777777777778,\"#fb9f3a\"],[0.8888888888888888,\"#fdca26\"],[1.0,\"#f0f921\"]],\"type\":\"histogram2dcontour\"}],\"mesh3d\":[{\"colorbar\":{\"outlinewidth\":0,\"ticks\":\"\"},\"type\":\"mesh3d\"}],\"parcoords\":[{\"line\":{\"colorbar\":{\"outlinewidth\":0,\"ticks\":\"\"}},\"type\":\"parcoords\"}],\"pie\":[{\"automargin\":true,\"type\":\"pie\"}],\"scatter\":[{\"marker\":{\"line\":{\"color\":\"#283442\"}},\"type\":\"scatter\"}],\"scatter3d\":[{\"line\":{\"colorbar\":{\"outlinewidth\":0,\"ticks\":\"\"}},\"marker\":{\"colorbar\":{\"outlinewidth\":0,\"ticks\":\"\"}},\"type\":\"scatter3d\"}],\"scattercarpet\":[{\"marker\":{\"colorbar\":{\"outlinewidth\":0,\"ticks\":\"\"}},\"type\":\"scattercarpet\"}],\"scattergeo\":[{\"marker\":{\"colorbar\":{\"outlinewidth\":0,\"ticks\":\"\"}},\"type\":\"scattergeo\"}],\"scattergl\":[{\"marker\":{\"line\":{\"color\":\"#283442\"}},\"type\":\"scattergl\"}],\"scattermapbox\":[{\"marker\":{\"colorbar\":{\"outlinewidth\":0,\"ticks\":\"\"}},\"type\":\"scattermapbox\"}],\"scatterpolar\":[{\"marker\":{\"colorbar\":{\"outlinewidth\":0,\"ticks\":\"\"}},\"type\":\"scatterpolar\"}],\"scatterpolargl\":[{\"marker\":{\"colorbar\":{\"outlinewidth\":0,\"ticks\":\"\"}},\"type\":\"scatterpolargl\"}],\"scatterternary\":[{\"marker\":{\"colorbar\":{\"outlinewidth\":0,\"ticks\":\"\"}},\"type\":\"scatterternary\"}],\"surface\":[{\"colorbar\":{\"outlinewidth\":0,\"ticks\":\"\"},\"colorscale\":[[0.0,\"#0d0887\"],[0.1111111111111111,\"#46039f\"],[0.2222222222222222,\"#7201a8\"],[0.3333333333333333,\"#9c179e\"],[0.4444444444444444,\"#bd3786\"],[0.5555555555555556,\"#d8576b\"],[0.6666666666666666,\"#ed7953\"],[0.7777777777777778,\"#fb9f3a\"],[0.8888888888888888,\"#fdca26\"],[1.0,\"#f0f921\"]],\"type\":\"surface\"}],\"table\":[{\"cells\":{\"fill\":{\"color\":\"#506784\"},\"line\":{\"color\":\"rgb(17,17,17)\"}},\"header\":{\"fill\":{\"color\":\"#2a3f5f\"},\"line\":{\"color\":\"rgb(17,17,17)\"}},\"type\":\"table\"}]},\"layout\":{\"annotationdefaults\":{\"arrowcolor\":\"#f2f5fa\",\"arrowhead\":0,\"arrowwidth\":1},\"autotypenumbers\":\"strict\",\"coloraxis\":{\"colorbar\":{\"outlinewidth\":0,\"ticks\":\"\"}},\"colorscale\":{\"diverging\":[[0,\"#8e0152\"],[0.1,\"#c51b7d\"],[0.2,\"#de77ae\"],[0.3,\"#f1b6da\"],[0.4,\"#fde0ef\"],[0.5,\"#f7f7f7\"],[0.6,\"#e6f5d0\"],[0.7,\"#b8e186\"],[0.8,\"#7fbc41\"],[0.9,\"#4d9221\"],[1,\"#276419\"]],\"sequential\":[[0.0,\"#0d0887\"],[0.1111111111111111,\"#46039f\"],[0.2222222222222222,\"#7201a8\"],[0.3333333333333333,\"#9c179e\"],[0.4444444444444444,\"#bd3786\"],[0.5555555555555556,\"#d8576b\"],[0.6666666666666666,\"#ed7953\"],[0.7777777777777778,\"#fb9f3a\"],[0.8888888888888888,\"#fdca26\"],[1.0,\"#f0f921\"]],\"sequentialminus\":[[0.0,\"#0d0887\"],[0.1111111111111111,\"#46039f\"],[0.2222222222222222,\"#7201a8\"],[0.3333333333333333,\"#9c179e\"],[0.4444444444444444,\"#bd3786\"],[0.5555555555555556,\"#d8576b\"],[0.6666666666666666,\"#ed7953\"],[0.7777777777777778,\"#fb9f3a\"],[0.8888888888888888,\"#fdca26\"],[1.0,\"#f0f921\"]]},\"colorway\":[\"#636efa\",\"#EF553B\",\"#00cc96\",\"#ab63fa\",\"#FFA15A\",\"#19d3f3\",\"#FF6692\",\"#B6E880\",\"#FF97FF\",\"#FECB52\"],\"font\":{\"color\":\"#f2f5fa\"},\"geo\":{\"bgcolor\":\"rgb(17,17,17)\",\"lakecolor\":\"rgb(17,17,17)\",\"landcolor\":\"rgb(17,17,17)\",\"showlakes\":true,\"showland\":true,\"subunitcolor\":\"#506784\"},\"hoverlabel\":{\"align\":\"left\"},\"hovermode\":\"closest\",\"mapbox\":{\"style\":\"dark\"},\"paper_bgcolor\":\"rgb(17,17,17)\",\"plot_bgcolor\":\"rgb(17,17,17)\",\"polar\":{\"angularaxis\":{\"gridcolor\":\"#506784\",\"linecolor\":\"#506784\",\"ticks\":\"\"},\"bgcolor\":\"rgb(17,17,17)\",\"radialaxis\":{\"gridcolor\":\"#506784\",\"linecolor\":\"#506784\",\"ticks\":\"\"}},\"scene\":{\"xaxis\":{\"backgroundcolor\":\"rgb(17,17,17)\",\"gridcolor\":\"#506784\",\"gridwidth\":2,\"linecolor\":\"#506784\",\"showbackground\":true,\"ticks\":\"\",\"zerolinecolor\":\"#C8D4E3\"},\"yaxis\":{\"backgroundcolor\":\"rgb(17,17,17)\",\"gridcolor\":\"#506784\",\"gridwidth\":2,\"linecolor\":\"#506784\",\"showbackground\":true,\"ticks\":\"\",\"zerolinecolor\":\"#C8D4E3\"},\"zaxis\":{\"backgroundcolor\":\"rgb(17,17,17)\",\"gridcolor\":\"#506784\",\"gridwidth\":2,\"linecolor\":\"#506784\",\"showbackground\":true,\"ticks\":\"\",\"zerolinecolor\":\"#C8D4E3\"}},\"shapedefaults\":{\"line\":{\"color\":\"#f2f5fa\"}},\"sliderdefaults\":{\"bgcolor\":\"#C8D4E3\",\"bordercolor\":\"rgb(17,17,17)\",\"borderwidth\":1,\"tickwidth\":0},\"ternary\":{\"aaxis\":{\"gridcolor\":\"#506784\",\"linecolor\":\"#506784\",\"ticks\":\"\"},\"baxis\":{\"gridcolor\":\"#506784\",\"linecolor\":\"#506784\",\"ticks\":\"\"},\"bgcolor\":\"rgb(17,17,17)\",\"caxis\":{\"gridcolor\":\"#506784\",\"linecolor\":\"#506784\",\"ticks\":\"\"}},\"title\":{\"x\":0.05},\"updatemenudefaults\":{\"bgcolor\":\"#506784\",\"borderwidth\":0},\"xaxis\":{\"automargin\":true,\"gridcolor\":\"#283442\",\"linecolor\":\"#506784\",\"ticks\":\"\",\"title\":{\"standoff\":15},\"zerolinecolor\":\"#283442\",\"zerolinewidth\":2},\"yaxis\":{\"automargin\":true,\"gridcolor\":\"#283442\",\"linecolor\":\"#506784\",\"ticks\":\"\",\"title\":{\"standoff\":15},\"zerolinecolor\":\"#283442\",\"zerolinewidth\":2}}}},                        {\"responsive\": true}                    ).then(function(){\n",
       "                            \n",
       "var gd = document.getElementById('457c0c2c-64ba-41ae-8fc6-00517088a21c');\n",
       "var x = new MutationObserver(function (mutations, observer) {{\n",
       "        var display = window.getComputedStyle(gd).display;\n",
       "        if (!display || display === 'none') {{\n",
       "            console.log([gd, 'removed!']);\n",
       "            Plotly.purge(gd);\n",
       "            observer.disconnect();\n",
       "        }}\n",
       "}});\n",
       "\n",
       "// Listen for the removal of the full notebook cells\n",
       "var notebookContainer = gd.closest('#notebook-container');\n",
       "if (notebookContainer) {{\n",
       "    x.observe(notebookContainer, {childList: true});\n",
       "}}\n",
       "\n",
       "// Listen for the clearing of the current output cell\n",
       "var outputEl = gd.closest('.output');\n",
       "if (outputEl) {{\n",
       "    x.observe(outputEl, {childList: true});\n",
       "}}\n",
       "\n",
       "                        })                };                });            </script>        </div>"
      ]
     },
     "metadata": {},
     "output_type": "display_data"
    }
   ],
   "source": [
    "\n",
    "px.choropleth(country_power,locationmode='country names',locations='Country',\n",
    "              hover_name='Country',color='Capacity',template='plotly_dark',\n",
    "              projection='natural earth',color_continuous_scale=colorscales)"
   ]
  },
  {
   "cell_type": "code",
   "execution_count": 272,
   "metadata": {},
   "outputs": [],
   "source": [
    "# import plotly.graph_objects as go\n",
    "\n",
    "# fig = go.Figure()\n",
    "\n",
    "# fig.add_trace(go.Scattergeo(\n",
    "#     locationmode = 'country names',\n",
    "#     lon = df['Latitude'],\n",
    "#     lat = df['Longitude'],\n",
    "#     hoverinfo = 'text',\n",
    "#     text = country_power['Capacity'],\n",
    "    \n",
    "#     mode = 'markers',\n",
    "#     marker = dict(\n",
    "#         size = 2,\n",
    "#         color = 'rgb(255, 0, 0)',\n",
    "#         line = dict(\n",
    "#             width = 3,\n",
    "#             color = 'rgba(68, 68, 68, 0)'\n",
    "#         )\n",
    "#     )))\n",
    "\n",
    "# # flight_paths = []\n",
    "# # for i in range(len(df_flight_paths)):\n",
    "# #     fig.add_trace(\n",
    "# #         go.Scattergeo(\n",
    "# #             locationmode = 'USA-states',\n",
    "# #             lon = [df_flight_paths['start_lon'][i], df_flight_paths['end_lon'][i]],\n",
    "# #             lat = [df_flight_paths['start_lat'][i], df_flight_paths['end_lat'][i]],\n",
    "# #             mode = 'lines',\n",
    "# #             line = dict(width = 1,color = 'red'),\n",
    "# #             opacity = float(df_flight_paths['cnt'][i]) / float(df_flight_paths['cnt'].max()),\n",
    "# #         )\n",
    "# #     )\n",
    "\n",
    "# fig.update_layout(\n",
    "#     title_text = 'Test',\n",
    "#     showlegend = True,\n",
    "#     geo = dict(\n",
    "        \n",
    "#         projection_type ='natural earth',\n",
    "#         showland = True,\n",
    "#         landcolor = 'rgb(243, 243, 243)',\n",
    "#         countrycolor = 'rgb(204, 204, 204)',\n",
    "#     ),\n",
    "# )\n",
    "\n",
    "# fig.show()"
   ]
  },
  {
   "cell_type": "code",
   "execution_count": 275,
   "metadata": {},
   "outputs": [
    {
     "data": {
      "application/vnd.plotly.v1+json": {
       "config": {
        "plotlyServerURL": "https://plot.ly"
       },
       "data": [
        {
         "customdata": [
          [
           "Sweden",
           9,
           "Ågesta"
          ],
          [
           "Russia",
           30,
           "Akademik Lomonosov-1"
          ],
          [
           "Russia",
           30,
           "Akademik Lomonosov-2"
          ],
          [
           "Iran",
           0,
           "Akhvaz-1"
          ],
          [
           "Iran",
           0,
           "Akhvaz-2"
          ],
          [
           "Turkey",
           1114,
           "Akkuyu-1"
          ],
          [
           "Turkey",
           1114,
           "Akkuyu-2"
          ],
          [
           "Turkey",
           1114,
           "Akkuyu-3"
          ],
          [
           "Turkey",
           0,
           "Akkuyu-4"
          ],
          [
           "Kazakhstan",
           52,
           "Aktau (Shevchenko)"
          ],
          [
           "Spain",
           900,
           "Almaraz-1"
          ],
          [
           "Spain",
           900,
           "Almaraz-2"
          ],
          [
           "Brazil",
           609,
           "Angra-1"
          ],
          [
           "Brazil",
           1245,
           "Angra-2"
          ],
          [
           "Brazil",
           1340,
           "Angra-3"
          ],
          [
           "Russia",
           5,
           "APS-1 Obninsk"
          ],
          [
           "United States",
           850,
           "Arkansas Nuclear One-1 (ANO-1)"
          ],
          [
           "United States",
           912,
           "Arkansas Nuclear One-2 (ANO-2)"
          ],
          [
           "Armenia",
           376,
           "Armenian-1"
          ],
          [
           "Armenia",
           375,
           "Armenian-2"
          ],
          [
           "Armenia",
           0,
           "Armenian-3"
          ],
          [
           "Spain",
           995,
           "Asco-1"
          ],
          [
           "Spain",
           997,
           "Asco-2"
          ],
          [
           "Argentina",
           340,
           "Atucha-1"
          ],
          [
           "Argentina",
           692,
           "Atucha-2"
          ],
          [
           "Russia",
           950,
           "Balakovo-1"
          ],
          [
           "Russia",
           950,
           "Balakovo-2"
          ],
          [
           "Russia",
           950,
           "Balakovo-3"
          ],
          [
           "Russia",
           950,
           "Balakovo-4"
          ],
          [
           "Russia",
           1109,
           "Baltic-1"
          ],
          [
           "United Arab Emirates",
           1345,
           "Barakah-1 (Braka)"
          ],
          [
           "United Arab Emirates",
           1345,
           "Barakah-2 (Braka)"
          ],
          [
           "United Arab Emirates",
           1345,
           "Barakah-3 (Braka)"
          ],
          [
           "India",
           0,
           "Chutka-1"
          ],
          [
           "India",
           0,
           "Chutka-2"
          ],
          [
           "Sweden",
           570,
           "Barseback-1"
          ],
          [
           "Sweden",
           570,
           "Barseback-2"
          ],
          [
           "United States",
           835,
           "Beaver Valley-1"
          ],
          [
           "United States",
           836,
           "Beaver Valley-2"
          ],
          [
           "Belarus",
           1110,
           "Belarusian-1"
          ],
          [
           "Belarus",
           1110,
           "Belarusian-2"
          ],
          [
           "Bulgaria",
           953,
           "Belene-1"
          ],
          [
           "Bulgaria",
           953,
           "Belene-2"
          ],
          [
           "France",
           1310,
           "Belleville-1"
          ],
          [
           "France",
           1310,
           "Belleville-2"
          ],
          [
           "Russia",
           102,
           "Beloyarsk-1"
          ],
          [
           "Russia",
           146,
           "Beloyarsk-2"
          ],
          [
           "Russia",
           560,
           "Beloyarsk-3"
          ],
          [
           "Russia",
           820,
           "Beloyarsk-4"
          ],
          [
           "Russia",
           0,
           "Beloyarsk-5"
          ],
          [
           "United Kingdom",
           138,
           "Berkeley-1"
          ],
          [
           "United Kingdom",
           138,
           "Berkeley-2"
          ],
          [
           "Switzerland",
           365,
           "Beznau-1"
          ],
          [
           "Switzerland",
           365,
           "Beznau-2"
          ],
          [
           "Germany",
           1146,
           "Biblis-A"
          ],
          [
           "Germany",
           1178,
           "Biblis-B"
          ],
          [
           "United States",
           72,
           "Big Rock Point"
          ],
          [
           "Russia",
           11,
           "Bilibino-1"
          ],
          [
           "Russia",
           11,
           "Bilibino-2"
          ],
          [
           "Russia",
           11,
           "Bilibino-3"
          ],
          [
           "Russia",
           11,
           "Bilibino-4"
          ],
          [
           "France",
           910,
           "Blayais-1"
          ],
          [
           "France",
           910,
           "Blayais-2"
          ],
          [
           "France",
           910,
           "Blayais-3"
          ],
          [
           "France",
           910,
           "Blayais-4"
          ],
          [
           "Slovakia",
           408,
           "Bohunice-1"
          ],
          [
           "Slovakia",
           408,
           "Bohunice-2"
          ],
          [
           "Slovakia",
           466,
           "Bohunice-3"
          ],
          [
           "Slovakia",
           466,
           "Bohunice-4"
          ],
          [
           "Slovakia",
           110,
           "Bohunice-A1"
          ],
          [
           "United States",
           17,
           "BONUS"
          ],
          [
           "Netherlands",
           495,
           "Borssele"
          ],
          [
           "Belgium",
           11,
           "BR-3"
          ],
          [
           "United Kingdom",
           150,
           "Bradwell-1"
          ],
          [
           "United Kingdom",
           150,
           "Bradwell-2"
          ],
          [
           "United States",
           1120,
           "Braidwood-1"
          ],
          [
           "United States",
           1120,
           "Braidwood-2"
          ],
          [
           "Germany",
           1307,
           "Brokdorf"
          ],
          [
           "United States",
           1065,
           "Browns Ferry-1"
          ],
          [
           "United States",
           1065,
           "Browns Ferry-2"
          ],
          [
           "United States",
           1065,
           "Browns Ferry-3"
          ],
          [
           "Canada",
           774,
           "Bruce-1"
          ],
          [
           "Canada",
           777,
           "Bruce-2"
          ],
          [
           "Canada",
           770,
           "Bruce-3"
          ],
          [
           "Canada",
           769,
           "Bruce-4"
          ],
          [
           "Canada",
           822,
           "Bruce-5"
          ],
          [
           "Canada",
           822,
           "Bruce-6"
          ],
          [
           "Canada",
           822,
           "Bruce-7"
          ],
          [
           "Canada",
           795,
           "Bruce-8"
          ],
          [
           "Germany",
           770,
           "Brunsbuettel"
          ],
          [
           "United States",
           821,
           "Brunswick-1"
          ],
          [
           "United States",
           821,
           "Brunswick-2"
          ],
          [
           "France",
           540,
           "Bugey-1"
          ],
          [
           "France",
           920,
           "Bugey-2"
          ],
          [
           "France",
           920,
           "Bugey-3"
          ],
          [
           "France",
           900,
           "Bugey-4"
          ],
          [
           "France",
           900,
           "Bugey-5"
          ],
          [
           "Iran",
           915,
           "Bushehr-1"
          ],
          [
           "Iran",
           974,
           "Bushehr-2"
          ],
          [
           "Iran",
           0,
           "Bushehr-3"
          ],
          [
           "Iran",
           0,
           "Bushehr-4"
          ],
          [
           "United States",
           1120,
           "Byron-1"
          ],
          [
           "United States",
           1120,
           "Byron-2"
          ],
          [
           "United Kingdom",
           35,
           "Calder Hall-1"
          ],
          [
           "United Kingdom",
           35,
           "Calder Hall-2"
          ],
          [
           "United Kingdom",
           35,
           "Calder Hall-3"
          ],
          [
           "United Kingdom",
           35,
           "Calder Hall-4"
          ],
          [
           "United States",
           1171,
           "Callaway-1"
          ],
          [
           "United States",
           845,
           "Calvert Cliffs-1"
          ],
          [
           "United States",
           845,
           "Calvert Cliffs-2"
          ],
          [
           "Italy",
           840,
           "Caorso"
          ],
          [
           "Argentina",
           25,
           "CAREM25"
          ],
          [
           "United States",
           17,
           "Carolinas CVTR"
          ],
          [
           "United States",
           1145,
           "Catawba-1"
          ],
          [
           "United States",
           1145,
           "Catawba-2"
          ],
          [
           "France",
           1300,
           "Cattenom-1"
          ],
          [
           "France",
           1300,
           "Cattenom-2"
          ],
          [
           "France",
           1300,
           "Cattenom-3"
          ],
          [
           "France",
           1300,
           "Cattenom-4"
          ],
          [
           "China",
           20,
           "CEFR (China Experimental Fast Reactor)"
          ],
          [
           "Romania",
           650,
           "Cernavoda-1"
          ],
          [
           "Romania",
           650,
           "Cernavoda-2"
          ],
          [
           "Romania",
           655,
           "Cernavoda-3"
          ],
          [
           "China",
           601,
           "Changjiang-1"
          ],
          [
           "China",
           601,
           "Changjiang-2"
          ],
          [
           "United Kingdom",
           35,
           "Chapelcross-1"
          ],
          [
           "United Kingdom",
           35,
           "Chapelcross-2"
          ],
          [
           "United Kingdom",
           35,
           "Chapelcross-3"
          ],
          [
           "United Kingdom",
           35,
           "Chapelcross-4"
          ],
          [
           "Pakistan",
           300,
           "CHASNUPP-1"
          ],
          [
           "Pakistan",
           300,
           "CHASNUPP-2"
          ],
          [
           "Pakistan",
           315,
           "CHASNUPP-3"
          ],
          [
           "Pakistan",
           313,
           "CHASNUPP-4"
          ],
          [
           "Ukraine",
           925,
           "Chernobyl-1"
          ],
          [
           "Ukraine",
           925,
           "Chernobyl-2"
          ],
          [
           "Ukraine",
           925,
           "Chernobyl-3"
          ],
          [
           "Ukraine",
           925,
           "Chernobyl-4"
          ],
          [
           "Taiwan",
           604,
           "Chin Shan-1"
          ],
          [
           "Taiwan",
           604,
           "Chin Shan-2"
          ],
          [
           "France",
           68,
           "Chinon-A1"
          ],
          [
           "France",
           170,
           "Chinon-A2"
          ],
          [
           "France",
           480,
           "Chinon-A3"
          ],
          [
           "France",
           870,
           "Chinon-B1"
          ],
          [
           "France",
           870,
           "Chinon-B2"
          ],
          [
           "France",
           905,
           "Chinon-B3"
          ],
          [
           "France",
           905,
           "Chinon-B4"
          ],
          [
           "France",
           280,
           "Chooz-A"
          ],
          [
           "France",
           1455,
           "Chooz-B1"
          ],
          [
           "France",
           1455,
           "Chooz-B2"
          ],
          [
           "France",
           1450,
           "Civaux-1"
          ],
          [
           "France",
           1450,
           "Civaux-2"
          ],
          [
           "United States",
           950,
           "Clinton-1"
          ],
          [
           "Spain",
           939,
           "Cofrentes"
          ],
          [
           "United States",
           1100,
           "Columbia (WNP-2)"
          ],
          [
           "United States",
           1150,
           "Comanche Peak-1"
          ],
          [
           "United States",
           1150,
           "Comanche Peak-2"
          ],
          [
           "United States",
           778,
           "Cooper"
          ],
          [
           "France",
           880,
           "Cruas-1"
          ],
          [
           "France",
           915,
           "Cruas-2"
          ],
          [
           "France",
           880,
           "Cruas-3"
          ],
          [
           "France",
           880,
           "Cruas-4"
          ],
          [
           "United States",
           825,
           "Crystal River-3"
          ],
          [
           "France",
           890,
           "Dampierre-1"
          ],
          [
           "France",
           890,
           "Dampierre-2"
          ],
          [
           "France",
           890,
           "Dampierre-3"
          ],
          [
           "France",
           890,
           "Dampierre-4"
          ],
          [
           "Iran",
           0,
           "Darkhovin"
          ],
          [
           "Canada",
           881,
           "Darlington-1"
          ],
          [
           "Canada",
           881,
           "Darlington-2"
          ],
          [
           "Canada",
           881,
           "Darlington-3"
          ],
          [
           "Canada",
           881,
           "Darlington-4"
          ],
          [
           "Canada",
           0,
           "Darlington-5"
          ],
          [
           "Canada",
           0,
           "Darlington-6"
          ],
          [
           "United States",
           906,
           "Davis Besse-1"
          ],
          [
           "China",
           930,
           "Daya Bay-1 (Guangdong-1)"
          ],
          [
           "China",
           930,
           "Daya Bay-2 (Guangdong-2)"
          ],
          [
           "United States",
           1084,
           "Diablo Canyon-1"
          ],
          [
           "United States",
           1106,
           "Diablo Canyon-2"
          ],
          [
           "Belgium",
           392,
           "Doel-1"
          ],
          [
           "Belgium",
           445,
           "Doel-2"
          ],
          [
           "Belgium",
           1006,
           "Doel-3"
          ],
          [
           "Belgium",
           1000,
           "Doel-4"
          ],
          [
           "United States",
           1030,
           "Donald Cook-1"
          ],
          [
           "United States",
           1100,
           "Donald Cook-2"
          ],
          [
           "Canada",
           203,
           "Douglas Point"
          ],
          [
           "United Kingdom",
           14,
           "Dounreay DFR"
          ],
          [
           "United Kingdom",
           234,
           "Dounreay PFR"
          ],
          [
           "United States",
           192,
           "Dresden-1"
          ],
          [
           "United States",
           794,
           "Dresden-2"
          ],
          [
           "United States",
           794,
           "Dresden-3"
          ],
          [
           "United States",
           601,
           "Duane Arnold-1"
          ],
          [
           "Czechia",
           468,
           "Dukovany-1"
          ],
          [
           "Czechia",
           420,
           "Dukovany-2"
          ],
          [
           "Czechia",
           420,
           "Dukovany-3"
          ],
          [
           "Czechia",
           420,
           "Dukovany-4"
          ],
          [
           "United Kingdom",
           275,
           "Dungeness-A1"
          ],
          [
           "United Kingdom",
           275,
           "Dungeness-A2"
          ],
          [
           "United Kingdom",
           607,
           "Dungeness-B1"
          ],
          [
           "United Kingdom",
           545,
           "Dungeness-B2"
          ],
          [
           "Egypt",
           0,
           "El Dabaa-1"
          ],
          [
           "France",
           70,
           "EL-4 (Monts D'Arree)"
          ],
          [
           "United States",
           22,
           "Elk River"
          ],
          [
           "Argentina",
           608,
           "Embalse"
          ],
          [
           "Germany",
           1242,
           "Emsland"
          ],
          [
           "Italy",
           247,
           "Enrico Fermi"
          ],
          [
           "United States",
           60,
           "Enrico Fermi-1"
          ],
          [
           "United States",
           1093,
           "Enrico Fermi-2"
          ],
          [
           "China",
           1000,
           "Fangchenggang-1"
          ],
          [
           "China",
           1000,
           "Fangchenggang-2"
          ],
          [
           "China",
           1000,
           "Fangjiashan-1"
          ],
          [
           "China",
           1000,
           "Fangjiashan-2"
          ],
          [
           "United States",
           829,
           "Farley-1"
          ],
          [
           "United States",
           829,
           "Farley-2"
          ],
          [
           "France",
           880,
           "Fessenheim-1"
          ],
          [
           "France",
           880,
           "Fessenheim-2"
          ],
          [
           "United States",
           821,
           "FitzPatrick"
          ],
          [
           "France",
           1330,
           "Flamanville-1"
          ],
          [
           "France",
           1330,
           "Flamanville-2"
          ],
          [
           "France",
           1630,
           "Flamanville-3"
          ],
          [
           "Sweden",
           900,
           "Forsmark-1"
          ],
          [
           "Sweden",
           900,
           "Forsmark-2"
          ],
          [
           "Sweden",
           1050,
           "Forsmark-3"
          ],
          [
           "United States",
           478,
           "Fort Calhoun-1"
          ],
          [
           "United States",
           330,
           "Fort St. Vrain"
          ],
          [
           "Japan",
           148,
           "Fugen ATR"
          ],
          [
           "Japan",
           439,
           "Fukushima Daiichi-1"
          ],
          [
           "Japan",
           760,
           "Fukushima Daiichi-2"
          ],
          [
           "Japan",
           760,
           "Fukushima Daiichi-3"
          ],
          [
           "Japan",
           760,
           "Fukushima Daiichi-4"
          ],
          [
           "Japan",
           760,
           "Fukushima Daiichi-5"
          ],
          [
           "Japan",
           1067,
           "Fukushima Daiichi-6"
          ],
          [
           "Japan",
           1067,
           "Fukushima Daini-1"
          ],
          [
           "Japan",
           1067,
           "Fukushima Daini-2"
          ],
          [
           "Japan",
           1067,
           "Fukushima Daini-3"
          ],
          [
           "Japan",
           1067,
           "Fukushima Daini-4"
          ],
          [
           "China",
           1000,
           "Fuqing-1"
          ],
          [
           "China",
           1000,
           "Fuqing-2"
          ],
          [
           "China",
           1000,
           "Fuqing-3"
          ],
          [
           "China",
           1000,
           "Fuqing-4"
          ],
          [
           "China",
           1000,
           "Fuqing-5"
          ],
          [
           "China",
           1000,
           "Fuqing-6"
          ],
          [
           "France",
           36,
           "G-2 (Marcoule)"
          ],
          [
           "France",
           36,
           "G-3 (Marcoule)"
          ],
          [
           "Italy",
           150,
           "Garigliano"
          ],
          [
           "United States",
           24,
           "GE Vallecitos"
          ],
          [
           "Japan",
           529,
           "Genkai-1"
          ],
          [
           "Japan",
           529,
           "Genkai-2"
          ],
          [
           "Japan",
           1127,
           "Genkai-3"
          ],
          [
           "Japan",
           1127,
           "Genkai-4"
          ],
          [
           "Canada",
           250,
           "Gentilly-1 (Demo)"
          ],
          [
           "Canada",
           645,
           "Gentilly-2"
          ],
          [
           "Netherlands",
           54,
           "Dodewaard"
          ],
          [
           "Switzerland",
           1010,
           "Goesgen"
          ],
          [
           "France",
           1310,
           "Golfech-1"
          ],
          [
           "France",
           1310,
           "Golfech-2"
          ],
          [
           "Germany",
           1225,
           "Grafenrheinfeld"
          ],
          [
           "United States",
           1250,
           "Grand Gulf-1"
          ],
          [
           "France",
           910,
           "Gravelines-1"
          ],
          [
           "France",
           910,
           "Gravelines-2"
          ],
          [
           "France",
           910,
           "Gravelines-3"
          ],
          [
           "France",
           910,
           "Gravelines-4"
          ],
          [
           "France",
           910,
           "Gravelines-5"
          ],
          [
           "France",
           910,
           "Gravelines-6"
          ],
          [
           "Germany",
           440,
           "Greifswald-1"
          ],
          [
           "Germany",
           408,
           "Greifswald-2"
          ],
          [
           "Germany",
           408,
           "Greifswald-3"
          ],
          [
           "Germany",
           408,
           "Greifswald-4"
          ],
          [
           "Germany",
           408,
           "Greifswald-5"
          ],
          [
           "Germany",
           1289,
           "Grohnde"
          ],
          [
           "Germany",
           23,
           "Grosswelzheim"
          ],
          [
           "Germany",
           237,
           "Gundremmingen-A"
          ],
          [
           "Germany",
           1244,
           "Gundremmingen-B"
          ],
          [
           "Germany",
           1249,
           "Gundremmingen-C"
          ],
          [
           "United States",
           700,
           "H. B. Robinson-2"
          ],
          [
           "United States",
           582,
           "Haddam Neck"
          ],
          [
           "China",
           1126,
           "Haiyang-1"
          ],
          [
           "China",
           1126,
           "Haiyang-2"
          ],
          [
           "China",
           0,
           "Haiyang-3"
          ],
          [
           "China",
           0,
           "Haiyang-4"
          ],
          [
           "United States",
           75,
           "Hallam"
          ],
          [
           "Japan",
           516,
           "Hamaoka-1"
          ],
          [
           "Japan",
           814,
           "Hamaoka-2"
          ],
          [
           "Japan",
           1056,
           "Hamaoka-3"
          ],
          [
           "Japan",
           1092,
           "Hamaoka-4"
          ],
          [
           "Japan",
           1325,
           "Hamaoka-5"
          ],
          [
           "Japan",
           0,
           "Hamaoka-6"
          ],
          [
           "South Korea",
           995,
           "Hanbit-1"
          ],
          [
           "South Korea",
           988,
           "Hanbit-2"
          ],
          [
           "South Korea",
           986,
           "Hanbit-3"
          ],
          [
           "South Korea",
           970,
           "Hanbit-4"
          ],
          [
           "South Korea",
           992,
           "Hanbit-5"
          ],
          [
           "South Korea",
           993,
           "Hanbit-6"
          ],
          [
           "South Korea",
           966,
           "Hanul-1"
          ],
          [
           "South Korea",
           967,
           "Hanul-2"
          ],
          [
           "South Korea",
           997,
           "Hanul-3"
          ],
          [
           "South Korea",
           999,
           "Hanul-4"
          ],
          [
           "South Korea",
           998,
           "Hanul-5"
          ],
          [
           "South Korea",
           997,
           "Hanul-6"
          ],
          [
           "United Kingdom",
           590,
           "Hartlepool-A1"
          ],
          [
           "United Kingdom",
           595,
           "Hartlepool-A2"
          ],
          [
           "United States",
           777,
           "Hatch-1"
          ],
          [
           "United States",
           784,
           "Hatch-2"
          ],
          [
           "United Kingdom",
           611,
           "Heysham-A1"
          ],
          [
           "United Kingdom",
           611,
           "Heysham-A2"
          ],
          [
           "United Kingdom",
           615,
           "Heysham-B1"
          ],
          [
           "United Kingdom",
           615,
           "Heysham-B2"
          ],
          [
           "Japan",
           1067,
           "Higashi Dori-1 (Tohoku)"
          ],
          [
           "Japan",
           0,
           "Higashi Dori-1 (Tokyo)"
          ],
          [
           "Japan",
           0,
           "Higashi Dori-2 (Tohoku)"
          ],
          [
           "Japan",
           0,
           "Higashi Dori-2 (Tokyo)"
          ],
          [
           "United Kingdom",
           250,
           "Hinkley Point-A1"
          ],
          [
           "United Kingdom",
           250,
           "Hinkley Point-A2"
          ],
          [
           "United Kingdom",
           625,
           "Hinkley Point-B1"
          ],
          [
           "United Kingdom",
           625,
           "Hinkley Point-B2"
          ],
          [
           "United Kingdom",
           1630,
           "Hinkley Point-C1"
          ],
          [
           "United Kingdom",
           1630,
           "Hinkley Point-C2"
          ],
          [
           "China",
           0,
           "Hongshiding-1 (Rushan-1)"
          ],
          [
           "China",
           0,
           "Hongshiding-2 (Rushan-2)"
          ],
          [
           "China",
           1061,
           "Hongyanhe-1"
          ],
          [
           "China",
           1061,
           "Hongyanhe-2"
          ],
          [
           "China",
           1061,
           "Hongyanhe-3"
          ],
          [
           "China",
           1061,
           "Hongyanhe-4"
          ],
          [
           "China",
           1061,
           "Hongyanhe-5"
          ],
          [
           "China",
           1061,
           "Hongyanhe-6"
          ],
          [
           "United States",
           1067,
           "Hope Creek-1"
          ],
          [
           "United States",
           65,
           "Humboldt Bay"
          ],
          [
           "United Kingdom",
           150,
           "Hunterston-A1"
          ],
          [
           "United Kingdom",
           150,
           "Hunterston-A2"
          ],
          [
           "United Kingdom",
           624,
           "Hunterston-B1"
          ],
          [
           "United Kingdom",
           624,
           "Hunterston-B2"
          ],
          [
           "Lithuania",
           1185,
           "Ignalina-1"
          ],
          [
           "Lithuania",
           1185,
           "Ignalina-2"
          ],
          [
           "Lithuania",
           1380,
           "Ignalina-3"
          ],
          [
           "Japan",
           538,
           "Ikata-1"
          ],
          [
           "Japan",
           538,
           "Ikata-2"
          ],
          [
           "Japan",
           846,
           "Ikata-3"
          ],
          [
           "United States",
           265,
           "Indian Point-1"
          ],
          [
           "United States",
           873,
           "Indian Point-2"
          ],
          [
           "United States",
           965,
           "Indian Point-3"
          ],
          [
           "Germany",
           870,
           "Isar-1"
          ],
          [
           "Germany",
           1285,
           "Isar-2"
          ],
          [
           "India",
           0,
           "Jaitapur-1"
          ],
          [
           "India",
           0,
           "Jaitapur-2"
          ],
          [
           "Indonesia",
           0,
           "Java-1 (Muria)"
          ],
          [
           "Spain",
           153,
           "Jose Cabrera-1 (Zorita)"
          ],
          [
           "Japan",
           10,
           "JPDR"
          ],
          [
           "Germany",
           13,
           "AVR Juelich"
          ],
          [
           "Germany",
           15,
           "Kahl"
          ],
          [
           "India",
           202,
           "Kaiga-1"
          ],
          [
           "India",
           202,
           "Kaiga-2"
          ],
          [
           "India",
           202,
           "Kaiga-3"
          ],
          [
           "India",
           202,
           "Kaiga-4"
          ],
          [
           "India",
           0,
           "Kaiga-5"
          ],
          [
           "India",
           0,
           "Kaiga-6"
          ],
          [
           "India",
           202,
           "Kakrapar-1"
          ],
          [
           "India",
           202,
           "Kakrapar-2"
          ],
          [
           "India",
           630,
           "Kakrapar-3"
          ],
          [
           "India",
           630,
           "Kakrapar-4"
          ],
          [
           "Russia",
           950,
           "Kalinin-1"
          ],
          [
           "Russia",
           950,
           "Kalinin-2"
          ],
          [
           "Russia",
           950,
           "Kalinin-3"
          ],
          [
           "Russia",
           950,
           "Kalinin-4"
          ],
          [
           "India",
           470,
           "Kalpakkam (PFBR)"
          ],
          [
           "India",
           202,
           "Kalpakkam-1 (Madras-1 / MAPS1)"
          ],
          [
           "India",
           202,
           "Kalpakkam-2 (Madras-2 / MAPS2)"
          ],
          [
           "Japan",
           0,
           "Kaminoseki-1"
          ],
          [
           "Japan",
           0,
           "Kaminoseki-2"
          ],
          [
           "Pakistan",
           125,
           "KANUPP-1"
          ],
          [
           "Germany",
           50,
           "MZFR"
          ],
          [
           "Japan",
           1067,
           "Kashiwazaki Kariwa-1"
          ],
          [
           "Japan",
           1067,
           "Kashiwazaki Kariwa-2"
          ],
          [
           "Japan",
           1067,
           "Kashiwazaki Kariwa-3"
          ],
          [
           "Japan",
           1067,
           "Kashiwazaki Kariwa-4"
          ],
          [
           "Japan",
           1067,
           "Kashiwazaki Kariwa-5"
          ],
          [
           "Japan",
           1315,
           "Kashiwazaki Kariwa-6"
          ],
          [
           "Japan",
           1315,
           "Kashiwazaki Kariwa-7"
          ],
          [
           "United States",
           535,
           "Kewaunee"
          ],
          [
           "Ukraine",
           950,
           "Khmelnitski-1"
          ],
          [
           "Ukraine",
           950,
           "Khmelnitski-2"
          ],
          [
           "Ukraine",
           1035,
           "Khmelnitski-3"
          ],
          [
           "Ukraine",
           1035,
           "Khmelnitski-4"
          ],
          [
           "Germany",
           18,
           "KNK-II"
          ],
          [
           "South Africa",
           921,
           "Koeberg-1"
          ],
          [
           "South Africa",
           921,
           "Koeberg-2"
          ],
          [
           "Russia",
           411,
           "Kola-1"
          ],
          [
           "Russia",
           411,
           "Kola-2"
          ],
          [
           "Russia",
           411,
           "Kola-3"
          ],
          [
           "Russia",
           411,
           "Kola-4"
          ],
          [
           "South Korea",
           558,
           "Kori-1"
          ],
          [
           "South Korea",
           640,
           "Kori-2"
          ],
          [
           "South Korea",
           1011,
           "Kori-3"
          ],
          [
           "South Korea",
           1012,
           "Kori-4"
          ],
          [
           "Bulgaria",
           408,
           "Kozloduy-1"
          ],
          [
           "Bulgaria",
           408,
           "Kozloduy-2"
          ],
          [
           "Bulgaria",
           408,
           "Kozloduy-3"
          ],
          [
           "Bulgaria",
           408,
           "Kozloduy-4"
          ],
          [
           "Bulgaria",
           1003,
           "Kozloduy-5"
          ],
          [
           "Bulgaria",
           1003,
           "Kozloduy-6"
          ],
          [
           "Slovenia",
           632,
           "Krsko"
          ],
          [
           "Germany",
           1260,
           "Kruemmel"
          ],
          [
           "India",
           917,
           "Kudankulam-1"
          ],
          [
           "India",
           917,
           "Kudankulam-2"
          ],
          [
           "India",
           917,
           "Kudankulam-3"
          ],
          [
           "India",
           917,
           "Kudankulam-4"
          ],
          [
           "India",
           0,
           "Kudankulam-5"
          ],
          [
           "India",
           0,
           "Kudankulam-6"
          ],
          [
           "India",
           0,
           "Kumharia-1"
          ],
          [
           "India",
           0,
           "Kumharia-2"
          ],
          [
           "India",
           0,
           "Kumharia-3"
          ],
          [
           "India",
           0,
           "Kumharia-4"
          ],
          [
           "Taiwan",
           985,
           "Kuosheng-1"
          ],
          [
           "Taiwan",
           985,
           "Kuosheng-2"
          ],
          [
           "Russia",
           925,
           "Kursk-1"
          ],
          [
           "Russia",
           925,
           "Kursk-2"
          ],
          [
           "Russia",
           925,
           "Kursk-3"
          ],
          [
           "Russia",
           925,
           "Kursk-4"
          ],
          [
           "United States",
           50,
           "LaCrosse"
          ],
          [
           "Mexico",
           777,
           "Laguna Verde-1"
          ],
          [
           "Mexico",
           780,
           "Laguna Verde-2"
          ],
          [
           "United States",
           1078,
           "LaSalle-1"
          ],
          [
           "United States",
           1078,
           "LaSalle-2"
          ],
          [
           "Italy",
           200,
           "Latina"
          ],
          [
           "Switzerland",
           960,
           "Leibstadt"
          ],
          [
           "Russia",
           1066,
           "Leningrad 2-1"
          ],
          [
           "Russia",
           1066,
           "Leningrad 2-2"
          ],
          [
           "Russia",
           1085,
           "Leningrad 2-3"
          ],
          [
           "Russia",
           1085,
           "Leningrad 2-4"
          ],
          [
           "Russia",
           925,
           "Leningrad-1"
          ],
          [
           "Russia",
           925,
           "Leningrad-2"
          ],
          [
           "Russia",
           925,
           "Leningrad-3"
          ],
          [
           "Russia",
           925,
           "Leningrad-4"
          ],
          [
           "China",
           0,
           "Lianyungang-1"
          ],
          [
           "China",
           0,
           "Lianyungang-2"
          ],
          [
           "United States",
           1055,
           "Limerick-1"
          ],
          [
           "United States",
           1055,
           "Limerick-2"
          ],
          [
           "China",
           950,
           "Lingao-1"
          ],
          [
           "China",
           950,
           "Lingao-2"
          ],
          [
           "China",
           1007,
           "Lingao-3"
          ],
          [
           "China",
           1007,
           "Lingao-4"
          ],
          [
           "Germany",
           183,
           "Lingen"
          ],
          [
           "China",
           0,
           "Longyou-1"
          ],
          [
           "China",
           0,
           "Longyou-2"
          ],
          [
           "Finland",
           420,
           "Loviisa-1"
          ],
          [
           "Finland",
           420,
           "Loviisa-2"
          ],
          [
           "Switzerland",
           6,
           "Lucens"
          ],
          [
           "Taiwan",
           1300,
           "Lungmen-1"
          ],
          [
           "Taiwan",
           1300,
           "Lungmen-2"
          ],
          [
           "Taiwan",
           936,
           "Maanshan-1"
          ],
          [
           "Taiwan",
           938,
           "Maanshan-2"
          ],
          [
           "United States",
           825,
           "Maine Yankee"
          ],
          [
           "United States",
           1180,
           "McGuire-1"
          ],
          [
           "United States",
           1180,
           "McGuire-2"
          ],
          [
           "Japan",
           320,
           "Mihama-1"
          ],
          [
           "Japan",
           470,
           "Mihama-2"
          ],
          [
           "Japan",
           780,
           "Mihama-3"
          ],
          [
           "United States",
           660,
           "Millstone-1"
          ],
          [
           "United States",
           870,
           "Millstone-2"
          ],
          [
           "United States",
           1159,
           "Millstone-3"
          ],
          [
           "Slovakia",
           436,
           "Mochovce-1"
          ],
          [
           "Slovakia",
           469,
           "Mochovce-2"
          ],
          [
           "Slovakia",
           440,
           "Mochovce-3"
          ],
          [
           "Slovakia",
           440,
           "Mochovce-4"
          ],
          [
           "Japan",
           246,
           "Monju"
          ],
          [
           "United States",
           545,
           "Monticello"
          ],
          [
           "Switzerland",
           306,
           "Muehleberg"
          ],
          [
           "Germany",
           1219,
           "Muelheim-Kaerlich"
          ],
          [
           "India",
           202,
           "Narora-1"
          ],
          [
           "India",
           202,
           "Narora-2"
          ],
          [
           "Germany",
           805,
           "Neckarwestheim-1"
          ],
          [
           "Germany",
           1225,
           "Neckarwestheim-2"
          ],
          [
           "Germany",
           100,
           "Niederaichbach"
          ],
          [
           "United States",
           620,
           "Nine Mile Point-1"
          ],
          [
           "United States",
           1100,
           "Nine Mile Point-2"
          ],
          [
           "China",
           1018,
           "Ningde-1"
          ],
          [
           "China",
           1018,
           "Ningde-2"
          ],
          [
           "China",
           1018,
           "Ningde-3"
          ],
          [
           "China",
           1018,
           "Ningde-4"
          ],
          [
           "China",
           0,
           "Ningde-5"
          ],
          [
           "China",
           0,
           "Ningde-6"
          ],
          [
           "Russia",
           0,
           "Nizhny Novgorod-1"
          ],
          [
           "Russia",
           0,
           "Nizhny Novgorod-2"
          ],
          [
           "France",
           1310,
           "Nogent-1"
          ],
          [
           "France",
           1310,
           "Nogent-2"
          ],
          [
           "United States",
           907,
           "North Anna-1"
          ],
          [
           "United States",
           907,
           "North Anna-2"
          ],
          [
           "Russia",
           1114,
           "Novovoronezh 2-1"
          ],
          [
           "Russia",
           1114,
           "Novovoronezh 2-2"
          ],
          [
           "Russia",
           197,
           "Novovoronezh-1"
          ],
          [
           "Russia",
           336,
           "Novovoronezh-2"
          ],
          [
           "Russia",
           385,
           "Novovoronezh-3"
          ],
          [
           "Russia",
           385,
           "Novovoronezh-4"
          ],
          [
           "Russia",
           950,
           "Novovoronezh-5"
          ],
          [
           "Germany",
           283,
           "Obrigheim"
          ],
          [
           "United States",
           887,
           "Oconee-1"
          ],
          [
           "United States",
           887,
           "Oconee-2"
          ],
          [
           "United States",
           887,
           "Oconee-3"
          ],
          [
           "Japan",
           1120,
           "Ohi-1"
          ],
          [
           "Japan",
           1120,
           "Ohi-2"
          ],
          [
           "Japan",
           1127,
           "Ohi-3"
          ],
          [
           "Japan",
           1127,
           "Ohi-4"
          ],
          [
           "Japan",
           1328,
           "Ohma"
          ],
          [
           "United Kingdom",
           300,
           "Oldbury-A1"
          ],
          [
           "United Kingdom",
           300,
           "Oldbury-A2"
          ],
          [
           "Finland",
           660,
           "Olkiluoto-1"
          ],
          [
           "Finland",
           660,
           "Olkiluoto-2"
          ],
          [
           "Finland",
           1600,
           "Olkiluoto-3"
          ],
          [
           "Finland",
           0,
           "Olkiluoto-4"
          ],
          [
           "Japan",
           498,
           "Onagawa-1"
          ],
          [
           "Japan",
           796,
           "Onagawa-2"
          ],
          [
           "Japan",
           796,
           "Onagawa-3"
          ],
          [
           "Sweden",
           440,
           "Oskarshamn-1"
          ],
          [
           "Sweden",
           580,
           "Oskarshamn-2"
          ],
          [
           "Sweden",
           1050,
           "Oskarshamn-3"
          ],
          [
           "United States",
           650,
           "Oyster Creek"
          ],
          [
           "Hungary",
           408,
           "Paks-1"
          ],
          [
           "Hungary",
           410,
           "Paks-2"
          ],
          [
           "Hungary",
           410,
           "Paks-3"
          ],
          [
           "Hungary",
           410,
           "Paks-4"
          ],
          [
           "United States",
           805,
           "Palisades"
          ],
          [
           "United States",
           1221,
           "Palo Verde-1"
          ],
          [
           "United States",
           1304,
           "Palo Verde-2"
          ],
          [
           "United States",
           1304,
           "Palo Verde-3"
          ],
          [
           "France",
           1330,
           "Paluel-1"
          ],
          [
           "France",
           1330,
           "Paluel-2"
          ],
          [
           "France",
           1330,
           "Paluel-3"
          ],
          [
           "France",
           1330,
           "Paluel-4"
          ],
          [
           "United States",
           59,
           "Pathfinder"
          ],
          [
           "United States",
           40,
           "Peach Bottom-1"
          ],
          [
           "United States",
           1065,
           "Peach Bottom-2"
          ],
          [
           "United States",
           1065,
           "Peach Bottom-3"
          ],
          [
           "China",
           0,
           "Pengze-1"
          ],
          [
           "China",
           0,
           "Pengze-2"
          ],
          [
           "France",
           1330,
           "Penly-1"
          ],
          [
           "France",
           1330,
           "Penly-2"
          ],
          [
           "France",
           0,
           "Penly-3"
          ],
          [
           "United States",
           1205,
           "Perry-1"
          ],
          [
           "France",
           233,
           "Phenix"
          ],
          [
           "Germany",
           864,
           "Philippsburg-1"
          ],
          [
           "Germany",
           1268,
           "Philippsburg-2"
          ],
          [
           "Canada",
           508,
           "Pickering-1"
          ],
          [
           "Canada",
           508,
           "Pickering-2"
          ],
          [
           "Canada",
           508,
           "Pickering-3"
          ],
          [
           "Canada",
           508,
           "Pickering-4"
          ],
          [
           "Canada",
           516,
           "Pickering-5"
          ],
          [
           "Canada",
           516,
           "Pickering-6"
          ],
          [
           "Canada",
           516,
           "Pickering-7"
          ],
          [
           "Canada",
           516,
           "Pickering-8"
          ],
          [
           "United States",
           655,
           "Pilgrim-1"
          ],
          [
           "United States",
           11,
           "Piqua"
          ],
          [
           "United States",
           497,
           "Point Beach-1"
          ],
          [
           "United States",
           497,
           "Point Beach-2"
          ],
          [
           "Canada",
           660,
           "Point Lepreau"
          ],
          [
           "Canada",
           0,
           "Point Lepreau 2"
          ],
          [
           "United States",
           530,
           "Prairie Island-1"
          ],
          [
           "United States",
           530,
           "Prairie Island-2"
          ],
          [
           "China",
           308,
           "Qinshan-1"
          ],
          [
           "China",
           610,
           "Qinshan-2-1 (Qinshan 2)"
          ],
          [
           "China",
           610,
           "Qinshan-2-2 (Qinshan 3)"
          ],
          [
           "China",
           619,
           "Qinshan-2-3 (Qinshan 4)"
          ],
          [
           "China",
           619,
           "Qinshan-2-4 (Qinshan 5)"
          ],
          [
           "China",
           677,
           "Qinshan-3-1 (Qinshan 6)"
          ],
          [
           "China",
           677,
           "Qinshan-3-2 (Qinshan 7)"
          ],
          [
           "United States",
           789,
           "Quad Cities-1"
          ],
          [
           "United States",
           789,
           "Quad Cities-2"
          ],
          [
           "United States",
           470,
           "R. E. Ginna"
          ],
          [
           "India",
           207,
           "Rajasthan-1"
          ],
          [
           "India",
           207,
           "Rajasthan-2"
          ],
          [
           "India",
           202,
           "Rajasthan-3"
          ],
          [
           "India",
           202,
           "Rajasthan-4"
          ],
          [
           "India",
           202,
           "Rajasthan-5"
          ],
          [
           "India",
           202,
           "Rajasthan-6"
          ],
          [
           "India",
           630,
           "Rajasthan-7"
          ],
          [
           "India",
           630,
           "Rajasthan-8"
          ],
          [
           "United States",
           918,
           "Rancho Seco-1"
          ],
          [
           "Germany",
           62,
           "Rheinsberg"
          ],
          [
           "Sweden",
           881,
           "Ringhals-1"
          ],
          [
           "Sweden",
           820,
           "Ringhals-2"
          ],
          [
           "Sweden",
           1072,
           "Ringhals-3"
          ],
          [
           "Sweden",
           1130,
           "Ringhals-4"
          ],
          [
           "United States",
           966,
           "River Bend-1"
          ],
          [
           "Canada",
           17,
           "Rolphton NPD"
          ],
          [
           "Russia",
           950,
           "Rostov-1 (Volgodonsk-1)"
          ],
          [
           "Russia",
           950,
           "Rostov-2 (Volgodonsk-2)"
          ],
          [
           "Russia",
           950,
           "Rostov-3 (Volgodonsk-3)"
          ],
          [
           "Russia",
           950,
           "Rostov-4 (Volgodonsk-4)"
          ],
          [
           "Ukraine",
           361,
           "Rovno-1"
          ],
          [
           "Ukraine",
           384,
           "Rovno-2"
          ],
          [
           "Ukraine",
           950,
           "Rovno-3"
          ],
          [
           "Ukraine",
           950,
           "Rovno-4"
          ],
          [
           "United States",
           1090,
           "Salem-1"
          ],
          [
           "United States",
           1115,
           "Salem-2"
          ],
          [
           "United States",
           436,
           "San Onofre-1"
          ],
          [
           "United States",
           1070,
           "San Onofre-2"
          ],
          [
           "United States",
           1070,
           "San Onofre-3"
          ],
          [
           "China",
           1157,
           "Sanmen-1"
          ],
          [
           "China",
           1157,
           "Sanmen-2"
          ],
          [
           "China",
           0,
           "Sanmen-3"
          ],
          [
           "China",
           0,
           "Sanmen-4"
          ],
          [
           "China",
           0,
           "Sanming-1"
          ],
          [
           "China",
           0,
           "Sanming-2"
          ],
          [
           "Spain",
           440,
           "Santa Maria de Garona"
          ],
          [
           "United States",
           3,
           "Saxton"
          ],
          [
           "United States",
           1149,
           "Seabrook-1"
          ],
          [
           "Japan",
           846,
           "Sendai-1"
          ],
          [
           "Japan",
           846,
           "Sendai-2"
          ],
          [
           "Japan",
           0,
           "Sendai-3"
          ],
          [
           "United States",
           1148,
           "Sequoyah-1"
          ],
          [
           "United States",
           1148,
           "Sequoyah-2"
          ],
          [
           "China",
           0,
           "Shanwei-1"
          ],
          [
           "China",
           0,
           "Shaoguan-1"
          ],
          [
           "China",
           0,
           "Shaoguan-2"
          ],
          [
           "China",
           0,
           "Shaoguan-3"
          ],
          [
           "China",
           0,
           "Shaoguan-4"
          ],
          [
           "United States",
           900,
           "Shearon Harris-1"
          ],
          [
           "China",
           200,
           "Shidao Bay-1"
          ],
          [
           "Japan",
           505,
           "Shika-1"
          ],
          [
           "Japan",
           1108,
           "Shika-2"
          ],
          [
           "Japan",
           439,
           "Shimane-1"
          ],
          [
           "Japan",
           789,
           "Shimane-2"
          ],
          [
           "Japan",
           1325,
           "Shimane-3"
          ],
          [
           "South Korea",
           997,
           "Shin-Wolsong-1"
          ],
          [
           "South Korea",
           993,
           "Shin-Wolsong-2"
          ],
          [
           "South Korea",
           1340,
           "Shin-Hanul-1"
          ],
          [
           "South Korea",
           1340,
           "Shin-Hanul-2"
          ],
          [
           "South Korea",
           996,
           "Shin-Kori-1"
          ],
          [
           "South Korea",
           996,
           "Shin-Kori-2"
          ],
          [
           "South Korea",
           1416,
           "Shin-Kori-3"
          ],
          [
           "South Korea",
           1418,
           "Shin-Kori-4"
          ],
          [
           "South Korea",
           1340,
           "Shin-Kori-5"
          ],
          [
           "South Korea",
           1340,
           "Shin-Kori-6"
          ],
          [
           "United States",
           60,
           "Shippingport"
          ],
          [
           "United States",
           809,
           "Shoreham"
          ],
          [
           "Turkey",
           0,
           "Sinop-1"
          ],
          [
           "Turkey",
           0,
           "Sinop-2"
          ],
          [
           "Turkey",
           0,
           "Sinop-3"
          ],
          [
           "Turkey",
           0,
           "Sinop-4"
          ],
          [
           "United Kingdom",
           290,
           "Sizewell-A1"
          ],
          [
           "United Kingdom",
           290,
           "Sizewell-A2"
          ],
          [
           "United Kingdom",
           1188,
           "Sizewell-B"
          ],
          [
           "United Kingdom",
           0,
           "Sizewell-C1"
          ],
          [
           "United Kingdom",
           0,
           "Sizewell-C2"
          ],
          [
           "Russia",
           925,
           "Smolensk-1"
          ],
          [
           "Russia",
           925,
           "Smolensk-2"
          ],
          [
           "Russia",
           925,
           "Smolensk-3"
          ],
          [
           "United States",
           1250,
           "South Texas-1"
          ],
          [
           "United States",
           1250,
           "South Texas-2"
          ],
          [
           "Ukraine",
           950,
           "South Ukraine-1"
          ],
          [
           "Ukraine",
           950,
           "South Ukraine-2"
          ],
          [
           "Ukraine",
           950,
           "South Ukraine-3"
          ],
          [
           "France",
           1335,
           "St. Alban-1"
          ],
          [
           "France",
           1335,
           "St. Alban-2"
          ],
          [
           "France",
           480,
           "St. Laurent-A1"
          ],
          [
           "France",
           515,
           "St. Laurent-A2"
          ],
          [
           "France",
           915,
           "St. Laurent-B1"
          ],
          [
           "France",
           880,
           "St. Laurent-B2"
          ],
          [
           "United States",
           830,
           "St. Lucie-1"
          ],
          [
           "United States",
           830,
           "St. Lucie-2"
          ],
          [
           "Germany",
           630,
           "Stade"
          ],
          [
           "United States",
           900,
           "Summer-1"
          ],
          [
           "United States",
           1117,
           "Summer-2"
          ],
          [
           "United States",
           1117,
           "Summer-3"
          ],
          [
           "France",
           1200,
           "Super-Phenix"
          ],
          [
           "United States",
           788,
           "Surry-1"
          ],
          [
           "United States",
           788,
           "Surry-2"
          ],
          [
           "United States",
           1065,
           "Susquehanna-1"
          ],
          [
           "United States",
           1065,
           "Susquehanna-2"
          ],
          [
           "China",
           1660,
           "Taishan-1"
          ],
          [
           "China",
           1660,
           "Taishan-2"
          ],
          [
           "Japan",
           780,
           "Takahama-1"
          ],
          [
           "Japan",
           780,
           "Takahama-2"
          ],
          [
           "Japan",
           830,
           "Takahama-3"
          ],
          [
           "Japan",
           830,
           "Takahama-4"
          ],
          [
           "China",
           0,
           "Taohuajiang-1"
          ],
          [
           "China",
           0,
           "Taohuajiang-2"
          ],
          [
           "China",
           0,
           "Taohuajiang-3"
          ],
          [
           "China",
           0,
           "Taohuajiang-4"
          ],
          [
           "India",
           200,
           "Tarapur-1"
          ],
          [
           "India",
           200,
           "Tarapur-2"
          ],
          [
           "India",
           502,
           "Tarapur-3"
          ],
          [
           "India",
           502,
           "Tarapur-4"
          ],
          [
           "Czechia",
           1027,
           "Temelin-1"
          ],
          [
           "Czechia",
           1029,
           "Temelin-2"
          ],
          [
           "United States",
           819,
           "Three Mile Island-1"
          ],
          [
           "United States",
           906,
           "Three Mile Island-2"
          ],
          [
           "Germany",
           296,
           "THTR-300"
          ],
          [
           "China",
           990,
           "Tianwan-1"
          ],
          [
           "China",
           990,
           "Tianwan-2"
          ],
          [
           "China",
           1060,
           "Tianwan-3"
          ],
          [
           "China",
           1060,
           "Tianwan-4"
          ],
          [
           "China",
           1000,
           "Tianwan-5"
          ],
          [
           "China",
           1000,
           "Tianwan-6"
          ],
          [
           "Belgium",
           870,
           "Tihange-1"
          ],
          [
           "Belgium",
           900,
           "Tihange-2"
          ],
          [
           "Belgium",
           1020,
           "Tihange-3"
          ],
          [
           "Japan",
           159,
           "Tokai-1"
          ],
          [
           "Japan",
           1056,
           "Tokai-2"
          ],
          [
           "Japan",
           550,
           "Tomari-1"
          ],
          [
           "Japan",
           550,
           "Tomari-2"
          ],
          [
           "Japan",
           866,
           "Tomari-3"
          ],
          [
           "United Kingdom",
           645,
           "Torness-1"
          ],
          [
           "United Kingdom",
           645,
           "Torness-2"
          ],
          [
           "United Kingdom",
           250,
           "Trawsfynydd-1"
          ],
          [
           "United Kingdom",
           250,
           "Trawsfynydd-2"
          ],
          [
           "France",
           915,
           "Tricastin-1"
          ],
          [
           "France",
           915,
           "Tricastin-2"
          ],
          [
           "France",
           915,
           "Tricastin-3"
          ],
          [
           "France",
           915,
           "Tricastin-4"
          ],
          [
           "Spain",
           990,
           "Trillo-1"
          ],
          [
           "United States",
           1130,
           "Trojan"
          ],
          [
           "Japan",
           341,
           "Tsuruga-1"
          ],
          [
           "Japan",
           1115,
           "Tsuruga-2"
          ],
          [
           "Japan",
           0,
           "Tsuruga-3"
          ],
          [
           "Japan",
           0,
           "Tsuruga-4"
          ],
          [
           "United States",
           693,
           "Turkey Point-3"
          ],
          [
           "United States",
           693,
           "Turkey Point-4"
          ],
          [
           "Germany",
           1230,
           "Unterweser"
          ],
          [
           "Spain",
           480,
           "Vandellos-1"
          ],
          [
           "Spain",
           930,
           "Vandellos-2"
          ],
          [
           "United States",
           514,
           "Vermont Yankee"
          ],
          [
           "Lithuania",
           0,
           "Visaginas-1"
          ],
          [
           "Lithuania",
           0,
           "Visaginas-2"
          ],
          [
           "United States",
           1122,
           "Vogtle-1"
          ],
          [
           "United States",
           1101,
           "Vogtle-2"
          ],
          [
           "United States",
           1117,
           "Vogtle-3"
          ],
          [
           "United States",
           1117,
           "Vogtle-4"
          ],
          [
           "United States",
           1104,
           "Waterford-3"
          ],
          [
           "United States",
           1218,
           "Watts Bar-1"
          ],
          [
           "United States",
           1165,
           "Watts Bar-2"
          ],
          [
           "United Kingdom",
           32,
           "Windscale AGR"
          ],
          [
           "United Kingdom",
           92,
           "Winfrith SGHWR"
          ],
          [
           "United States",
           1170,
           "Wolf Creek"
          ],
          [
           "South Korea",
           629,
           "Wolsong-1"
          ],
          [
           "South Korea",
           596,
           "Wolsong-2"
          ],
          [
           "South Korea",
           627,
           "Wolsong-3"
          ],
          [
           "South Korea",
           600,
           "Wolsong-4"
          ],
          [
           "South Korea",
           0,
           "Wolsong-5"
          ],
          [
           "South Korea",
           0,
           "Wolsong-6"
          ],
          [
           "Germany",
           640,
           "Wuergassen"
          ],
          [
           "China",
           0,
           "Wuhu-1"
          ],
          [
           "China",
           0,
           "Wuhu-2"
          ],
          [
           "United Kingdom",
           550,
           "Wylfa-1"
          ],
          [
           "United Kingdom",
           550,
           "Wylfa-2"
          ],
          [
           "China",
           0,
           "Xianning-1"
          ],
          [
           "China",
           0,
           "Xianning-2"
          ],
          [
           "China",
           0,
           "Xiaomoshan (Jiulongshan) 1"
          ],
          [
           "China",
           0,
           "Xiaomoshan (Jiulongshan) 2"
          ],
          [
           "China",
           1021,
           "Yangjiang-1"
          ],
          [
           "China",
           1000,
           "Yangjiang-2"
          ],
          [
           "China",
           1000,
           "Yangjiang-3"
          ],
          [
           "China",
           1000,
           "Yangjiang-4"
          ],
          [
           "China",
           1021,
           "Yangjiang-5"
          ],
          [
           "China",
           1000,
           "Yangjiang-6"
          ],
          [
           "China",
           0,
           "Yanjiashan-1"
          ],
          [
           "China",
           0,
           "Yanjiashan-2"
          ],
          [
           "United States",
           175,
           "Yankee Rowe"
          ],
          [
           "Ukraine",
           950,
           "Zaporozhye-1"
          ],
          [
           "Ukraine",
           950,
           "Zaporozhye-2"
          ],
          [
           "Ukraine",
           950,
           "Zaporozhye-3"
          ],
          [
           "Ukraine",
           950,
           "Zaporozhye-4"
          ],
          [
           "Ukraine",
           950,
           "Zaporozhye-5"
          ],
          [
           "Ukraine",
           950,
           "Zaporozhye-6"
          ],
          [
           "China",
           1126,
           "Zhangzhou-1"
          ],
          [
           "United States",
           1040,
           "Zion-1"
          ],
          [
           "United States",
           1040,
           "Zion-2"
          ],
          [
           "China",
           1000,
           "Fangchenggang-3"
          ],
          [
           "United Arab Emirates",
           1345,
           "Barakah-4 (Braka)"
          ],
          [
           "Pakistan",
           1014,
           "KANUPP-2"
          ],
          [
           "China",
           1000,
           "Fangchenggang-4"
          ],
          [
           "Pakistan",
           1014,
           "KANUPP-3"
          ],
          [
           "Bangladesh",
           1080,
           "Rooppur-1"
          ],
          [
           "Russia",
           1175,
           "Kursk 2-1"
          ],
          [
           "Bangladesh",
           1080,
           "Rooppur-2"
          ],
          [
           "Russia",
           1175,
           "Kursk 2-2"
          ],
          [
           "China",
           1116,
           "Taipingling-1"
          ],
          [
           "China",
           1126,
           "Zhangzhou-2"
          ],
          [
           "China",
           1116,
           "Taipingling-2"
          ],
          [
           "China",
           642,
           "Xiapu-1"
          ],
          [
           "China",
           600,
           "Xiapu-2"
          ],
          [
           "Romania",
           655,
           "Cernavoda-4"
          ],
          [
           "Romania",
           655,
           "Cernavoda-5"
          ],
          [
           "Austria",
           692,
           "Zwentendorf"
          ],
          [
           "Germany",
           295,
           "SNR-300 (Kalkar)"
          ],
          [
           "China",
           1117,
           "Sanaocun-1"
          ],
          [
           "China",
           1534,
           "CAP1400-1"
          ],
          [
           "China",
           1534,
           "CAP1400-2"
          ],
          [
           "China",
           1000,
           "Changjiang-3"
          ],
          [
           "China",
           0,
           "Xudabao-1"
          ],
          [
           "China",
           0,
           "Xudabao-2"
          ],
          [
           "China",
           0,
           "Xudabao-3"
          ],
          [
           "China",
           0,
           "Xudabao-4"
          ],
          [
           "China",
           0,
           "Tianwan-7"
          ],
          [
           "China",
           0,
           "Tianwan-8"
          ],
          [
           "China",
           0,
           "Changjiang-4"
          ],
          [
           "China",
           0,
           "Changjiang SMR-1"
          ],
          [
           "China",
           0,
           "Changjiang SMR-2"
          ],
          [
           "China",
           0,
           "Bohai Shipyard FNPP"
          ],
          [
           "China",
           0,
           "Jiaodong Shipyard FNPP"
          ],
          [
           "China",
           0,
           "Shanwei-2"
          ]
         ],
         "hovertemplate": "Capacity=%{marker.color}<br>Latitude=%{lat}<br>Longitude=%{lon}<br>Country=%{customdata[0]}<br>Name=%{customdata[2]}<extra></extra>",
         "lat": [
          59.206,
          69.709579,
          69.709579,
          null,
          null,
          36.144444,
          36.144444,
          36.144444,
          36.144444,
          43.607,
          39.807,
          39.807,
          -23.008,
          -23.008,
          -23.01,
          55.084,
          35.31,
          35.31,
          40.182,
          40.182,
          40.1808,
          41.202,
          41.202,
          -33.967,
          -33.967,
          52.092,
          52.092,
          52.092,
          52.092,
          54.939,
          23.952748,
          23.952748,
          23.952748,
          null,
          null,
          55.745,
          55.745,
          40.624,
          40.624,
          54.766667,
          54.766667,
          43.62453,
          43.62453,
          47.511,
          47.511,
          56.842,
          56.842,
          56.842,
          56.842,
          56.842,
          51.692,
          51.692,
          47.552,
          47.552,
          49.709,
          49.709,
          45.359,
          68.059,
          68.059,
          68.059,
          68.059,
          45.256,
          45.256,
          45.256,
          45.256,
          48.494,
          48.494,
          48.494,
          48.494,
          48.494,
          18.365,
          51.431,
          51.217,
          51.742,
          51.742,
          41.247,
          41.247,
          53.85,
          34.704,
          34.704,
          34.704,
          44.341,
          44.341,
          44.341,
          44.341,
          44.341,
          44.341,
          44.341,
          44.341,
          53.891,
          33.958,
          33.958,
          45.796,
          45.796,
          45.798,
          45.8,
          45.8,
          28.831,
          28.8287,
          28.8305,
          28.8305,
          42.074,
          42.074,
          54.42,
          54.42,
          54.42,
          54.42,
          38.763,
          38.435,
          38.435,
          45.072,
          -33.966667,
          34.263,
          35.053,
          35.053,
          49.416,
          49.416,
          49.416,
          49.416,
          39.739,
          44.322,
          44.322,
          44.322,
          19.46075,
          19.46075,
          55.014,
          55.014,
          55.014,
          55.014,
          32.392,
          32.392,
          32.392,
          32.391944,
          51.389,
          51.389,
          51.389,
          51.389,
          25.292,
          25.292,
          47.232,
          47.232,
          47.232,
          47.232,
          47.232,
          47.232,
          47.232,
          50.086,
          50.086,
          50.086,
          46.457,
          46.457,
          40.172,
          39.216,
          46.471,
          32.301,
          32.301,
          40.361,
          44.634,
          44.634,
          44.634,
          44.634,
          28.966,
          47.732,
          47.732,
          47.732,
          47.732,
          30.707778,
          43.867,
          43.867,
          43.867,
          43.867,
          43.8644,
          43.8633,
          41.597,
          22.599,
          22.599,
          35.212,
          35.212,
          51.323,
          51.323,
          51.323,
          51.323,
          41.975,
          41.975,
          44.326,
          58.577,
          58.577,
          41.353,
          41.353,
          41.353,
          42.101,
          49.089,
          49.089,
          49.089,
          49.089,
          50.914,
          50.914,
          50.914,
          50.914,
          31.033333,
          48.35,
          45.297,
          -32.232,
          52.471,
          45.183333,
          41.96,
          41.96,
          21.6,
          21.6,
          30.416,
          30.416,
          31.223,
          31.223,
          47.903,
          47.903,
          43.521,
          49.537,
          49.537,
          49.537,
          60.405,
          60.405,
          60.405,
          41.52,
          40.244,
          35.751,
          37.423,
          37.423,
          37.423,
          37.423,
          37.423,
          37.423,
          37.315,
          37.315,
          37.315,
          37.315,
          25.443,
          25.443,
          25.720278,
          25.720278,
          25.720278,
          25.720278,
          44.142,
          44.142,
          41.258,
          37.613056,
          33.518,
          33.518,
          33.518,
          33.518,
          46.395,
          46.395,
          51.899,
          47.366,
          44.105,
          44.105,
          49.984,
          32.007,
          51.014,
          51.014,
          51.014,
          51.014,
          51.014,
          51.014,
          54.143,
          54.143,
          54.143,
          54.143,
          54.143,
          52.033,
          50.055,
          48.513,
          48.513,
          48.513,
          34.402,
          41.483,
          36.704,
          36.704,
          36.704,
          36.704,
          40.559,
          34.621,
          34.621,
          34.621,
          34.621,
          34.621,
          34.621,
          35.405,
          35.405,
          35.405,
          35.405,
          35.405,
          35.405,
          37.09,
          37.09,
          37.09,
          37.09,
          37.09,
          37.09,
          54.634,
          54.634,
          31.935,
          31.935,
          54.029,
          54.029,
          54.029,
          54.029,
          41.188,
          41.1856,
          41.1856,
          41.1856,
          51.209,
          51.209,
          51.209,
          51.209,
          51.2087,
          51.2087,
          null,
          null,
          39.797,
          39.797,
          39.797,
          39.797,
          39.797,
          39.797,
          39.467,
          40.741,
          55.722,
          55.722,
          55.722,
          55.722,
          55.604,
          55.604,
          55.604,
          33.491,
          33.491,
          33.491,
          41.27,
          41.27,
          41.27,
          48.607,
          48.607,
          16.595278,
          16.595278,
          null,
          40.362,
          36.4625,
          50.903,
          50.059,
          14.865,
          14.865,
          14.865,
          14.865,
          14.868,
          14.868,
          21.236,
          21.236,
          21.236,
          21.236,
          57.903,
          57.903,
          57.903,
          57.903,
          12.553,
          12.553,
          12.553,
          null,
          null,
          24.845,
          49.104,
          37.434,
          37.434,
          37.434,
          37.434,
          37.434,
          37.434,
          37.434,
          44.47,
          50.301,
          50.301,
          50.303056,
          50.303056,
          49.098,
          -33.677,
          -33.677,
          67.467,
          67.467,
          67.467,
          67.467,
          35.321,
          35.321,
          35.321,
          35.321,
          43.744,
          43.744,
          43.744,
          43.744,
          43.744,
          43.744,
          45.939,
          53.41,
          8.167,
          8.167,
          8.16705,
          8.16666,
          8.16627,
          8.16588,
          null,
          null,
          null,
          null,
          25.203,
          25.203,
          51.674,
          51.674,
          51.674,
          51.674,
          43.559,
          19.719,
          19.719,
          41.246,
          41.246,
          41.427,
          47.601,
          59.837,
          59.837,
          59.837,
          59.837,
          59.837,
          59.837,
          59.837,
          59.837,
          null,
          null,
          40.225,
          40.225,
          22.606,
          22.606,
          22.609,
          22.609,
          52.483,
          null,
          null,
          60.372,
          60.372,
          46.693,
          25.038,
          25.038,
          25.038,
          25.038,
          43.951,
          35.433,
          35.433,
          35.701,
          35.701,
          35.701,
          41.312,
          41.312,
          41.312,
          48.261,
          48.261,
          48.261,
          48.261,
          35.739,
          45.334,
          46.969,
          50.409,
          28.156,
          28.155,
          49.039,
          49.039,
          48.604,
          43.522,
          43.522,
          27.046,
          27.046,
          27.046,
          27.046,
          27.046,
          27.046,
          55.786863,
          55.787102,
          48.517,
          48.517,
          38.061,
          38.061,
          51.273,
          51.273,
          51.275,
          51.275,
          51.275,
          51.275,
          52.381,
          49.365,
          34.796,
          34.796,
          34.796,
          35.544,
          35.544,
          35.544,
          35.544,
          41.507,
          51.649,
          51.649,
          61.235,
          61.235,
          61.234,
          61.234352,
          38.4,
          38.4,
          38.4,
          57.415,
          57.415,
          57.415,
          39.815,
          46.574,
          46.574,
          46.574,
          46.574,
          42.323,
          33.387,
          33.387,
          33.387,
          49.857,
          49.857,
          49.857,
          49.857,
          43.603,
          39.759,
          39.759,
          39.759,
          null,
          null,
          49.975,
          49.975,
          49.977611,
          41.801,
          44.142,
          49.253,
          49.253,
          43.812,
          43.812,
          43.812,
          43.812,
          43.812,
          43.812,
          43.812,
          43.812,
          41.945,
          40.132222,
          44.282,
          44.282,
          45.068,
          45.068,
          44.622,
          44.622,
          30.44,
          30.44,
          30.44,
          30.44,
          30.44,
          30.44,
          30.44,
          41.727,
          41.727,
          43.279,
          24.876,
          24.876,
          24.876,
          24.876,
          24.876,
          24.876,
          24.876,
          24.876,
          38.345,
          53.147,
          57.259,
          57.259,
          57.259,
          57.259,
          30.727,
          46.201,
          47.599,
          47.599,
          47.599,
          47.599,
          51.326,
          51.326,
          51.326,
          51.326,
          39.463,
          39.463,
          33.368,
          33.368,
          33.368,
          29.101,
          29.101,
          29.101111,
          29.101111,
          null,
          null,
          42.775,
          40.226944,
          42.897,
          31.834,
          31.834,
          null,
          35.228,
          35.228,
          null,
          null,
          null,
          null,
          null,
          35.635,
          36.979167,
          37.061,
          37.061,
          35.537,
          35.537,
          35.537,
          35.722,
          35.722,
          37.083889,
          37.083889,
          35.327,
          35.327,
          35.327,
          35.327,
          35.327,
          35.327,
          40.63,
          40.96,
          42,
          42,
          42,
          42,
          52.212,
          52.212,
          52.212,
          52.21939,
          52.21939,
          54.169,
          54.169,
          54.169,
          28.797,
          28.796,
          47.811,
          47.811,
          47.811,
          45.404,
          45.404,
          47.724,
          47.724,
          47.724,
          47.72,
          27.348,
          27.348,
          53.62,
          34.299,
          34.295833,
          34.295833,
          45.76,
          37.166,
          37.166,
          41.093,
          41.093,
          21.917778,
          21.917778,
          35.52,
          35.52,
          35.52,
          35.52,
          null,
          null,
          null,
          null,
          19.834,
          19.834,
          19.834,
          19.834,
          49.181,
          49.181,
          40.154,
          40.154,
          51.68,
          34.69,
          34.69,
          34.6868,
          34.6858,
          34.6838,
          34.6828,
          50.533,
          50.533,
          50.533,
          36.466,
          36.466,
          43.038,
          43.038,
          43.038,
          55.966,
          55.966,
          52.923,
          52.922,
          44.33,
          44.33,
          44.331,
          44.331,
          40.699,
          46.04,
          35.672,
          35.672,
          null,
          null,
          25.435,
          25.435,
          53.429,
          40.949,
          40.949,
          42.779,
          55.6057,
          55.6057,
          33.143,
          33.143,
          33.1399,
          33.1399,
          29.994,
          35.601,
          35.601,
          54.426,
          50.68,
          38.239,
          35.71,
          35.71,
          35.71,
          35.71,
          35.7101,
          35.7101,
          51.639,
          null,
          null,
          53.416,
          53.416,
          29.66,
          29.66,
          null,
          null,
          21.706,
          21.706,
          21.706,
          21.8575,
          21.8575,
          21.8575,
          null,
          null,
          42.728,
          47.508,
          47.508,
          47.508,
          47.508,
          47.508,
          47.508,
          23.829167,
          42.446,
          42.446,
          21.6,
          23.952748,
          24.845,
          21.6,
          24.845,
          24.066667,
          51.674,
          24.066667,
          51.674,
          22.693056,
          23.829167,
          22.693056,
          26.803611,
          26.803611,
          44.322,
          44.322,
          48.3544,
          51.763056,
          27.201487,
          36.965556,
          36.965556,
          19.46075,
          40.351389,
          40.351389,
          40.351389,
          40.351389,
          34.6828,
          34.6828,
          19.46075,
          19.46007,
          null,
          null,
          null,
          null
         ],
         "legendgroup": "",
         "lon": [
          18.0829,
          170.30625,
          170.30625,
          null,
          null,
          33.541111,
          33.541111,
          33.541111,
          33.541111,
          51.283,
          -5.698,
          -5.698,
          -44.457,
          -44.457,
          -44.47,
          36.57,
          -93.23,
          -93.229,
          44.147,
          44.147,
          44.1472,
          0.571,
          0.571,
          -59.209,
          -59.209,
          47.952,
          47.952,
          47.952,
          47.952,
          22.162,
          52.193298,
          52.193298,
          52.203298,
          null,
          null,
          12.926,
          12.926,
          -80.432,
          -80.432,
          26.116667,
          26.116667,
          25.18675,
          25.1865,
          2.871,
          2.871,
          61.321,
          61.321,
          61.321,
          61.321,
          61.321,
          -2.494,
          -2.494,
          8.229,
          8.229,
          8.415,
          8.415,
          -85.195,
          166.492,
          166.492,
          166.492,
          166.492,
          -0.691,
          -0.691,
          -0.691,
          -0.691,
          17.687,
          17.687,
          17.687,
          17.687,
          17.687,
          -67.268,
          3.719,
          5.099,
          0.899,
          0.899,
          -88.23,
          -88.23,
          9.345,
          -87.119,
          -87.119,
          -87.119,
          -81.572,
          -81.572,
          -81.572,
          -81.572,
          -81.572,
          -81.572,
          -81.572,
          -81.572,
          9.202,
          -78.007,
          -78.007,
          5.268,
          5.268,
          5.268,
          5.267,
          5.267,
          50.887,
          50.8895,
          50.8872,
          50.8872,
          -89.277,
          -89.277,
          -3.491,
          -3.491,
          -3.491,
          -3.491,
          -91.781,
          -76.439,
          -76.439,
          9.872,
          -59.211111,
          -81.33,
          -81.071,
          -81.071,
          6.217,
          6.217,
          6.217,
          6.217,
          116.03,
          28.061,
          28.061,
          28.061,
          108.899917,
          108.899917,
          -3.223,
          -3.223,
          -3.223,
          -3.223,
          71.463,
          71.463,
          71.465,
          71.461667,
          30.103,
          30.103,
          30.103,
          30.103,
          121.567,
          121.567,
          0.167,
          0.167,
          0.167,
          0.167,
          0.167,
          0.167,
          0.167,
          4.792,
          4.792,
          4.792,
          0.654,
          0.654,
          -88.834,
          -1.051,
          -119.333,
          -97.787,
          -97.787,
          -95.643,
          4.757,
          4.757,
          4.757,
          4.757,
          -82.697,
          2.513,
          2.513,
          2.513,
          2.513,
          48.38,
          -78.724,
          -78.724,
          -78.724,
          -78.724,
          -78.7244,
          -78.7244,
          -83.092,
          114.544,
          114.544,
          -120.854,
          -120.854,
          4.259,
          4.259,
          4.259,
          4.259,
          -86.564,
          -86.564,
          -81.601,
          -3.745,
          -3.745,
          -88.349,
          -88.349,
          -88.349,
          -91.776,
          16.149,
          16.149,
          16.149,
          16.149,
          0.962,
          0.962,
          0.962,
          0.962,
          28.433333,
          -3.866667,
          -93.557,
          -64.442,
          7.322,
          8.283333,
          -83.257,
          -83.257,
          108.3,
          108.3,
          120.951,
          120.951,
          -85.115,
          -85.115,
          7.564,
          7.564,
          -76.403,
          -1.881,
          -1.881,
          -1.881,
          18.168,
          18.168,
          18.168,
          -96.076,
          -104.874,
          136.02,
          141.032,
          141.032,
          141.032,
          141.032,
          141.032,
          141.032,
          141.024,
          141.024,
          141.024,
          141.024,
          119.453,
          119.453,
          119.383889,
          119.383889,
          119.383889,
          119.383889,
          4.713,
          4.713,
          13.835,
          -121.84,
          129.837,
          129.837,
          129.837,
          129.837,
          -72.357,
          -72.357,
          5.687,
          7.969,
          0.845,
          0.845,
          10.186,
          -91.045,
          2.138,
          2.138,
          2.138,
          2.138,
          2.138,
          2.138,
          13.668,
          13.668,
          13.668,
          13.668,
          13.668,
          9.412,
          8.985,
          10.401,
          10.401,
          10.401,
          -80.158,
          -72.5,
          121.382,
          121.382,
          121.382,
          121.382,
          -96.785,
          138.141,
          138.141,
          138.141,
          138.141,
          138.141,
          138.141,
          126.41,
          126.41,
          126.41,
          126.41,
          126.41,
          126.41,
          129.384444,
          129.384444,
          129.384444,
          129.384444,
          129.384444,
          129.384444,
          -1.18,
          -1.18,
          -82.346,
          -82.346,
          -2.912,
          -2.912,
          -2.912,
          -2.912,
          141.393,
          141.388,
          141.39,
          141.389,
          -3.131,
          -3.131,
          -3.131,
          -3.131,
          -3.1305,
          -3.1305,
          null,
          null,
          121.4765,
          121.4765,
          121.4765,
          121.4765,
          121.4831,
          121.4831,
          -75.535,
          -124.21,
          -4.893,
          -4.893,
          -4.893,
          -4.893,
          26.562,
          26.562,
          26.562,
          132.309,
          132.309,
          132.309,
          -73.95,
          -73.95,
          -73.95,
          12.296,
          12.296,
          73.341111,
          73.341111,
          null,
          -2.818,
          140.61,
          6.421,
          8.987,
          74.438,
          74.438,
          74.438,
          74.438,
          74.4418,
          74.4422,
          73.351,
          73.351,
          73.351,
          73.351,
          35.057,
          35.057,
          35.057,
          35.057,
          80.174,
          80.174,
          80.174,
          null,
          null,
          66.79,
          8.432,
          138.598,
          138.598,
          138.598,
          138.598,
          138.598,
          138.598,
          138.598,
          -87.498,
          26.649,
          26.649,
          26.642778,
          26.642778,
          8.441,
          18.433,
          18.433,
          32.491,
          32.491,
          32.491,
          32.491,
          129.295,
          129.295,
          129.295,
          129.295,
          23.776,
          23.776,
          23.776,
          23.776,
          23.776,
          23.776,
          15.516,
          10.41,
          77.713,
          77.713,
          77.708,
          77.708,
          77.708,
          77.708,
          null,
          null,
          null,
          null,
          121.662,
          121.662,
          35.607,
          35.607,
          35.607,
          35.607,
          -91.23,
          -96.405,
          -96.405,
          -88.672,
          -88.672,
          12.808,
          8.183,
          29.039,
          29.039,
          29.039,
          29.039,
          29.039,
          29.039,
          29.039,
          29.039,
          null,
          null,
          -75.584,
          -75.584,
          114.55,
          114.55,
          114.552,
          114.552,
          7.302,
          null,
          null,
          26.342,
          26.342,
          6.827,
          121.924,
          121.924,
          121.924,
          121.924,
          -69.695,
          -80.946,
          -80.946,
          135.962,
          135.962,
          135.962,
          -72.166,
          -72.166,
          -72.166,
          18.455,
          18.455,
          18.455,
          18.455,
          135.988,
          -93.85,
          7.266,
          7.485,
          78.409,
          78.409,
          9.176,
          9.176,
          12.304,
          -76.412,
          -76.412,
          120.287,
          120.287,
          120.287,
          120.287,
          120.287,
          120.287,
          42.37215,
          42.37215,
          3.52,
          3.52,
          -77.792,
          -77.792,
          39.197,
          39.197,
          39.206,
          39.206,
          39.206,
          39.206,
          39.211,
          9.077,
          -82.894,
          -82.894,
          -82.894,
          135.652,
          135.652,
          135.652,
          135.652,
          140.909,
          -2.567,
          -2.567,
          21.444,
          21.444,
          21.435,
          21.436287,
          141.504,
          141.504,
          141.504,
          16.666,
          16.666,
          16.666,
          -74.208,
          18.855,
          18.855,
          18.855,
          18.855,
          -86.316,
          -112.863,
          -112.863,
          -112.863,
          0.635,
          0.635,
          0.635,
          0.635,
          -96.636,
          -76.27,
          -76.27,
          -76.27,
          null,
          null,
          1.215,
          1.215,
          1.21409,
          -81.147,
          4.712,
          8.432,
          8.432,
          -79.07,
          -79.07,
          -79.07,
          -79.07,
          -79.07,
          -79.07,
          -79.07,
          -79.07,
          -70.578,
          -84.234722,
          -87.534,
          -87.534,
          -66.455,
          -66.4546,
          -92.631,
          -92.631,
          120.95,
          120.95,
          120.95,
          120.95,
          120.95,
          120.95,
          120.95,
          -90.308,
          -90.308,
          -77.311,
          75.608,
          75.608,
          75.608,
          75.608,
          75.608,
          75.608,
          75.608,
          75.608,
          -121.12,
          12.991,
          12.111,
          12.111,
          12.111,
          12.111,
          -91.372,
          -77.705,
          42.373,
          42.373,
          42.373,
          42.373,
          25.9,
          25.9,
          25.9,
          25.9,
          -75.534,
          -75.534,
          -117.556,
          -117.556,
          -117.556,
          121.642,
          121.642,
          121.651944,
          121.656944,
          null,
          null,
          -3.205,
          -78.241944,
          -70.849,
          130.193,
          130.193,
          null,
          -85.094,
          -85.094,
          null,
          null,
          null,
          null,
          null,
          -78.955,
          122.530556,
          136.728,
          136.728,
          132.999,
          132.999,
          132.999,
          129.479,
          129.479,
          129.391667,
          129.391667,
          129.302,
          129.302,
          129.302,
          129.302,
          129.302,
          129.302,
          -80.417778,
          -72.866,
          35,
          35,
          35,
          35,
          1.621,
          1.621,
          1.621,
          1.6228,
          1.6238,
          33.245,
          33.245,
          33.245,
          -96.044,
          -96.044,
          31.22,
          31.22,
          31.22,
          4.754,
          4.754,
          1.582,
          1.582,
          1.582,
          1.581,
          -80.244,
          -80.244,
          9.53,
          -81.314,
          -81.320278,
          -81.320278,
          5.474,
          -76.7,
          -76.7,
          -76.143,
          -76.143,
          112.981944,
          112.981944,
          135.503,
          135.503,
          135.503,
          135.503,
          null,
          null,
          null,
          null,
          72.657,
          72.657,
          72.657,
          72.657,
          14.377,
          14.377,
          -76.727,
          -76.727,
          7.972,
          119.456,
          119.456,
          119.456,
          119.456,
          119.456,
          119.456,
          5.271,
          5.271,
          5.271,
          140.612,
          140.612,
          140.515,
          140.515,
          140.515,
          -2.399,
          -2.399,
          -3.947,
          -3.947,
          4.733,
          4.733,
          4.733,
          4.733,
          -2.622,
          -122.887,
          136.079,
          136.079,
          null,
          null,
          -80.33,
          -80.33,
          8.477,
          0.867,
          0.867,
          -72.514,
          26.575842,
          26.575842,
          -81.76,
          -81.76,
          -81.7686,
          -81.7712,
          -90.471,
          -84.789,
          -84.789,
          -3.505,
          -2.272,
          -95.691,
          129.476,
          129.476,
          129.476,
          129.476,
          129.481,
          129.481,
          9.393,
          null,
          null,
          -4.48,
          -4.48,
          114.67,
          114.67,
          null,
          null,
          112.256,
          112.256,
          112.256,
          111.9825,
          111.9825,
          111.9825,
          null,
          null,
          -72.929,
          34.627,
          34.627,
          34.627,
          34.627,
          34.627,
          34.627,
          117.491667,
          -87.801,
          -87.801,
          108.3,
          52.203298,
          66.79,
          108.3,
          66.79,
          89.047222,
          35.607,
          89.047222,
          35.607,
          114.983333,
          117.491667,
          114.983333,
          120.155,
          120.155,
          28.061,
          28.061,
          15.8847,
          6.326944,
          120.517974,
          122.52,
          122.52,
          108.899917,
          120.545833,
          120.545833,
          120.545833,
          120.545833,
          119.456,
          119.456,
          108.899917,
          108.88992,
          null,
          null,
          null,
          null
         ],
         "marker": {
          "color": [
           9,
           30,
           30,
           0,
           0,
           1114,
           1114,
           1114,
           0,
           52,
           900,
           900,
           609,
           1245,
           1340,
           5,
           850,
           912,
           376,
           375,
           0,
           995,
           997,
           340,
           692,
           950,
           950,
           950,
           950,
           1109,
           1345,
           1345,
           1345,
           0,
           0,
           570,
           570,
           835,
           836,
           1110,
           1110,
           953,
           953,
           1310,
           1310,
           102,
           146,
           560,
           820,
           0,
           138,
           138,
           365,
           365,
           1146,
           1178,
           72,
           11,
           11,
           11,
           11,
           910,
           910,
           910,
           910,
           408,
           408,
           466,
           466,
           110,
           17,
           495,
           11,
           150,
           150,
           1120,
           1120,
           1307,
           1065,
           1065,
           1065,
           774,
           777,
           770,
           769,
           822,
           822,
           822,
           795,
           770,
           821,
           821,
           540,
           920,
           920,
           900,
           900,
           915,
           974,
           0,
           0,
           1120,
           1120,
           35,
           35,
           35,
           35,
           1171,
           845,
           845,
           840,
           25,
           17,
           1145,
           1145,
           1300,
           1300,
           1300,
           1300,
           20,
           650,
           650,
           655,
           601,
           601,
           35,
           35,
           35,
           35,
           300,
           300,
           315,
           313,
           925,
           925,
           925,
           925,
           604,
           604,
           68,
           170,
           480,
           870,
           870,
           905,
           905,
           280,
           1455,
           1455,
           1450,
           1450,
           950,
           939,
           1100,
           1150,
           1150,
           778,
           880,
           915,
           880,
           880,
           825,
           890,
           890,
           890,
           890,
           0,
           881,
           881,
           881,
           881,
           0,
           0,
           906,
           930,
           930,
           1084,
           1106,
           392,
           445,
           1006,
           1000,
           1030,
           1100,
           203,
           14,
           234,
           192,
           794,
           794,
           601,
           468,
           420,
           420,
           420,
           275,
           275,
           607,
           545,
           0,
           70,
           22,
           608,
           1242,
           247,
           60,
           1093,
           1000,
           1000,
           1000,
           1000,
           829,
           829,
           880,
           880,
           821,
           1330,
           1330,
           1630,
           900,
           900,
           1050,
           478,
           330,
           148,
           439,
           760,
           760,
           760,
           760,
           1067,
           1067,
           1067,
           1067,
           1067,
           1000,
           1000,
           1000,
           1000,
           1000,
           1000,
           36,
           36,
           150,
           24,
           529,
           529,
           1127,
           1127,
           250,
           645,
           54,
           1010,
           1310,
           1310,
           1225,
           1250,
           910,
           910,
           910,
           910,
           910,
           910,
           440,
           408,
           408,
           408,
           408,
           1289,
           23,
           237,
           1244,
           1249,
           700,
           582,
           1126,
           1126,
           0,
           0,
           75,
           516,
           814,
           1056,
           1092,
           1325,
           0,
           995,
           988,
           986,
           970,
           992,
           993,
           966,
           967,
           997,
           999,
           998,
           997,
           590,
           595,
           777,
           784,
           611,
           611,
           615,
           615,
           1067,
           0,
           0,
           0,
           250,
           250,
           625,
           625,
           1630,
           1630,
           0,
           0,
           1061,
           1061,
           1061,
           1061,
           1061,
           1061,
           1067,
           65,
           150,
           150,
           624,
           624,
           1185,
           1185,
           1380,
           538,
           538,
           846,
           265,
           873,
           965,
           870,
           1285,
           0,
           0,
           0,
           153,
           10,
           13,
           15,
           202,
           202,
           202,
           202,
           0,
           0,
           202,
           202,
           630,
           630,
           950,
           950,
           950,
           950,
           470,
           202,
           202,
           0,
           0,
           125,
           50,
           1067,
           1067,
           1067,
           1067,
           1067,
           1315,
           1315,
           535,
           950,
           950,
           1035,
           1035,
           18,
           921,
           921,
           411,
           411,
           411,
           411,
           558,
           640,
           1011,
           1012,
           408,
           408,
           408,
           408,
           1003,
           1003,
           632,
           1260,
           917,
           917,
           917,
           917,
           0,
           0,
           0,
           0,
           0,
           0,
           985,
           985,
           925,
           925,
           925,
           925,
           50,
           777,
           780,
           1078,
           1078,
           200,
           960,
           1066,
           1066,
           1085,
           1085,
           925,
           925,
           925,
           925,
           0,
           0,
           1055,
           1055,
           950,
           950,
           1007,
           1007,
           183,
           0,
           0,
           420,
           420,
           6,
           1300,
           1300,
           936,
           938,
           825,
           1180,
           1180,
           320,
           470,
           780,
           660,
           870,
           1159,
           436,
           469,
           440,
           440,
           246,
           545,
           306,
           1219,
           202,
           202,
           805,
           1225,
           100,
           620,
           1100,
           1018,
           1018,
           1018,
           1018,
           0,
           0,
           0,
           0,
           1310,
           1310,
           907,
           907,
           1114,
           1114,
           197,
           336,
           385,
           385,
           950,
           283,
           887,
           887,
           887,
           1120,
           1120,
           1127,
           1127,
           1328,
           300,
           300,
           660,
           660,
           1600,
           0,
           498,
           796,
           796,
           440,
           580,
           1050,
           650,
           408,
           410,
           410,
           410,
           805,
           1221,
           1304,
           1304,
           1330,
           1330,
           1330,
           1330,
           59,
           40,
           1065,
           1065,
           0,
           0,
           1330,
           1330,
           0,
           1205,
           233,
           864,
           1268,
           508,
           508,
           508,
           508,
           516,
           516,
           516,
           516,
           655,
           11,
           497,
           497,
           660,
           0,
           530,
           530,
           308,
           610,
           610,
           619,
           619,
           677,
           677,
           789,
           789,
           470,
           207,
           207,
           202,
           202,
           202,
           202,
           630,
           630,
           918,
           62,
           881,
           820,
           1072,
           1130,
           966,
           17,
           950,
           950,
           950,
           950,
           361,
           384,
           950,
           950,
           1090,
           1115,
           436,
           1070,
           1070,
           1157,
           1157,
           0,
           0,
           0,
           0,
           440,
           3,
           1149,
           846,
           846,
           0,
           1148,
           1148,
           0,
           0,
           0,
           0,
           0,
           900,
           200,
           505,
           1108,
           439,
           789,
           1325,
           997,
           993,
           1340,
           1340,
           996,
           996,
           1416,
           1418,
           1340,
           1340,
           60,
           809,
           0,
           0,
           0,
           0,
           290,
           290,
           1188,
           0,
           0,
           925,
           925,
           925,
           1250,
           1250,
           950,
           950,
           950,
           1335,
           1335,
           480,
           515,
           915,
           880,
           830,
           830,
           630,
           900,
           1117,
           1117,
           1200,
           788,
           788,
           1065,
           1065,
           1660,
           1660,
           780,
           780,
           830,
           830,
           0,
           0,
           0,
           0,
           200,
           200,
           502,
           502,
           1027,
           1029,
           819,
           906,
           296,
           990,
           990,
           1060,
           1060,
           1000,
           1000,
           870,
           900,
           1020,
           159,
           1056,
           550,
           550,
           866,
           645,
           645,
           250,
           250,
           915,
           915,
           915,
           915,
           990,
           1130,
           341,
           1115,
           0,
           0,
           693,
           693,
           1230,
           480,
           930,
           514,
           0,
           0,
           1122,
           1101,
           1117,
           1117,
           1104,
           1218,
           1165,
           32,
           92,
           1170,
           629,
           596,
           627,
           600,
           0,
           0,
           640,
           0,
           0,
           550,
           550,
           0,
           0,
           0,
           0,
           1021,
           1000,
           1000,
           1000,
           1021,
           1000,
           0,
           0,
           175,
           950,
           950,
           950,
           950,
           950,
           950,
           1126,
           1040,
           1040,
           1000,
           1345,
           1014,
           1000,
           1014,
           1080,
           1175,
           1080,
           1175,
           1116,
           1126,
           1116,
           642,
           600,
           655,
           655,
           692,
           295,
           1117,
           1534,
           1534,
           1000,
           0,
           0,
           0,
           0,
           0,
           0,
           0,
           0,
           0,
           0,
           0,
           0
          ],
          "coloraxis": "coloraxis",
          "size": [
           9,
           30,
           30,
           0,
           0,
           1114,
           1114,
           1114,
           0,
           52,
           900,
           900,
           609,
           1245,
           1340,
           5,
           850,
           912,
           376,
           375,
           0,
           995,
           997,
           340,
           692,
           950,
           950,
           950,
           950,
           1109,
           1345,
           1345,
           1345,
           0,
           0,
           570,
           570,
           835,
           836,
           1110,
           1110,
           953,
           953,
           1310,
           1310,
           102,
           146,
           560,
           820,
           0,
           138,
           138,
           365,
           365,
           1146,
           1178,
           72,
           11,
           11,
           11,
           11,
           910,
           910,
           910,
           910,
           408,
           408,
           466,
           466,
           110,
           17,
           495,
           11,
           150,
           150,
           1120,
           1120,
           1307,
           1065,
           1065,
           1065,
           774,
           777,
           770,
           769,
           822,
           822,
           822,
           795,
           770,
           821,
           821,
           540,
           920,
           920,
           900,
           900,
           915,
           974,
           0,
           0,
           1120,
           1120,
           35,
           35,
           35,
           35,
           1171,
           845,
           845,
           840,
           25,
           17,
           1145,
           1145,
           1300,
           1300,
           1300,
           1300,
           20,
           650,
           650,
           655,
           601,
           601,
           35,
           35,
           35,
           35,
           300,
           300,
           315,
           313,
           925,
           925,
           925,
           925,
           604,
           604,
           68,
           170,
           480,
           870,
           870,
           905,
           905,
           280,
           1455,
           1455,
           1450,
           1450,
           950,
           939,
           1100,
           1150,
           1150,
           778,
           880,
           915,
           880,
           880,
           825,
           890,
           890,
           890,
           890,
           0,
           881,
           881,
           881,
           881,
           0,
           0,
           906,
           930,
           930,
           1084,
           1106,
           392,
           445,
           1006,
           1000,
           1030,
           1100,
           203,
           14,
           234,
           192,
           794,
           794,
           601,
           468,
           420,
           420,
           420,
           275,
           275,
           607,
           545,
           0,
           70,
           22,
           608,
           1242,
           247,
           60,
           1093,
           1000,
           1000,
           1000,
           1000,
           829,
           829,
           880,
           880,
           821,
           1330,
           1330,
           1630,
           900,
           900,
           1050,
           478,
           330,
           148,
           439,
           760,
           760,
           760,
           760,
           1067,
           1067,
           1067,
           1067,
           1067,
           1000,
           1000,
           1000,
           1000,
           1000,
           1000,
           36,
           36,
           150,
           24,
           529,
           529,
           1127,
           1127,
           250,
           645,
           54,
           1010,
           1310,
           1310,
           1225,
           1250,
           910,
           910,
           910,
           910,
           910,
           910,
           440,
           408,
           408,
           408,
           408,
           1289,
           23,
           237,
           1244,
           1249,
           700,
           582,
           1126,
           1126,
           0,
           0,
           75,
           516,
           814,
           1056,
           1092,
           1325,
           0,
           995,
           988,
           986,
           970,
           992,
           993,
           966,
           967,
           997,
           999,
           998,
           997,
           590,
           595,
           777,
           784,
           611,
           611,
           615,
           615,
           1067,
           0,
           0,
           0,
           250,
           250,
           625,
           625,
           1630,
           1630,
           0,
           0,
           1061,
           1061,
           1061,
           1061,
           1061,
           1061,
           1067,
           65,
           150,
           150,
           624,
           624,
           1185,
           1185,
           1380,
           538,
           538,
           846,
           265,
           873,
           965,
           870,
           1285,
           0,
           0,
           0,
           153,
           10,
           13,
           15,
           202,
           202,
           202,
           202,
           0,
           0,
           202,
           202,
           630,
           630,
           950,
           950,
           950,
           950,
           470,
           202,
           202,
           0,
           0,
           125,
           50,
           1067,
           1067,
           1067,
           1067,
           1067,
           1315,
           1315,
           535,
           950,
           950,
           1035,
           1035,
           18,
           921,
           921,
           411,
           411,
           411,
           411,
           558,
           640,
           1011,
           1012,
           408,
           408,
           408,
           408,
           1003,
           1003,
           632,
           1260,
           917,
           917,
           917,
           917,
           0,
           0,
           0,
           0,
           0,
           0,
           985,
           985,
           925,
           925,
           925,
           925,
           50,
           777,
           780,
           1078,
           1078,
           200,
           960,
           1066,
           1066,
           1085,
           1085,
           925,
           925,
           925,
           925,
           0,
           0,
           1055,
           1055,
           950,
           950,
           1007,
           1007,
           183,
           0,
           0,
           420,
           420,
           6,
           1300,
           1300,
           936,
           938,
           825,
           1180,
           1180,
           320,
           470,
           780,
           660,
           870,
           1159,
           436,
           469,
           440,
           440,
           246,
           545,
           306,
           1219,
           202,
           202,
           805,
           1225,
           100,
           620,
           1100,
           1018,
           1018,
           1018,
           1018,
           0,
           0,
           0,
           0,
           1310,
           1310,
           907,
           907,
           1114,
           1114,
           197,
           336,
           385,
           385,
           950,
           283,
           887,
           887,
           887,
           1120,
           1120,
           1127,
           1127,
           1328,
           300,
           300,
           660,
           660,
           1600,
           0,
           498,
           796,
           796,
           440,
           580,
           1050,
           650,
           408,
           410,
           410,
           410,
           805,
           1221,
           1304,
           1304,
           1330,
           1330,
           1330,
           1330,
           59,
           40,
           1065,
           1065,
           0,
           0,
           1330,
           1330,
           0,
           1205,
           233,
           864,
           1268,
           508,
           508,
           508,
           508,
           516,
           516,
           516,
           516,
           655,
           11,
           497,
           497,
           660,
           0,
           530,
           530,
           308,
           610,
           610,
           619,
           619,
           677,
           677,
           789,
           789,
           470,
           207,
           207,
           202,
           202,
           202,
           202,
           630,
           630,
           918,
           62,
           881,
           820,
           1072,
           1130,
           966,
           17,
           950,
           950,
           950,
           950,
           361,
           384,
           950,
           950,
           1090,
           1115,
           436,
           1070,
           1070,
           1157,
           1157,
           0,
           0,
           0,
           0,
           440,
           3,
           1149,
           846,
           846,
           0,
           1148,
           1148,
           0,
           0,
           0,
           0,
           0,
           900,
           200,
           505,
           1108,
           439,
           789,
           1325,
           997,
           993,
           1340,
           1340,
           996,
           996,
           1416,
           1418,
           1340,
           1340,
           60,
           809,
           0,
           0,
           0,
           0,
           290,
           290,
           1188,
           0,
           0,
           925,
           925,
           925,
           1250,
           1250,
           950,
           950,
           950,
           1335,
           1335,
           480,
           515,
           915,
           880,
           830,
           830,
           630,
           900,
           1117,
           1117,
           1200,
           788,
           788,
           1065,
           1065,
           1660,
           1660,
           780,
           780,
           830,
           830,
           0,
           0,
           0,
           0,
           200,
           200,
           502,
           502,
           1027,
           1029,
           819,
           906,
           296,
           990,
           990,
           1060,
           1060,
           1000,
           1000,
           870,
           900,
           1020,
           159,
           1056,
           550,
           550,
           866,
           645,
           645,
           250,
           250,
           915,
           915,
           915,
           915,
           990,
           1130,
           341,
           1115,
           0,
           0,
           693,
           693,
           1230,
           480,
           930,
           514,
           0,
           0,
           1122,
           1101,
           1117,
           1117,
           1104,
           1218,
           1165,
           32,
           92,
           1170,
           629,
           596,
           627,
           600,
           0,
           0,
           640,
           0,
           0,
           550,
           550,
           0,
           0,
           0,
           0,
           1021,
           1000,
           1000,
           1000,
           1021,
           1000,
           0,
           0,
           175,
           950,
           950,
           950,
           950,
           950,
           950,
           1126,
           1040,
           1040,
           1000,
           1345,
           1014,
           1000,
           1014,
           1080,
           1175,
           1080,
           1175,
           1116,
           1126,
           1116,
           642,
           600,
           655,
           655,
           692,
           295,
           1117,
           1534,
           1534,
           1000,
           0,
           0,
           0,
           0,
           0,
           0,
           0,
           0,
           0,
           0,
           0,
           0
          ],
          "sizemode": "area",
          "sizeref": 4.15
         },
         "mode": "markers",
         "name": "",
         "showlegend": false,
         "subplot": "mapbox",
         "type": "scattermapbox"
        }
       ],
       "layout": {
        "coloraxis": {
         "colorbar": {
          "title": {
           "text": "Capacity"
          }
         },
         "colorscale": [
          [
           0,
           "#ffe1cc"
          ],
          [
           0.25,
           "#ff9a66"
          ],
          [
           0.5,
           "#ff7833"
          ],
          [
           0.75,
           "#ff5600"
          ],
          [
           1,
           "#de4b00"
          ]
         ]
        },
        "height": 500,
        "legend": {
         "itemsizing": "constant",
         "tracegroupgap": 0
        },
        "mapbox": {
         "accesstoken": "pk.eyJ1IjoibWVyY3VyeWNvZGUiLCJhIjoiY2t2OHo2enA0MDJ3czJ3bnpxeTU5dXNvcCJ9.HFSLsaR13BM2y573g4ZmsQ",
         "center": {
          "lat": 40.51032620264899,
          "lon": 25.078987260927153
         },
         "domain": {
          "x": [
           0,
           1
          ],
          "y": [
           0,
           1
          ]
         },
         "style": "dark",
         "zoom": 1
        },
        "margin": {
         "b": 0,
         "l": 0,
         "r": 0,
         "t": 0
        },
        "template": {
         "data": {
          "bar": [
           {
            "error_x": {
             "color": "#2a3f5f"
            },
            "error_y": {
             "color": "#2a3f5f"
            },
            "marker": {
             "line": {
              "color": "#E5ECF6",
              "width": 0.5
             },
             "pattern": {
              "fillmode": "overlay",
              "size": 10,
              "solidity": 0.2
             }
            },
            "type": "bar"
           }
          ],
          "barpolar": [
           {
            "marker": {
             "line": {
              "color": "#E5ECF6",
              "width": 0.5
             },
             "pattern": {
              "fillmode": "overlay",
              "size": 10,
              "solidity": 0.2
             }
            },
            "type": "barpolar"
           }
          ],
          "carpet": [
           {
            "aaxis": {
             "endlinecolor": "#2a3f5f",
             "gridcolor": "white",
             "linecolor": "white",
             "minorgridcolor": "white",
             "startlinecolor": "#2a3f5f"
            },
            "baxis": {
             "endlinecolor": "#2a3f5f",
             "gridcolor": "white",
             "linecolor": "white",
             "minorgridcolor": "white",
             "startlinecolor": "#2a3f5f"
            },
            "type": "carpet"
           }
          ],
          "choropleth": [
           {
            "colorbar": {
             "outlinewidth": 0,
             "ticks": ""
            },
            "type": "choropleth"
           }
          ],
          "contour": [
           {
            "colorbar": {
             "outlinewidth": 0,
             "ticks": ""
            },
            "colorscale": [
             [
              0,
              "#0d0887"
             ],
             [
              0.1111111111111111,
              "#46039f"
             ],
             [
              0.2222222222222222,
              "#7201a8"
             ],
             [
              0.3333333333333333,
              "#9c179e"
             ],
             [
              0.4444444444444444,
              "#bd3786"
             ],
             [
              0.5555555555555556,
              "#d8576b"
             ],
             [
              0.6666666666666666,
              "#ed7953"
             ],
             [
              0.7777777777777778,
              "#fb9f3a"
             ],
             [
              0.8888888888888888,
              "#fdca26"
             ],
             [
              1,
              "#f0f921"
             ]
            ],
            "type": "contour"
           }
          ],
          "contourcarpet": [
           {
            "colorbar": {
             "outlinewidth": 0,
             "ticks": ""
            },
            "type": "contourcarpet"
           }
          ],
          "heatmap": [
           {
            "colorbar": {
             "outlinewidth": 0,
             "ticks": ""
            },
            "colorscale": [
             [
              0,
              "#0d0887"
             ],
             [
              0.1111111111111111,
              "#46039f"
             ],
             [
              0.2222222222222222,
              "#7201a8"
             ],
             [
              0.3333333333333333,
              "#9c179e"
             ],
             [
              0.4444444444444444,
              "#bd3786"
             ],
             [
              0.5555555555555556,
              "#d8576b"
             ],
             [
              0.6666666666666666,
              "#ed7953"
             ],
             [
              0.7777777777777778,
              "#fb9f3a"
             ],
             [
              0.8888888888888888,
              "#fdca26"
             ],
             [
              1,
              "#f0f921"
             ]
            ],
            "type": "heatmap"
           }
          ],
          "heatmapgl": [
           {
            "colorbar": {
             "outlinewidth": 0,
             "ticks": ""
            },
            "colorscale": [
             [
              0,
              "#0d0887"
             ],
             [
              0.1111111111111111,
              "#46039f"
             ],
             [
              0.2222222222222222,
              "#7201a8"
             ],
             [
              0.3333333333333333,
              "#9c179e"
             ],
             [
              0.4444444444444444,
              "#bd3786"
             ],
             [
              0.5555555555555556,
              "#d8576b"
             ],
             [
              0.6666666666666666,
              "#ed7953"
             ],
             [
              0.7777777777777778,
              "#fb9f3a"
             ],
             [
              0.8888888888888888,
              "#fdca26"
             ],
             [
              1,
              "#f0f921"
             ]
            ],
            "type": "heatmapgl"
           }
          ],
          "histogram": [
           {
            "marker": {
             "pattern": {
              "fillmode": "overlay",
              "size": 10,
              "solidity": 0.2
             }
            },
            "type": "histogram"
           }
          ],
          "histogram2d": [
           {
            "colorbar": {
             "outlinewidth": 0,
             "ticks": ""
            },
            "colorscale": [
             [
              0,
              "#0d0887"
             ],
             [
              0.1111111111111111,
              "#46039f"
             ],
             [
              0.2222222222222222,
              "#7201a8"
             ],
             [
              0.3333333333333333,
              "#9c179e"
             ],
             [
              0.4444444444444444,
              "#bd3786"
             ],
             [
              0.5555555555555556,
              "#d8576b"
             ],
             [
              0.6666666666666666,
              "#ed7953"
             ],
             [
              0.7777777777777778,
              "#fb9f3a"
             ],
             [
              0.8888888888888888,
              "#fdca26"
             ],
             [
              1,
              "#f0f921"
             ]
            ],
            "type": "histogram2d"
           }
          ],
          "histogram2dcontour": [
           {
            "colorbar": {
             "outlinewidth": 0,
             "ticks": ""
            },
            "colorscale": [
             [
              0,
              "#0d0887"
             ],
             [
              0.1111111111111111,
              "#46039f"
             ],
             [
              0.2222222222222222,
              "#7201a8"
             ],
             [
              0.3333333333333333,
              "#9c179e"
             ],
             [
              0.4444444444444444,
              "#bd3786"
             ],
             [
              0.5555555555555556,
              "#d8576b"
             ],
             [
              0.6666666666666666,
              "#ed7953"
             ],
             [
              0.7777777777777778,
              "#fb9f3a"
             ],
             [
              0.8888888888888888,
              "#fdca26"
             ],
             [
              1,
              "#f0f921"
             ]
            ],
            "type": "histogram2dcontour"
           }
          ],
          "mesh3d": [
           {
            "colorbar": {
             "outlinewidth": 0,
             "ticks": ""
            },
            "type": "mesh3d"
           }
          ],
          "parcoords": [
           {
            "line": {
             "colorbar": {
              "outlinewidth": 0,
              "ticks": ""
             }
            },
            "type": "parcoords"
           }
          ],
          "pie": [
           {
            "automargin": true,
            "type": "pie"
           }
          ],
          "scatter": [
           {
            "marker": {
             "colorbar": {
              "outlinewidth": 0,
              "ticks": ""
             }
            },
            "type": "scatter"
           }
          ],
          "scatter3d": [
           {
            "line": {
             "colorbar": {
              "outlinewidth": 0,
              "ticks": ""
             }
            },
            "marker": {
             "colorbar": {
              "outlinewidth": 0,
              "ticks": ""
             }
            },
            "type": "scatter3d"
           }
          ],
          "scattercarpet": [
           {
            "marker": {
             "colorbar": {
              "outlinewidth": 0,
              "ticks": ""
             }
            },
            "type": "scattercarpet"
           }
          ],
          "scattergeo": [
           {
            "marker": {
             "colorbar": {
              "outlinewidth": 0,
              "ticks": ""
             }
            },
            "type": "scattergeo"
           }
          ],
          "scattergl": [
           {
            "marker": {
             "colorbar": {
              "outlinewidth": 0,
              "ticks": ""
             }
            },
            "type": "scattergl"
           }
          ],
          "scattermapbox": [
           {
            "marker": {
             "colorbar": {
              "outlinewidth": 0,
              "ticks": ""
             }
            },
            "type": "scattermapbox"
           }
          ],
          "scatterpolar": [
           {
            "marker": {
             "colorbar": {
              "outlinewidth": 0,
              "ticks": ""
             }
            },
            "type": "scatterpolar"
           }
          ],
          "scatterpolargl": [
           {
            "marker": {
             "colorbar": {
              "outlinewidth": 0,
              "ticks": ""
             }
            },
            "type": "scatterpolargl"
           }
          ],
          "scatterternary": [
           {
            "marker": {
             "colorbar": {
              "outlinewidth": 0,
              "ticks": ""
             }
            },
            "type": "scatterternary"
           }
          ],
          "surface": [
           {
            "colorbar": {
             "outlinewidth": 0,
             "ticks": ""
            },
            "colorscale": [
             [
              0,
              "#0d0887"
             ],
             [
              0.1111111111111111,
              "#46039f"
             ],
             [
              0.2222222222222222,
              "#7201a8"
             ],
             [
              0.3333333333333333,
              "#9c179e"
             ],
             [
              0.4444444444444444,
              "#bd3786"
             ],
             [
              0.5555555555555556,
              "#d8576b"
             ],
             [
              0.6666666666666666,
              "#ed7953"
             ],
             [
              0.7777777777777778,
              "#fb9f3a"
             ],
             [
              0.8888888888888888,
              "#fdca26"
             ],
             [
              1,
              "#f0f921"
             ]
            ],
            "type": "surface"
           }
          ],
          "table": [
           {
            "cells": {
             "fill": {
              "color": "#EBF0F8"
             },
             "line": {
              "color": "white"
             }
            },
            "header": {
             "fill": {
              "color": "#C8D4E3"
             },
             "line": {
              "color": "white"
             }
            },
            "type": "table"
           }
          ]
         },
         "layout": {
          "annotationdefaults": {
           "arrowcolor": "#2a3f5f",
           "arrowhead": 0,
           "arrowwidth": 1
          },
          "autotypenumbers": "strict",
          "coloraxis": {
           "colorbar": {
            "outlinewidth": 0,
            "ticks": ""
           }
          },
          "colorscale": {
           "diverging": [
            [
             0,
             "#8e0152"
            ],
            [
             0.1,
             "#c51b7d"
            ],
            [
             0.2,
             "#de77ae"
            ],
            [
             0.3,
             "#f1b6da"
            ],
            [
             0.4,
             "#fde0ef"
            ],
            [
             0.5,
             "#f7f7f7"
            ],
            [
             0.6,
             "#e6f5d0"
            ],
            [
             0.7,
             "#b8e186"
            ],
            [
             0.8,
             "#7fbc41"
            ],
            [
             0.9,
             "#4d9221"
            ],
            [
             1,
             "#276419"
            ]
           ],
           "sequential": [
            [
             0,
             "#0d0887"
            ],
            [
             0.1111111111111111,
             "#46039f"
            ],
            [
             0.2222222222222222,
             "#7201a8"
            ],
            [
             0.3333333333333333,
             "#9c179e"
            ],
            [
             0.4444444444444444,
             "#bd3786"
            ],
            [
             0.5555555555555556,
             "#d8576b"
            ],
            [
             0.6666666666666666,
             "#ed7953"
            ],
            [
             0.7777777777777778,
             "#fb9f3a"
            ],
            [
             0.8888888888888888,
             "#fdca26"
            ],
            [
             1,
             "#f0f921"
            ]
           ],
           "sequentialminus": [
            [
             0,
             "#0d0887"
            ],
            [
             0.1111111111111111,
             "#46039f"
            ],
            [
             0.2222222222222222,
             "#7201a8"
            ],
            [
             0.3333333333333333,
             "#9c179e"
            ],
            [
             0.4444444444444444,
             "#bd3786"
            ],
            [
             0.5555555555555556,
             "#d8576b"
            ],
            [
             0.6666666666666666,
             "#ed7953"
            ],
            [
             0.7777777777777778,
             "#fb9f3a"
            ],
            [
             0.8888888888888888,
             "#fdca26"
            ],
            [
             1,
             "#f0f921"
            ]
           ]
          },
          "colorway": [
           "#636efa",
           "#EF553B",
           "#00cc96",
           "#ab63fa",
           "#FFA15A",
           "#19d3f3",
           "#FF6692",
           "#B6E880",
           "#FF97FF",
           "#FECB52"
          ],
          "font": {
           "color": "#2a3f5f"
          },
          "geo": {
           "bgcolor": "white",
           "lakecolor": "white",
           "landcolor": "#E5ECF6",
           "showlakes": true,
           "showland": true,
           "subunitcolor": "white"
          },
          "hoverlabel": {
           "align": "left"
          },
          "hovermode": "closest",
          "mapbox": {
           "style": "light"
          },
          "paper_bgcolor": "white",
          "plot_bgcolor": "#E5ECF6",
          "polar": {
           "angularaxis": {
            "gridcolor": "white",
            "linecolor": "white",
            "ticks": ""
           },
           "bgcolor": "#E5ECF6",
           "radialaxis": {
            "gridcolor": "white",
            "linecolor": "white",
            "ticks": ""
           }
          },
          "scene": {
           "xaxis": {
            "backgroundcolor": "#E5ECF6",
            "gridcolor": "white",
            "gridwidth": 2,
            "linecolor": "white",
            "showbackground": true,
            "ticks": "",
            "zerolinecolor": "white"
           },
           "yaxis": {
            "backgroundcolor": "#E5ECF6",
            "gridcolor": "white",
            "gridwidth": 2,
            "linecolor": "white",
            "showbackground": true,
            "ticks": "",
            "zerolinecolor": "white"
           },
           "zaxis": {
            "backgroundcolor": "#E5ECF6",
            "gridcolor": "white",
            "gridwidth": 2,
            "linecolor": "white",
            "showbackground": true,
            "ticks": "",
            "zerolinecolor": "white"
           }
          },
          "shapedefaults": {
           "line": {
            "color": "#2a3f5f"
           }
          },
          "ternary": {
           "aaxis": {
            "gridcolor": "white",
            "linecolor": "white",
            "ticks": ""
           },
           "baxis": {
            "gridcolor": "white",
            "linecolor": "white",
            "ticks": ""
           },
           "bgcolor": "#E5ECF6",
           "caxis": {
            "gridcolor": "white",
            "linecolor": "white",
            "ticks": ""
           }
          },
          "title": {
           "x": 0.05
          },
          "xaxis": {
           "automargin": true,
           "gridcolor": "white",
           "linecolor": "white",
           "ticks": "",
           "title": {
            "standoff": 15
           },
           "zerolinecolor": "white",
           "zerolinewidth": 2
          },
          "yaxis": {
           "automargin": true,
           "gridcolor": "white",
           "linecolor": "white",
           "ticks": "",
           "title": {
            "standoff": 15
           },
           "zerolinecolor": "white",
           "zerolinewidth": 2
          }
         }
        },
        "title": {
         "text": "nuclear power plant power and distribution"
        }
       }
      },
      "text/html": [
       "<div>                            <div id=\"4b3ed044-8069-4c18-987c-e2720389ef93\" class=\"plotly-graph-div\" style=\"height:500px; width:100%;\"></div>            <script type=\"text/javascript\">                require([\"plotly\"], function(Plotly) {                    window.PLOTLYENV=window.PLOTLYENV || {};                                    if (document.getElementById(\"4b3ed044-8069-4c18-987c-e2720389ef93\")) {                    Plotly.newPlot(                        \"4b3ed044-8069-4c18-987c-e2720389ef93\",                        [{\"customdata\":[[\"Sweden\",9.0,\"\\u00c5gesta\"],[\"Russia\",30.0,\"Akademik Lomonosov-1\"],[\"Russia\",30.0,\"Akademik Lomonosov-2\"],[\"Iran\",0.0,\"Akhvaz-1\"],[\"Iran\",0.0,\"Akhvaz-2\"],[\"Turkey\",1114.0,\"Akkuyu-1\"],[\"Turkey\",1114.0,\"Akkuyu-2\"],[\"Turkey\",1114.0,\"Akkuyu-3\"],[\"Turkey\",0.0,\"Akkuyu-4\"],[\"Kazakhstan\",52.0,\"Aktau (Shevchenko)\"],[\"Spain\",900.0,\"Almaraz-1\"],[\"Spain\",900.0,\"Almaraz-2\"],[\"Brazil\",609.0,\"Angra-1\"],[\"Brazil\",1245.0,\"Angra-2\"],[\"Brazil\",1340.0,\"Angra-3\"],[\"Russia\",5.0,\"APS-1 Obninsk\"],[\"United States\",850.0,\"Arkansas Nuclear One-1 (ANO-1)\"],[\"United States\",912.0,\"Arkansas Nuclear One-2 (ANO-2)\"],[\"Armenia\",376.0,\"Armenian-1\"],[\"Armenia\",375.0,\"Armenian-2\"],[\"Armenia\",0.0,\"Armenian-3\"],[\"Spain\",995.0,\"Asco-1\"],[\"Spain\",997.0,\"Asco-2\"],[\"Argentina\",340.0,\"Atucha-1\"],[\"Argentina\",692.0,\"Atucha-2\"],[\"Russia\",950.0,\"Balakovo-1\"],[\"Russia\",950.0,\"Balakovo-2\"],[\"Russia\",950.0,\"Balakovo-3\"],[\"Russia\",950.0,\"Balakovo-4\"],[\"Russia\",1109.0,\"Baltic-1\"],[\"United Arab Emirates\",1345.0,\"Barakah-1 (Braka)\"],[\"United Arab Emirates\",1345.0,\"Barakah-2 (Braka)\"],[\"United Arab Emirates\",1345.0,\"Barakah-3 (Braka)\"],[\"India\",0.0,\"Chutka-1\"],[\"India\",0.0,\"Chutka-2\"],[\"Sweden\",570.0,\"Barseback-1\"],[\"Sweden\",570.0,\"Barseback-2\"],[\"United States\",835.0,\"Beaver Valley-1\"],[\"United States\",836.0,\"Beaver Valley-2\"],[\"Belarus\",1110.0,\"Belarusian-1\"],[\"Belarus\",1110.0,\"Belarusian-2\"],[\"Bulgaria\",953.0,\"Belene-1\"],[\"Bulgaria\",953.0,\"Belene-2\"],[\"France\",1310.0,\"Belleville-1\"],[\"France\",1310.0,\"Belleville-2\"],[\"Russia\",102.0,\"Beloyarsk-1\"],[\"Russia\",146.0,\"Beloyarsk-2\"],[\"Russia\",560.0,\"Beloyarsk-3\"],[\"Russia\",820.0,\"Beloyarsk-4\"],[\"Russia\",0.0,\"Beloyarsk-5\"],[\"United Kingdom\",138.0,\"Berkeley-1\"],[\"United Kingdom\",138.0,\"Berkeley-2\"],[\"Switzerland\",365.0,\"Beznau-1\"],[\"Switzerland\",365.0,\"Beznau-2\"],[\"Germany\",1146.0,\"Biblis-A\"],[\"Germany\",1178.0,\"Biblis-B\"],[\"United States\",72.0,\"Big Rock Point\"],[\"Russia\",11.0,\"Bilibino-1\"],[\"Russia\",11.0,\"Bilibino-2\"],[\"Russia\",11.0,\"Bilibino-3\"],[\"Russia\",11.0,\"Bilibino-4\"],[\"France\",910.0,\"Blayais-1\"],[\"France\",910.0,\"Blayais-2\"],[\"France\",910.0,\"Blayais-3\"],[\"France\",910.0,\"Blayais-4\"],[\"Slovakia\",408.0,\"Bohunice-1\"],[\"Slovakia\",408.0,\"Bohunice-2\"],[\"Slovakia\",466.0,\"Bohunice-3\"],[\"Slovakia\",466.0,\"Bohunice-4\"],[\"Slovakia\",110.0,\"Bohunice-A1\"],[\"United States\",17.0,\"BONUS\"],[\"Netherlands\",495.0,\"Borssele\"],[\"Belgium\",11.0,\"BR-3\"],[\"United Kingdom\",150.0,\"Bradwell-1\"],[\"United Kingdom\",150.0,\"Bradwell-2\"],[\"United States\",1120.0,\"Braidwood-1\"],[\"United States\",1120.0,\"Braidwood-2\"],[\"Germany\",1307.0,\"Brokdorf\"],[\"United States\",1065.0,\"Browns Ferry-1\"],[\"United States\",1065.0,\"Browns Ferry-2\"],[\"United States\",1065.0,\"Browns Ferry-3\"],[\"Canada\",774.0,\"Bruce-1\"],[\"Canada\",777.0,\"Bruce-2\"],[\"Canada\",770.0,\"Bruce-3\"],[\"Canada\",769.0,\"Bruce-4\"],[\"Canada\",822.0,\"Bruce-5\"],[\"Canada\",822.0,\"Bruce-6\"],[\"Canada\",822.0,\"Bruce-7\"],[\"Canada\",795.0,\"Bruce-8\"],[\"Germany\",770.0,\"Brunsbuettel\"],[\"United States\",821.0,\"Brunswick-1\"],[\"United States\",821.0,\"Brunswick-2\"],[\"France\",540.0,\"Bugey-1\"],[\"France\",920.0,\"Bugey-2\"],[\"France\",920.0,\"Bugey-3\"],[\"France\",900.0,\"Bugey-4\"],[\"France\",900.0,\"Bugey-5\"],[\"Iran\",915.0,\"Bushehr-1\"],[\"Iran\",974.0,\"Bushehr-2\"],[\"Iran\",0.0,\"Bushehr-3\"],[\"Iran\",0.0,\"Bushehr-4\"],[\"United States\",1120.0,\"Byron-1\"],[\"United States\",1120.0,\"Byron-2\"],[\"United Kingdom\",35.0,\"Calder Hall-1\"],[\"United Kingdom\",35.0,\"Calder Hall-2\"],[\"United Kingdom\",35.0,\"Calder Hall-3\"],[\"United Kingdom\",35.0,\"Calder Hall-4\"],[\"United States\",1171.0,\"Callaway-1\"],[\"United States\",845.0,\"Calvert Cliffs-1\"],[\"United States\",845.0,\"Calvert Cliffs-2\"],[\"Italy\",840.0,\"Caorso\"],[\"Argentina\",25.0,\"CAREM25\"],[\"United States\",17.0,\"Carolinas CVTR\"],[\"United States\",1145.0,\"Catawba-1\"],[\"United States\",1145.0,\"Catawba-2\"],[\"France\",1300.0,\"Cattenom-1\"],[\"France\",1300.0,\"Cattenom-2\"],[\"France\",1300.0,\"Cattenom-3\"],[\"France\",1300.0,\"Cattenom-4\"],[\"China\",20.0,\"CEFR (China Experimental Fast Reactor)\"],[\"Romania\",650.0,\"Cernavoda-1\"],[\"Romania\",650.0,\"Cernavoda-2\"],[\"Romania\",655.0,\"Cernavoda-3\"],[\"China\",601.0,\"Changjiang-1\"],[\"China\",601.0,\"Changjiang-2\"],[\"United Kingdom\",35.0,\"Chapelcross-1\"],[\"United Kingdom\",35.0,\"Chapelcross-2\"],[\"United Kingdom\",35.0,\"Chapelcross-3\"],[\"United Kingdom\",35.0,\"Chapelcross-4\"],[\"Pakistan\",300.0,\"CHASNUPP-1\"],[\"Pakistan\",300.0,\"CHASNUPP-2\"],[\"Pakistan\",315.0,\"CHASNUPP-3\"],[\"Pakistan\",313.0,\"CHASNUPP-4\"],[\"Ukraine\",925.0,\"Chernobyl-1\"],[\"Ukraine\",925.0,\"Chernobyl-2\"],[\"Ukraine\",925.0,\"Chernobyl-3\"],[\"Ukraine\",925.0,\"Chernobyl-4\"],[\"Taiwan\",604.0,\"Chin Shan-1\"],[\"Taiwan\",604.0,\"Chin Shan-2\"],[\"France\",68.0,\"Chinon-A1\"],[\"France\",170.0,\"Chinon-A2\"],[\"France\",480.0,\"Chinon-A3\"],[\"France\",870.0,\"Chinon-B1\"],[\"France\",870.0,\"Chinon-B2\"],[\"France\",905.0,\"Chinon-B3\"],[\"France\",905.0,\"Chinon-B4\"],[\"France\",280.0,\"Chooz-A\"],[\"France\",1455.0,\"Chooz-B1\"],[\"France\",1455.0,\"Chooz-B2\"],[\"France\",1450.0,\"Civaux-1\"],[\"France\",1450.0,\"Civaux-2\"],[\"United States\",950.0,\"Clinton-1\"],[\"Spain\",939.0,\"Cofrentes\"],[\"United States\",1100.0,\"Columbia (WNP-2)\"],[\"United States\",1150.0,\"Comanche Peak-1\"],[\"United States\",1150.0,\"Comanche Peak-2\"],[\"United States\",778.0,\"Cooper\"],[\"France\",880.0,\"Cruas-1\"],[\"France\",915.0,\"Cruas-2\"],[\"France\",880.0,\"Cruas-3\"],[\"France\",880.0,\"Cruas-4\"],[\"United States\",825.0,\"Crystal River-3\"],[\"France\",890.0,\"Dampierre-1\"],[\"France\",890.0,\"Dampierre-2\"],[\"France\",890.0,\"Dampierre-3\"],[\"France\",890.0,\"Dampierre-4\"],[\"Iran\",0.0,\"Darkhovin\"],[\"Canada\",881.0,\"Darlington-1\"],[\"Canada\",881.0,\"Darlington-2\"],[\"Canada\",881.0,\"Darlington-3\"],[\"Canada\",881.0,\"Darlington-4\"],[\"Canada\",0.0,\"Darlington-5\"],[\"Canada\",0.0,\"Darlington-6\"],[\"United States\",906.0,\"Davis Besse-1\"],[\"China\",930.0,\"Daya Bay-1 (Guangdong-1)\"],[\"China\",930.0,\"Daya Bay-2 (Guangdong-2)\"],[\"United States\",1084.0,\"Diablo Canyon-1\"],[\"United States\",1106.0,\"Diablo Canyon-2\"],[\"Belgium\",392.0,\"Doel-1\"],[\"Belgium\",445.0,\"Doel-2\"],[\"Belgium\",1006.0,\"Doel-3\"],[\"Belgium\",1000.0,\"Doel-4\"],[\"United States\",1030.0,\"Donald Cook-1\"],[\"United States\",1100.0,\"Donald Cook-2\"],[\"Canada\",203.0,\"Douglas Point\"],[\"United Kingdom\",14.0,\"Dounreay DFR\"],[\"United Kingdom\",234.0,\"Dounreay PFR\"],[\"United States\",192.0,\"Dresden-1\"],[\"United States\",794.0,\"Dresden-2\"],[\"United States\",794.0,\"Dresden-3\"],[\"United States\",601.0,\"Duane Arnold-1\"],[\"Czechia\",468.0,\"Dukovany-1\"],[\"Czechia\",420.0,\"Dukovany-2\"],[\"Czechia\",420.0,\"Dukovany-3\"],[\"Czechia\",420.0,\"Dukovany-4\"],[\"United Kingdom\",275.0,\"Dungeness-A1\"],[\"United Kingdom\",275.0,\"Dungeness-A2\"],[\"United Kingdom\",607.0,\"Dungeness-B1\"],[\"United Kingdom\",545.0,\"Dungeness-B2\"],[\"Egypt\",0.0,\"El Dabaa-1\"],[\"France\",70.0,\"EL-4 (Monts D'Arree)\"],[\"United States\",22.0,\"Elk River\"],[\"Argentina\",608.0,\"Embalse\"],[\"Germany\",1242.0,\"Emsland\"],[\"Italy\",247.0,\"Enrico Fermi\"],[\"United States\",60.0,\"Enrico Fermi-1\"],[\"United States\",1093.0,\"Enrico Fermi-2\"],[\"China\",1000.0,\"Fangchenggang-1\"],[\"China\",1000.0,\"Fangchenggang-2\"],[\"China\",1000.0,\"Fangjiashan-1\"],[\"China\",1000.0,\"Fangjiashan-2\"],[\"United States\",829.0,\"Farley-1\"],[\"United States\",829.0,\"Farley-2\"],[\"France\",880.0,\"Fessenheim-1\"],[\"France\",880.0,\"Fessenheim-2\"],[\"United States\",821.0,\"FitzPatrick\"],[\"France\",1330.0,\"Flamanville-1\"],[\"France\",1330.0,\"Flamanville-2\"],[\"France\",1630.0,\"Flamanville-3\"],[\"Sweden\",900.0,\"Forsmark-1\"],[\"Sweden\",900.0,\"Forsmark-2\"],[\"Sweden\",1050.0,\"Forsmark-3\"],[\"United States\",478.0,\"Fort Calhoun-1\"],[\"United States\",330.0,\"Fort St. Vrain\"],[\"Japan\",148.0,\"Fugen ATR\"],[\"Japan\",439.0,\"Fukushima Daiichi-1\"],[\"Japan\",760.0,\"Fukushima Daiichi-2\"],[\"Japan\",760.0,\"Fukushima Daiichi-3\"],[\"Japan\",760.0,\"Fukushima Daiichi-4\"],[\"Japan\",760.0,\"Fukushima Daiichi-5\"],[\"Japan\",1067.0,\"Fukushima Daiichi-6\"],[\"Japan\",1067.0,\"Fukushima Daini-1\"],[\"Japan\",1067.0,\"Fukushima Daini-2\"],[\"Japan\",1067.0,\"Fukushima Daini-3\"],[\"Japan\",1067.0,\"Fukushima Daini-4\"],[\"China\",1000.0,\"Fuqing-1\"],[\"China\",1000.0,\"Fuqing-2\"],[\"China\",1000.0,\"Fuqing-3\"],[\"China\",1000.0,\"Fuqing-4\"],[\"China\",1000.0,\"Fuqing-5\"],[\"China\",1000.0,\"Fuqing-6\"],[\"France\",36.0,\"G-2 (Marcoule)\"],[\"France\",36.0,\"G-3 (Marcoule)\"],[\"Italy\",150.0,\"Garigliano\"],[\"United States\",24.0,\"GE Vallecitos\"],[\"Japan\",529.0,\"Genkai-1\"],[\"Japan\",529.0,\"Genkai-2\"],[\"Japan\",1127.0,\"Genkai-3\"],[\"Japan\",1127.0,\"Genkai-4\"],[\"Canada\",250.0,\"Gentilly-1 (Demo)\"],[\"Canada\",645.0,\"Gentilly-2\"],[\"Netherlands\",54.0,\"Dodewaard\"],[\"Switzerland\",1010.0,\"Goesgen\"],[\"France\",1310.0,\"Golfech-1\"],[\"France\",1310.0,\"Golfech-2\"],[\"Germany\",1225.0,\"Grafenrheinfeld\"],[\"United States\",1250.0,\"Grand Gulf-1\"],[\"France\",910.0,\"Gravelines-1\"],[\"France\",910.0,\"Gravelines-2\"],[\"France\",910.0,\"Gravelines-3\"],[\"France\",910.0,\"Gravelines-4\"],[\"France\",910.0,\"Gravelines-5\"],[\"France\",910.0,\"Gravelines-6\"],[\"Germany\",440.0,\"Greifswald-1\"],[\"Germany\",408.0,\"Greifswald-2\"],[\"Germany\",408.0,\"Greifswald-3\"],[\"Germany\",408.0,\"Greifswald-4\"],[\"Germany\",408.0,\"Greifswald-5\"],[\"Germany\",1289.0,\"Grohnde\"],[\"Germany\",23.0,\"Grosswelzheim\"],[\"Germany\",237.0,\"Gundremmingen-A\"],[\"Germany\",1244.0,\"Gundremmingen-B\"],[\"Germany\",1249.0,\"Gundremmingen-C\"],[\"United States\",700.0,\"H. B. Robinson-2\"],[\"United States\",582.0,\"Haddam Neck\"],[\"China\",1126.0,\"Haiyang-1\"],[\"China\",1126.0,\"Haiyang-2\"],[\"China\",0.0,\"Haiyang-3\"],[\"China\",0.0,\"Haiyang-4\"],[\"United States\",75.0,\"Hallam\"],[\"Japan\",516.0,\"Hamaoka-1\"],[\"Japan\",814.0,\"Hamaoka-2\"],[\"Japan\",1056.0,\"Hamaoka-3\"],[\"Japan\",1092.0,\"Hamaoka-4\"],[\"Japan\",1325.0,\"Hamaoka-5\"],[\"Japan\",0.0,\"Hamaoka-6\"],[\"South Korea\",995.0,\"Hanbit-1\"],[\"South Korea\",988.0,\"Hanbit-2\"],[\"South Korea\",986.0,\"Hanbit-3\"],[\"South Korea\",970.0,\"Hanbit-4\"],[\"South Korea\",992.0,\"Hanbit-5\"],[\"South Korea\",993.0,\"Hanbit-6\"],[\"South Korea\",966.0,\"Hanul-1\"],[\"South Korea\",967.0,\"Hanul-2\"],[\"South Korea\",997.0,\"Hanul-3\"],[\"South Korea\",999.0,\"Hanul-4\"],[\"South Korea\",998.0,\"Hanul-5\"],[\"South Korea\",997.0,\"Hanul-6\"],[\"United Kingdom\",590.0,\"Hartlepool-A1\"],[\"United Kingdom\",595.0,\"Hartlepool-A2\"],[\"United States\",777.0,\"Hatch-1\"],[\"United States\",784.0,\"Hatch-2\"],[\"United Kingdom\",611.0,\"Heysham-A1\"],[\"United Kingdom\",611.0,\"Heysham-A2\"],[\"United Kingdom\",615.0,\"Heysham-B1\"],[\"United Kingdom\",615.0,\"Heysham-B2\"],[\"Japan\",1067.0,\"Higashi Dori-1 (Tohoku)\"],[\"Japan\",0.0,\"Higashi Dori-1 (Tokyo)\"],[\"Japan\",0.0,\"Higashi Dori-2 (Tohoku)\"],[\"Japan\",0.0,\"Higashi Dori-2 (Tokyo)\"],[\"United Kingdom\",250.0,\"Hinkley Point-A1\"],[\"United Kingdom\",250.0,\"Hinkley Point-A2\"],[\"United Kingdom\",625.0,\"Hinkley Point-B1\"],[\"United Kingdom\",625.0,\"Hinkley Point-B2\"],[\"United Kingdom\",1630.0,\"Hinkley Point-C1\"],[\"United Kingdom\",1630.0,\"Hinkley Point-C2\"],[\"China\",0.0,\"Hongshiding-1 (Rushan-1)\"],[\"China\",0.0,\"Hongshiding-2 (Rushan-2)\"],[\"China\",1061.0,\"Hongyanhe-1\"],[\"China\",1061.0,\"Hongyanhe-2\"],[\"China\",1061.0,\"Hongyanhe-3\"],[\"China\",1061.0,\"Hongyanhe-4\"],[\"China\",1061.0,\"Hongyanhe-5\"],[\"China\",1061.0,\"Hongyanhe-6\"],[\"United States\",1067.0,\"Hope Creek-1\"],[\"United States\",65.0,\"Humboldt Bay\"],[\"United Kingdom\",150.0,\"Hunterston-A1\"],[\"United Kingdom\",150.0,\"Hunterston-A2\"],[\"United Kingdom\",624.0,\"Hunterston-B1\"],[\"United Kingdom\",624.0,\"Hunterston-B2\"],[\"Lithuania\",1185.0,\"Ignalina-1\"],[\"Lithuania\",1185.0,\"Ignalina-2\"],[\"Lithuania\",1380.0,\"Ignalina-3\"],[\"Japan\",538.0,\"Ikata-1\"],[\"Japan\",538.0,\"Ikata-2\"],[\"Japan\",846.0,\"Ikata-3\"],[\"United States\",265.0,\"Indian Point-1\"],[\"United States\",873.0,\"Indian Point-2\"],[\"United States\",965.0,\"Indian Point-3\"],[\"Germany\",870.0,\"Isar-1\"],[\"Germany\",1285.0,\"Isar-2\"],[\"India\",0.0,\"Jaitapur-1\"],[\"India\",0.0,\"Jaitapur-2\"],[\"Indonesia\",0.0,\"Java-1 (Muria)\"],[\"Spain\",153.0,\"Jose Cabrera-1 (Zorita)\"],[\"Japan\",10.0,\"JPDR\"],[\"Germany\",13.0,\"AVR Juelich\"],[\"Germany\",15.0,\"Kahl\"],[\"India\",202.0,\"Kaiga-1\"],[\"India\",202.0,\"Kaiga-2\"],[\"India\",202.0,\"Kaiga-3\"],[\"India\",202.0,\"Kaiga-4\"],[\"India\",0.0,\"Kaiga-5\"],[\"India\",0.0,\"Kaiga-6\"],[\"India\",202.0,\"Kakrapar-1\"],[\"India\",202.0,\"Kakrapar-2\"],[\"India\",630.0,\"Kakrapar-3\"],[\"India\",630.0,\"Kakrapar-4\"],[\"Russia\",950.0,\"Kalinin-1\"],[\"Russia\",950.0,\"Kalinin-2\"],[\"Russia\",950.0,\"Kalinin-3\"],[\"Russia\",950.0,\"Kalinin-4\"],[\"India\",470.0,\"Kalpakkam (PFBR)\"],[\"India\",202.0,\"Kalpakkam-1 (Madras-1 / MAPS1)\"],[\"India\",202.0,\"Kalpakkam-2 (Madras-2 / MAPS2)\"],[\"Japan\",0.0,\"Kaminoseki-1\"],[\"Japan\",0.0,\"Kaminoseki-2\"],[\"Pakistan\",125.0,\"KANUPP-1\"],[\"Germany\",50.0,\"MZFR\"],[\"Japan\",1067.0,\"Kashiwazaki Kariwa-1\"],[\"Japan\",1067.0,\"Kashiwazaki Kariwa-2\"],[\"Japan\",1067.0,\"Kashiwazaki Kariwa-3\"],[\"Japan\",1067.0,\"Kashiwazaki Kariwa-4\"],[\"Japan\",1067.0,\"Kashiwazaki Kariwa-5\"],[\"Japan\",1315.0,\"Kashiwazaki Kariwa-6\"],[\"Japan\",1315.0,\"Kashiwazaki Kariwa-7\"],[\"United States\",535.0,\"Kewaunee\"],[\"Ukraine\",950.0,\"Khmelnitski-1\"],[\"Ukraine\",950.0,\"Khmelnitski-2\"],[\"Ukraine\",1035.0,\"Khmelnitski-3\"],[\"Ukraine\",1035.0,\"Khmelnitski-4\"],[\"Germany\",18.0,\"KNK-II\"],[\"South Africa\",921.0,\"Koeberg-1\"],[\"South Africa\",921.0,\"Koeberg-2\"],[\"Russia\",411.0,\"Kola-1\"],[\"Russia\",411.0,\"Kola-2\"],[\"Russia\",411.0,\"Kola-3\"],[\"Russia\",411.0,\"Kola-4\"],[\"South Korea\",558.0,\"Kori-1\"],[\"South Korea\",640.0,\"Kori-2\"],[\"South Korea\",1011.0,\"Kori-3\"],[\"South Korea\",1012.0,\"Kori-4\"],[\"Bulgaria\",408.0,\"Kozloduy-1\"],[\"Bulgaria\",408.0,\"Kozloduy-2\"],[\"Bulgaria\",408.0,\"Kozloduy-3\"],[\"Bulgaria\",408.0,\"Kozloduy-4\"],[\"Bulgaria\",1003.0,\"Kozloduy-5\"],[\"Bulgaria\",1003.0,\"Kozloduy-6\"],[\"Slovenia\",632.0,\"Krsko\"],[\"Germany\",1260.0,\"Kruemmel\"],[\"India\",917.0,\"Kudankulam-1\"],[\"India\",917.0,\"Kudankulam-2\"],[\"India\",917.0,\"Kudankulam-3\"],[\"India\",917.0,\"Kudankulam-4\"],[\"India\",0.0,\"Kudankulam-5\"],[\"India\",0.0,\"Kudankulam-6\"],[\"India\",0.0,\"Kumharia-1\"],[\"India\",0.0,\"Kumharia-2\"],[\"India\",0.0,\"Kumharia-3\"],[\"India\",0.0,\"Kumharia-4\"],[\"Taiwan\",985.0,\"Kuosheng-1\"],[\"Taiwan\",985.0,\"Kuosheng-2\"],[\"Russia\",925.0,\"Kursk-1\"],[\"Russia\",925.0,\"Kursk-2\"],[\"Russia\",925.0,\"Kursk-3\"],[\"Russia\",925.0,\"Kursk-4\"],[\"United States\",50.0,\"LaCrosse\"],[\"Mexico\",777.0,\"Laguna Verde-1\"],[\"Mexico\",780.0,\"Laguna Verde-2\"],[\"United States\",1078.0,\"LaSalle-1\"],[\"United States\",1078.0,\"LaSalle-2\"],[\"Italy\",200.0,\"Latina\"],[\"Switzerland\",960.0,\"Leibstadt\"],[\"Russia\",1066.0,\"Leningrad 2-1\"],[\"Russia\",1066.0,\"Leningrad 2-2\"],[\"Russia\",1085.0,\"Leningrad 2-3\"],[\"Russia\",1085.0,\"Leningrad 2-4\"],[\"Russia\",925.0,\"Leningrad-1\"],[\"Russia\",925.0,\"Leningrad-2\"],[\"Russia\",925.0,\"Leningrad-3\"],[\"Russia\",925.0,\"Leningrad-4\"],[\"China\",0.0,\"Lianyungang-1\"],[\"China\",0.0,\"Lianyungang-2\"],[\"United States\",1055.0,\"Limerick-1\"],[\"United States\",1055.0,\"Limerick-2\"],[\"China\",950.0,\"Lingao-1\"],[\"China\",950.0,\"Lingao-2\"],[\"China\",1007.0,\"Lingao-3\"],[\"China\",1007.0,\"Lingao-4\"],[\"Germany\",183.0,\"Lingen\"],[\"China\",0.0,\"Longyou-1\"],[\"China\",0.0,\"Longyou-2\"],[\"Finland\",420.0,\"Loviisa-1\"],[\"Finland\",420.0,\"Loviisa-2\"],[\"Switzerland\",6.0,\"Lucens\"],[\"Taiwan\",1300.0,\"Lungmen-1\"],[\"Taiwan\",1300.0,\"Lungmen-2\"],[\"Taiwan\",936.0,\"Maanshan-1\"],[\"Taiwan\",938.0,\"Maanshan-2\"],[\"United States\",825.0,\"Maine Yankee\"],[\"United States\",1180.0,\"McGuire-1\"],[\"United States\",1180.0,\"McGuire-2\"],[\"Japan\",320.0,\"Mihama-1\"],[\"Japan\",470.0,\"Mihama-2\"],[\"Japan\",780.0,\"Mihama-3\"],[\"United States\",660.0,\"Millstone-1\"],[\"United States\",870.0,\"Millstone-2\"],[\"United States\",1159.0,\"Millstone-3\"],[\"Slovakia\",436.0,\"Mochovce-1\"],[\"Slovakia\",469.0,\"Mochovce-2\"],[\"Slovakia\",440.0,\"Mochovce-3\"],[\"Slovakia\",440.0,\"Mochovce-4\"],[\"Japan\",246.0,\"Monju\"],[\"United States\",545.0,\"Monticello\"],[\"Switzerland\",306.0,\"Muehleberg\"],[\"Germany\",1219.0,\"Muelheim-Kaerlich\"],[\"India\",202.0,\"Narora-1\"],[\"India\",202.0,\"Narora-2\"],[\"Germany\",805.0,\"Neckarwestheim-1\"],[\"Germany\",1225.0,\"Neckarwestheim-2\"],[\"Germany\",100.0,\"Niederaichbach\"],[\"United States\",620.0,\"Nine Mile Point-1\"],[\"United States\",1100.0,\"Nine Mile Point-2\"],[\"China\",1018.0,\"Ningde-1\"],[\"China\",1018.0,\"Ningde-2\"],[\"China\",1018.0,\"Ningde-3\"],[\"China\",1018.0,\"Ningde-4\"],[\"China\",0.0,\"Ningde-5\"],[\"China\",0.0,\"Ningde-6\"],[\"Russia\",0.0,\"Nizhny Novgorod-1\"],[\"Russia\",0.0,\"Nizhny Novgorod-2\"],[\"France\",1310.0,\"Nogent-1\"],[\"France\",1310.0,\"Nogent-2\"],[\"United States\",907.0,\"North Anna-1\"],[\"United States\",907.0,\"North Anna-2\"],[\"Russia\",1114.0,\"Novovoronezh 2-1\"],[\"Russia\",1114.0,\"Novovoronezh 2-2\"],[\"Russia\",197.0,\"Novovoronezh-1\"],[\"Russia\",336.0,\"Novovoronezh-2\"],[\"Russia\",385.0,\"Novovoronezh-3\"],[\"Russia\",385.0,\"Novovoronezh-4\"],[\"Russia\",950.0,\"Novovoronezh-5\"],[\"Germany\",283.0,\"Obrigheim\"],[\"United States\",887.0,\"Oconee-1\"],[\"United States\",887.0,\"Oconee-2\"],[\"United States\",887.0,\"Oconee-3\"],[\"Japan\",1120.0,\"Ohi-1\"],[\"Japan\",1120.0,\"Ohi-2\"],[\"Japan\",1127.0,\"Ohi-3\"],[\"Japan\",1127.0,\"Ohi-4\"],[\"Japan\",1328.0,\"Ohma\"],[\"United Kingdom\",300.0,\"Oldbury-A1\"],[\"United Kingdom\",300.0,\"Oldbury-A2\"],[\"Finland\",660.0,\"Olkiluoto-1\"],[\"Finland\",660.0,\"Olkiluoto-2\"],[\"Finland\",1600.0,\"Olkiluoto-3\"],[\"Finland\",0.0,\"Olkiluoto-4\"],[\"Japan\",498.0,\"Onagawa-1\"],[\"Japan\",796.0,\"Onagawa-2\"],[\"Japan\",796.0,\"Onagawa-3\"],[\"Sweden\",440.0,\"Oskarshamn-1\"],[\"Sweden\",580.0,\"Oskarshamn-2\"],[\"Sweden\",1050.0,\"Oskarshamn-3\"],[\"United States\",650.0,\"Oyster Creek\"],[\"Hungary\",408.0,\"Paks-1\"],[\"Hungary\",410.0,\"Paks-2\"],[\"Hungary\",410.0,\"Paks-3\"],[\"Hungary\",410.0,\"Paks-4\"],[\"United States\",805.0,\"Palisades\"],[\"United States\",1221.0,\"Palo Verde-1\"],[\"United States\",1304.0,\"Palo Verde-2\"],[\"United States\",1304.0,\"Palo Verde-3\"],[\"France\",1330.0,\"Paluel-1\"],[\"France\",1330.0,\"Paluel-2\"],[\"France\",1330.0,\"Paluel-3\"],[\"France\",1330.0,\"Paluel-4\"],[\"United States\",59.0,\"Pathfinder\"],[\"United States\",40.0,\"Peach Bottom-1\"],[\"United States\",1065.0,\"Peach Bottom-2\"],[\"United States\",1065.0,\"Peach Bottom-3\"],[\"China\",0.0,\"Pengze-1\"],[\"China\",0.0,\"Pengze-2\"],[\"France\",1330.0,\"Penly-1\"],[\"France\",1330.0,\"Penly-2\"],[\"France\",0.0,\"Penly-3\"],[\"United States\",1205.0,\"Perry-1\"],[\"France\",233.0,\"Phenix\"],[\"Germany\",864.0,\"Philippsburg-1\"],[\"Germany\",1268.0,\"Philippsburg-2\"],[\"Canada\",508.0,\"Pickering-1\"],[\"Canada\",508.0,\"Pickering-2\"],[\"Canada\",508.0,\"Pickering-3\"],[\"Canada\",508.0,\"Pickering-4\"],[\"Canada\",516.0,\"Pickering-5\"],[\"Canada\",516.0,\"Pickering-6\"],[\"Canada\",516.0,\"Pickering-7\"],[\"Canada\",516.0,\"Pickering-8\"],[\"United States\",655.0,\"Pilgrim-1\"],[\"United States\",11.0,\"Piqua\"],[\"United States\",497.0,\"Point Beach-1\"],[\"United States\",497.0,\"Point Beach-2\"],[\"Canada\",660.0,\"Point Lepreau\"],[\"Canada\",0.0,\"Point Lepreau 2\"],[\"United States\",530.0,\"Prairie Island-1\"],[\"United States\",530.0,\"Prairie Island-2\"],[\"China\",308.0,\"Qinshan-1\"],[\"China\",610.0,\"Qinshan-2-1 (Qinshan 2)\"],[\"China\",610.0,\"Qinshan-2-2 (Qinshan 3)\"],[\"China\",619.0,\"Qinshan-2-3 (Qinshan 4)\"],[\"China\",619.0,\"Qinshan-2-4 (Qinshan 5)\"],[\"China\",677.0,\"Qinshan-3-1 (Qinshan 6)\"],[\"China\",677.0,\"Qinshan-3-2 (Qinshan 7)\"],[\"United States\",789.0,\"Quad Cities-1\"],[\"United States\",789.0,\"Quad Cities-2\"],[\"United States\",470.0,\"R. E. Ginna\"],[\"India\",207.0,\"Rajasthan-1\"],[\"India\",207.0,\"Rajasthan-2\"],[\"India\",202.0,\"Rajasthan-3\"],[\"India\",202.0,\"Rajasthan-4\"],[\"India\",202.0,\"Rajasthan-5\"],[\"India\",202.0,\"Rajasthan-6\"],[\"India\",630.0,\"Rajasthan-7\"],[\"India\",630.0,\"Rajasthan-8\"],[\"United States\",918.0,\"Rancho Seco-1\"],[\"Germany\",62.0,\"Rheinsberg\"],[\"Sweden\",881.0,\"Ringhals-1\"],[\"Sweden\",820.0,\"Ringhals-2\"],[\"Sweden\",1072.0,\"Ringhals-3\"],[\"Sweden\",1130.0,\"Ringhals-4\"],[\"United States\",966.0,\"River Bend-1\"],[\"Canada\",17.0,\"Rolphton NPD\"],[\"Russia\",950.0,\"Rostov-1 (Volgodonsk-1)\"],[\"Russia\",950.0,\"Rostov-2 (Volgodonsk-2)\"],[\"Russia\",950.0,\"Rostov-3 (Volgodonsk-3)\"],[\"Russia\",950.0,\"Rostov-4 (Volgodonsk-4)\"],[\"Ukraine\",361.0,\"Rovno-1\"],[\"Ukraine\",384.0,\"Rovno-2\"],[\"Ukraine\",950.0,\"Rovno-3\"],[\"Ukraine\",950.0,\"Rovno-4\"],[\"United States\",1090.0,\"Salem-1\"],[\"United States\",1115.0,\"Salem-2\"],[\"United States\",436.0,\"San Onofre-1\"],[\"United States\",1070.0,\"San Onofre-2\"],[\"United States\",1070.0,\"San Onofre-3\"],[\"China\",1157.0,\"Sanmen-1\"],[\"China\",1157.0,\"Sanmen-2\"],[\"China\",0.0,\"Sanmen-3\"],[\"China\",0.0,\"Sanmen-4\"],[\"China\",0.0,\"Sanming-1\"],[\"China\",0.0,\"Sanming-2\"],[\"Spain\",440.0,\"Santa Maria de Garona\"],[\"United States\",3.0,\"Saxton\"],[\"United States\",1149.0,\"Seabrook-1\"],[\"Japan\",846.0,\"Sendai-1\"],[\"Japan\",846.0,\"Sendai-2\"],[\"Japan\",0.0,\"Sendai-3\"],[\"United States\",1148.0,\"Sequoyah-1\"],[\"United States\",1148.0,\"Sequoyah-2\"],[\"China\",0.0,\"Shanwei-1\"],[\"China\",0.0,\"Shaoguan-1\"],[\"China\",0.0,\"Shaoguan-2\"],[\"China\",0.0,\"Shaoguan-3\"],[\"China\",0.0,\"Shaoguan-4\"],[\"United States\",900.0,\"Shearon Harris-1\"],[\"China\",200.0,\"Shidao Bay-1\"],[\"Japan\",505.0,\"Shika-1\"],[\"Japan\",1108.0,\"Shika-2\"],[\"Japan\",439.0,\"Shimane-1\"],[\"Japan\",789.0,\"Shimane-2\"],[\"Japan\",1325.0,\"Shimane-3\"],[\"South Korea\",997.0,\"Shin-Wolsong-1\"],[\"South Korea\",993.0,\"Shin-Wolsong-2\"],[\"South Korea\",1340.0,\"Shin-Hanul-1\"],[\"South Korea\",1340.0,\"Shin-Hanul-2\"],[\"South Korea\",996.0,\"Shin-Kori-1\"],[\"South Korea\",996.0,\"Shin-Kori-2\"],[\"South Korea\",1416.0,\"Shin-Kori-3\"],[\"South Korea\",1418.0,\"Shin-Kori-4\"],[\"South Korea\",1340.0,\"Shin-Kori-5\"],[\"South Korea\",1340.0,\"Shin-Kori-6\"],[\"United States\",60.0,\"Shippingport\"],[\"United States\",809.0,\"Shoreham\"],[\"Turkey\",0.0,\"Sinop-1\"],[\"Turkey\",0.0,\"Sinop-2\"],[\"Turkey\",0.0,\"Sinop-3\"],[\"Turkey\",0.0,\"Sinop-4\"],[\"United Kingdom\",290.0,\"Sizewell-A1\"],[\"United Kingdom\",290.0,\"Sizewell-A2\"],[\"United Kingdom\",1188.0,\"Sizewell-B\"],[\"United Kingdom\",0.0,\"Sizewell-C1\"],[\"United Kingdom\",0.0,\"Sizewell-C2\"],[\"Russia\",925.0,\"Smolensk-1\"],[\"Russia\",925.0,\"Smolensk-2\"],[\"Russia\",925.0,\"Smolensk-3\"],[\"United States\",1250.0,\"South Texas-1\"],[\"United States\",1250.0,\"South Texas-2\"],[\"Ukraine\",950.0,\"South Ukraine-1\"],[\"Ukraine\",950.0,\"South Ukraine-2\"],[\"Ukraine\",950.0,\"South Ukraine-3\"],[\"France\",1335.0,\"St. Alban-1\"],[\"France\",1335.0,\"St. Alban-2\"],[\"France\",480.0,\"St. Laurent-A1\"],[\"France\",515.0,\"St. Laurent-A2\"],[\"France\",915.0,\"St. Laurent-B1\"],[\"France\",880.0,\"St. Laurent-B2\"],[\"United States\",830.0,\"St. Lucie-1\"],[\"United States\",830.0,\"St. Lucie-2\"],[\"Germany\",630.0,\"Stade\"],[\"United States\",900.0,\"Summer-1\"],[\"United States\",1117.0,\"Summer-2\"],[\"United States\",1117.0,\"Summer-3\"],[\"France\",1200.0,\"Super-Phenix\"],[\"United States\",788.0,\"Surry-1\"],[\"United States\",788.0,\"Surry-2\"],[\"United States\",1065.0,\"Susquehanna-1\"],[\"United States\",1065.0,\"Susquehanna-2\"],[\"China\",1660.0,\"Taishan-1\"],[\"China\",1660.0,\"Taishan-2\"],[\"Japan\",780.0,\"Takahama-1\"],[\"Japan\",780.0,\"Takahama-2\"],[\"Japan\",830.0,\"Takahama-3\"],[\"Japan\",830.0,\"Takahama-4\"],[\"China\",0.0,\"Taohuajiang-1\"],[\"China\",0.0,\"Taohuajiang-2\"],[\"China\",0.0,\"Taohuajiang-3\"],[\"China\",0.0,\"Taohuajiang-4\"],[\"India\",200.0,\"Tarapur-1\"],[\"India\",200.0,\"Tarapur-2\"],[\"India\",502.0,\"Tarapur-3\"],[\"India\",502.0,\"Tarapur-4\"],[\"Czechia\",1027.0,\"Temelin-1\"],[\"Czechia\",1029.0,\"Temelin-2\"],[\"United States\",819.0,\"Three Mile Island-1\"],[\"United States\",906.0,\"Three Mile Island-2\"],[\"Germany\",296.0,\"THTR-300\"],[\"China\",990.0,\"Tianwan-1\"],[\"China\",990.0,\"Tianwan-2\"],[\"China\",1060.0,\"Tianwan-3\"],[\"China\",1060.0,\"Tianwan-4\"],[\"China\",1000.0,\"Tianwan-5\"],[\"China\",1000.0,\"Tianwan-6\"],[\"Belgium\",870.0,\"Tihange-1\"],[\"Belgium\",900.0,\"Tihange-2\"],[\"Belgium\",1020.0,\"Tihange-3\"],[\"Japan\",159.0,\"Tokai-1\"],[\"Japan\",1056.0,\"Tokai-2\"],[\"Japan\",550.0,\"Tomari-1\"],[\"Japan\",550.0,\"Tomari-2\"],[\"Japan\",866.0,\"Tomari-3\"],[\"United Kingdom\",645.0,\"Torness-1\"],[\"United Kingdom\",645.0,\"Torness-2\"],[\"United Kingdom\",250.0,\"Trawsfynydd-1\"],[\"United Kingdom\",250.0,\"Trawsfynydd-2\"],[\"France\",915.0,\"Tricastin-1\"],[\"France\",915.0,\"Tricastin-2\"],[\"France\",915.0,\"Tricastin-3\"],[\"France\",915.0,\"Tricastin-4\"],[\"Spain\",990.0,\"Trillo-1\"],[\"United States\",1130.0,\"Trojan\"],[\"Japan\",341.0,\"Tsuruga-1\"],[\"Japan\",1115.0,\"Tsuruga-2\"],[\"Japan\",0.0,\"Tsuruga-3\"],[\"Japan\",0.0,\"Tsuruga-4\"],[\"United States\",693.0,\"Turkey Point-3\"],[\"United States\",693.0,\"Turkey Point-4\"],[\"Germany\",1230.0,\"Unterweser\"],[\"Spain\",480.0,\"Vandellos-1\"],[\"Spain\",930.0,\"Vandellos-2\"],[\"United States\",514.0,\"Vermont Yankee\"],[\"Lithuania\",0.0,\"Visaginas-1\"],[\"Lithuania\",0.0,\"Visaginas-2\"],[\"United States\",1122.0,\"Vogtle-1\"],[\"United States\",1101.0,\"Vogtle-2\"],[\"United States\",1117.0,\"Vogtle-3\"],[\"United States\",1117.0,\"Vogtle-4\"],[\"United States\",1104.0,\"Waterford-3\"],[\"United States\",1218.0,\"Watts Bar-1\"],[\"United States\",1165.0,\"Watts Bar-2\"],[\"United Kingdom\",32.0,\"Windscale AGR\"],[\"United Kingdom\",92.0,\"Winfrith SGHWR\"],[\"United States\",1170.0,\"Wolf Creek\"],[\"South Korea\",629.0,\"Wolsong-1\"],[\"South Korea\",596.0,\"Wolsong-2\"],[\"South Korea\",627.0,\"Wolsong-3\"],[\"South Korea\",600.0,\"Wolsong-4\"],[\"South Korea\",0.0,\"Wolsong-5\"],[\"South Korea\",0.0,\"Wolsong-6\"],[\"Germany\",640.0,\"Wuergassen\"],[\"China\",0.0,\"Wuhu-1\"],[\"China\",0.0,\"Wuhu-2\"],[\"United Kingdom\",550.0,\"Wylfa-1\"],[\"United Kingdom\",550.0,\"Wylfa-2\"],[\"China\",0.0,\"Xianning-1\"],[\"China\",0.0,\"Xianning-2\"],[\"China\",0.0,\"Xiaomoshan (Jiulongshan) 1\"],[\"China\",0.0,\"Xiaomoshan (Jiulongshan) 2\"],[\"China\",1021.0,\"Yangjiang-1\"],[\"China\",1000.0,\"Yangjiang-2\"],[\"China\",1000.0,\"Yangjiang-3\"],[\"China\",1000.0,\"Yangjiang-4\"],[\"China\",1021.0,\"Yangjiang-5\"],[\"China\",1000.0,\"Yangjiang-6\"],[\"China\",0.0,\"Yanjiashan-1\"],[\"China\",0.0,\"Yanjiashan-2\"],[\"United States\",175.0,\"Yankee Rowe\"],[\"Ukraine\",950.0,\"Zaporozhye-1\"],[\"Ukraine\",950.0,\"Zaporozhye-2\"],[\"Ukraine\",950.0,\"Zaporozhye-3\"],[\"Ukraine\",950.0,\"Zaporozhye-4\"],[\"Ukraine\",950.0,\"Zaporozhye-5\"],[\"Ukraine\",950.0,\"Zaporozhye-6\"],[\"China\",1126.0,\"Zhangzhou-1\"],[\"United States\",1040.0,\"Zion-1\"],[\"United States\",1040.0,\"Zion-2\"],[\"China\",1000.0,\"Fangchenggang-3\"],[\"United Arab Emirates\",1345.0,\"Barakah-4 (Braka)\"],[\"Pakistan\",1014.0,\"KANUPP-2\"],[\"China\",1000.0,\"Fangchenggang-4\"],[\"Pakistan\",1014.0,\"KANUPP-3\"],[\"Bangladesh\",1080.0,\"Rooppur-1\"],[\"Russia\",1175.0,\"Kursk 2-1\"],[\"Bangladesh\",1080.0,\"Rooppur-2\"],[\"Russia\",1175.0,\"Kursk 2-2\"],[\"China\",1116.0,\"Taipingling-1\"],[\"China\",1126.0,\"Zhangzhou-2\"],[\"China\",1116.0,\"Taipingling-2\"],[\"China\",642.0,\"Xiapu-1\"],[\"China\",600.0,\"Xiapu-2\"],[\"Romania\",655.0,\"Cernavoda-4\"],[\"Romania\",655.0,\"Cernavoda-5\"],[\"Austria\",692.0,\"Zwentendorf\"],[\"Germany\",295.0,\"SNR-300 (Kalkar)\"],[\"China\",1117.0,\"Sanaocun-1\"],[\"China\",1534.0,\"CAP1400-1\"],[\"China\",1534.0,\"CAP1400-2\"],[\"China\",1000.0,\"Changjiang-3\"],[\"China\",0.0,\"Xudabao-1\"],[\"China\",0.0,\"Xudabao-2\"],[\"China\",0.0,\"Xudabao-3\"],[\"China\",0.0,\"Xudabao-4\"],[\"China\",0.0,\"Tianwan-7\"],[\"China\",0.0,\"Tianwan-8\"],[\"China\",0.0,\"Changjiang-4\"],[\"China\",0.0,\"Changjiang SMR-1\"],[\"China\",0.0,\"Changjiang SMR-2\"],[\"China\",0.0,\"Bohai Shipyard FNPP\"],[\"China\",0.0,\"Jiaodong Shipyard FNPP\"],[\"China\",0.0,\"Shanwei-2\"]],\"hovertemplate\":\"Capacity=%{marker.color}<br>Latitude=%{lat}<br>Longitude=%{lon}<br>Country=%{customdata[0]}<br>Name=%{customdata[2]}<extra></extra>\",\"lat\":[59.206,69.709579,69.709579,null,null,36.144444,36.144444,36.144444,36.144444,43.607,39.807,39.807,-23.008,-23.008,-23.01,55.084,35.31,35.31,40.182,40.182,40.1808,41.202,41.202,-33.967,-33.967,52.092,52.092,52.092,52.092,54.939,23.952748,23.952748,23.952748,null,null,55.745,55.745,40.624,40.624,54.766667,54.766667,43.62453,43.62453,47.511,47.511,56.842,56.842,56.842,56.842,56.842,51.692,51.692,47.552,47.552,49.709,49.709,45.359,68.059,68.059,68.059,68.059,45.256,45.256,45.256,45.256,48.494,48.494,48.494,48.494,48.494,18.365,51.431,51.217,51.742,51.742,41.247,41.247,53.85,34.704,34.704,34.704,44.341,44.341,44.341,44.341,44.341,44.341,44.341,44.341,53.891,33.958,33.958,45.796,45.796,45.798,45.8,45.8,28.831,28.8287,28.8305,28.8305,42.074,42.074,54.42,54.42,54.42,54.42,38.763,38.435,38.435,45.072,-33.966667,34.263,35.053,35.053,49.416,49.416,49.416,49.416,39.739,44.322,44.322,44.322,19.46075,19.46075,55.014,55.014,55.014,55.014,32.392,32.392,32.392,32.391944,51.389,51.389,51.389,51.389,25.292,25.292,47.232,47.232,47.232,47.232,47.232,47.232,47.232,50.086,50.086,50.086,46.457,46.457,40.172,39.216,46.471,32.301,32.301,40.361,44.634,44.634,44.634,44.634,28.966,47.732,47.732,47.732,47.732,30.707778,43.867,43.867,43.867,43.867,43.8644,43.8633,41.597,22.599,22.599,35.212,35.212,51.323,51.323,51.323,51.323,41.975,41.975,44.326,58.577,58.577,41.353,41.353,41.353,42.101,49.089,49.089,49.089,49.089,50.914,50.914,50.914,50.914,31.033333,48.35,45.297,-32.232,52.471,45.183333,41.96,41.96,21.6,21.6,30.416,30.416,31.223,31.223,47.903,47.903,43.521,49.537,49.537,49.537,60.405,60.405,60.405,41.52,40.244,35.751,37.423,37.423,37.423,37.423,37.423,37.423,37.315,37.315,37.315,37.315,25.443,25.443,25.720278,25.720278,25.720278,25.720278,44.142,44.142,41.258,37.613056,33.518,33.518,33.518,33.518,46.395,46.395,51.899,47.366,44.105,44.105,49.984,32.007,51.014,51.014,51.014,51.014,51.014,51.014,54.143,54.143,54.143,54.143,54.143,52.033,50.055,48.513,48.513,48.513,34.402,41.483,36.704,36.704,36.704,36.704,40.559,34.621,34.621,34.621,34.621,34.621,34.621,35.405,35.405,35.405,35.405,35.405,35.405,37.09,37.09,37.09,37.09,37.09,37.09,54.634,54.634,31.935,31.935,54.029,54.029,54.029,54.029,41.188,41.1856,41.1856,41.1856,51.209,51.209,51.209,51.209,51.2087,51.2087,null,null,39.797,39.797,39.797,39.797,39.797,39.797,39.467,40.741,55.722,55.722,55.722,55.722,55.604,55.604,55.604,33.491,33.491,33.491,41.27,41.27,41.27,48.607,48.607,16.595278,16.595278,null,40.362,36.4625,50.903,50.059,14.865,14.865,14.865,14.865,14.868,14.868,21.236,21.236,21.236,21.236,57.903,57.903,57.903,57.903,12.553,12.553,12.553,null,null,24.845,49.104,37.434,37.434,37.434,37.434,37.434,37.434,37.434,44.47,50.301,50.301,50.303056,50.303056,49.098,-33.677,-33.677,67.467,67.467,67.467,67.467,35.321,35.321,35.321,35.321,43.744,43.744,43.744,43.744,43.744,43.744,45.939,53.41,8.167,8.167,8.16705,8.16666,8.16627,8.16588,null,null,null,null,25.203,25.203,51.674,51.674,51.674,51.674,43.559,19.719,19.719,41.246,41.246,41.427,47.601,59.837,59.837,59.837,59.837,59.837,59.837,59.837,59.837,null,null,40.225,40.225,22.606,22.606,22.609,22.609,52.483,null,null,60.372,60.372,46.693,25.038,25.038,25.038,25.038,43.951,35.433,35.433,35.701,35.701,35.701,41.312,41.312,41.312,48.261,48.261,48.261,48.261,35.739,45.334,46.969,50.409,28.156,28.155,49.039,49.039,48.604,43.522,43.522,27.046,27.046,27.046,27.046,27.046,27.046,55.786863,55.787102,48.517,48.517,38.061,38.061,51.273,51.273,51.275,51.275,51.275,51.275,52.381,49.365,34.796,34.796,34.796,35.544,35.544,35.544,35.544,41.507,51.649,51.649,61.235,61.235,61.234,61.234352,38.4,38.4,38.4,57.415,57.415,57.415,39.815,46.574,46.574,46.574,46.574,42.323,33.387,33.387,33.387,49.857,49.857,49.857,49.857,43.603,39.759,39.759,39.759,null,null,49.975,49.975,49.977611,41.801,44.142,49.253,49.253,43.812,43.812,43.812,43.812,43.812,43.812,43.812,43.812,41.945,40.132222,44.282,44.282,45.068,45.068,44.622,44.622,30.44,30.44,30.44,30.44,30.44,30.44,30.44,41.727,41.727,43.279,24.876,24.876,24.876,24.876,24.876,24.876,24.876,24.876,38.345,53.147,57.259,57.259,57.259,57.259,30.727,46.201,47.599,47.599,47.599,47.599,51.326,51.326,51.326,51.326,39.463,39.463,33.368,33.368,33.368,29.101,29.101,29.101111,29.101111,null,null,42.775,40.226944,42.897,31.834,31.834,null,35.228,35.228,null,null,null,null,null,35.635,36.979167,37.061,37.061,35.537,35.537,35.537,35.722,35.722,37.083889,37.083889,35.327,35.327,35.327,35.327,35.327,35.327,40.63,40.96,42.0,42.0,42.0,42.0,52.212,52.212,52.212,52.21939,52.21939,54.169,54.169,54.169,28.797,28.796,47.811,47.811,47.811,45.404,45.404,47.724,47.724,47.724,47.72,27.348,27.348,53.62,34.299,34.295833,34.295833,45.76,37.166,37.166,41.093,41.093,21.917778,21.917778,35.52,35.52,35.52,35.52,null,null,null,null,19.834,19.834,19.834,19.834,49.181,49.181,40.154,40.154,51.68,34.69,34.69,34.6868,34.6858,34.6838,34.6828,50.533,50.533,50.533,36.466,36.466,43.038,43.038,43.038,55.966,55.966,52.923,52.922,44.33,44.33,44.331,44.331,40.699,46.04,35.672,35.672,null,null,25.435,25.435,53.429,40.949,40.949,42.779,55.6057,55.6057,33.143,33.143,33.1399,33.1399,29.994,35.601,35.601,54.426,50.68,38.239,35.71,35.71,35.71,35.71,35.7101,35.7101,51.639,null,null,53.416,53.416,29.66,29.66,null,null,21.706,21.706,21.706,21.8575,21.8575,21.8575,null,null,42.728,47.508,47.508,47.508,47.508,47.508,47.508,23.829167,42.446,42.446,21.6,23.952748,24.845,21.6,24.845,24.066667,51.674,24.066667,51.674,22.693056,23.829167,22.693056,26.803611,26.803611,44.322,44.322,48.3544,51.763056,27.201487,36.965556,36.965556,19.46075,40.351389,40.351389,40.351389,40.351389,34.6828,34.6828,19.46075,19.46007,null,null,null,null],\"legendgroup\":\"\",\"lon\":[18.0829,170.30625,170.30625,null,null,33.541111,33.541111,33.541111,33.541111,51.283,-5.698,-5.698,-44.457,-44.457,-44.47,36.57,-93.23,-93.229,44.147,44.147,44.1472,0.571,0.571,-59.209,-59.209,47.952,47.952,47.952,47.952,22.162,52.193298,52.193298,52.203298,null,null,12.926,12.926,-80.432,-80.432,26.116667,26.116667,25.18675,25.1865,2.871,2.871,61.321,61.321,61.321,61.321,61.321,-2.494,-2.494,8.229,8.229,8.415,8.415,-85.195,166.492,166.492,166.492,166.492,-0.691,-0.691,-0.691,-0.691,17.687,17.687,17.687,17.687,17.687,-67.268,3.719,5.099,0.899,0.899,-88.23,-88.23,9.345,-87.119,-87.119,-87.119,-81.572,-81.572,-81.572,-81.572,-81.572,-81.572,-81.572,-81.572,9.202,-78.007,-78.007,5.268,5.268,5.268,5.267,5.267,50.887,50.8895,50.8872,50.8872,-89.277,-89.277,-3.491,-3.491,-3.491,-3.491,-91.781,-76.439,-76.439,9.872,-59.211111,-81.33,-81.071,-81.071,6.217,6.217,6.217,6.217,116.03,28.061,28.061,28.061,108.899917,108.899917,-3.223,-3.223,-3.223,-3.223,71.463,71.463,71.465,71.461667,30.103,30.103,30.103,30.103,121.567,121.567,0.167,0.167,0.167,0.167,0.167,0.167,0.167,4.792,4.792,4.792,0.654,0.654,-88.834,-1.051,-119.333,-97.787,-97.787,-95.643,4.757,4.757,4.757,4.757,-82.697,2.513,2.513,2.513,2.513,48.38,-78.724,-78.724,-78.724,-78.724,-78.7244,-78.7244,-83.092,114.544,114.544,-120.854,-120.854,4.259,4.259,4.259,4.259,-86.564,-86.564,-81.601,-3.745,-3.745,-88.349,-88.349,-88.349,-91.776,16.149,16.149,16.149,16.149,0.962,0.962,0.962,0.962,28.433333,-3.866667,-93.557,-64.442,7.322,8.283333,-83.257,-83.257,108.3,108.3,120.951,120.951,-85.115,-85.115,7.564,7.564,-76.403,-1.881,-1.881,-1.881,18.168,18.168,18.168,-96.076,-104.874,136.02,141.032,141.032,141.032,141.032,141.032,141.032,141.024,141.024,141.024,141.024,119.453,119.453,119.383889,119.383889,119.383889,119.383889,4.713,4.713,13.835,-121.84,129.837,129.837,129.837,129.837,-72.357,-72.357,5.687,7.969,0.845,0.845,10.186,-91.045,2.138,2.138,2.138,2.138,2.138,2.138,13.668,13.668,13.668,13.668,13.668,9.412,8.985,10.401,10.401,10.401,-80.158,-72.5,121.382,121.382,121.382,121.382,-96.785,138.141,138.141,138.141,138.141,138.141,138.141,126.41,126.41,126.41,126.41,126.41,126.41,129.384444,129.384444,129.384444,129.384444,129.384444,129.384444,-1.18,-1.18,-82.346,-82.346,-2.912,-2.912,-2.912,-2.912,141.393,141.388,141.39,141.389,-3.131,-3.131,-3.131,-3.131,-3.1305,-3.1305,null,null,121.4765,121.4765,121.4765,121.4765,121.4831,121.4831,-75.535,-124.21,-4.893,-4.893,-4.893,-4.893,26.562,26.562,26.562,132.309,132.309,132.309,-73.95,-73.95,-73.95,12.296,12.296,73.341111,73.341111,null,-2.818,140.61,6.421,8.987,74.438,74.438,74.438,74.438,74.4418,74.4422,73.351,73.351,73.351,73.351,35.057,35.057,35.057,35.057,80.174,80.174,80.174,null,null,66.79,8.432,138.598,138.598,138.598,138.598,138.598,138.598,138.598,-87.498,26.649,26.649,26.642778,26.642778,8.441,18.433,18.433,32.491,32.491,32.491,32.491,129.295,129.295,129.295,129.295,23.776,23.776,23.776,23.776,23.776,23.776,15.516,10.41,77.713,77.713,77.708,77.708,77.708,77.708,null,null,null,null,121.662,121.662,35.607,35.607,35.607,35.607,-91.23,-96.405,-96.405,-88.672,-88.672,12.808,8.183,29.039,29.039,29.039,29.039,29.039,29.039,29.039,29.039,null,null,-75.584,-75.584,114.55,114.55,114.552,114.552,7.302,null,null,26.342,26.342,6.827,121.924,121.924,121.924,121.924,-69.695,-80.946,-80.946,135.962,135.962,135.962,-72.166,-72.166,-72.166,18.455,18.455,18.455,18.455,135.988,-93.85,7.266,7.485,78.409,78.409,9.176,9.176,12.304,-76.412,-76.412,120.287,120.287,120.287,120.287,120.287,120.287,42.37215,42.37215,3.52,3.52,-77.792,-77.792,39.197,39.197,39.206,39.206,39.206,39.206,39.211,9.077,-82.894,-82.894,-82.894,135.652,135.652,135.652,135.652,140.909,-2.567,-2.567,21.444,21.444,21.435,21.436287,141.504,141.504,141.504,16.666,16.666,16.666,-74.208,18.855,18.855,18.855,18.855,-86.316,-112.863,-112.863,-112.863,0.635,0.635,0.635,0.635,-96.636,-76.27,-76.27,-76.27,null,null,1.215,1.215,1.21409,-81.147,4.712,8.432,8.432,-79.07,-79.07,-79.07,-79.07,-79.07,-79.07,-79.07,-79.07,-70.578,-84.234722,-87.534,-87.534,-66.455,-66.4546,-92.631,-92.631,120.95,120.95,120.95,120.95,120.95,120.95,120.95,-90.308,-90.308,-77.311,75.608,75.608,75.608,75.608,75.608,75.608,75.608,75.608,-121.12,12.991,12.111,12.111,12.111,12.111,-91.372,-77.705,42.373,42.373,42.373,42.373,25.9,25.9,25.9,25.9,-75.534,-75.534,-117.556,-117.556,-117.556,121.642,121.642,121.651944,121.656944,null,null,-3.205,-78.241944,-70.849,130.193,130.193,null,-85.094,-85.094,null,null,null,null,null,-78.955,122.530556,136.728,136.728,132.999,132.999,132.999,129.479,129.479,129.391667,129.391667,129.302,129.302,129.302,129.302,129.302,129.302,-80.417778,-72.866,35.0,35.0,35.0,35.0,1.621,1.621,1.621,1.6228,1.6238,33.245,33.245,33.245,-96.044,-96.044,31.22,31.22,31.22,4.754,4.754,1.582,1.582,1.582,1.581,-80.244,-80.244,9.53,-81.314,-81.320278,-81.320278,5.474,-76.7,-76.7,-76.143,-76.143,112.981944,112.981944,135.503,135.503,135.503,135.503,null,null,null,null,72.657,72.657,72.657,72.657,14.377,14.377,-76.727,-76.727,7.972,119.456,119.456,119.456,119.456,119.456,119.456,5.271,5.271,5.271,140.612,140.612,140.515,140.515,140.515,-2.399,-2.399,-3.947,-3.947,4.733,4.733,4.733,4.733,-2.622,-122.887,136.079,136.079,null,null,-80.33,-80.33,8.477,0.867,0.867,-72.514,26.575842,26.575842,-81.76,-81.76,-81.7686,-81.7712,-90.471,-84.789,-84.789,-3.505,-2.272,-95.691,129.476,129.476,129.476,129.476,129.481,129.481,9.393,null,null,-4.48,-4.48,114.67,114.67,null,null,112.256,112.256,112.256,111.9825,111.9825,111.9825,null,null,-72.929,34.627,34.627,34.627,34.627,34.627,34.627,117.491667,-87.801,-87.801,108.3,52.203298,66.79,108.3,66.79,89.047222,35.607,89.047222,35.607,114.983333,117.491667,114.983333,120.155,120.155,28.061,28.061,15.8847,6.326944,120.517974,122.52,122.52,108.899917,120.545833,120.545833,120.545833,120.545833,119.456,119.456,108.899917,108.88992,null,null,null,null],\"marker\":{\"color\":[9.0,30.0,30.0,0.0,0.0,1114.0,1114.0,1114.0,0.0,52.0,900.0,900.0,609.0,1245.0,1340.0,5.0,850.0,912.0,376.0,375.0,0.0,995.0,997.0,340.0,692.0,950.0,950.0,950.0,950.0,1109.0,1345.0,1345.0,1345.0,0.0,0.0,570.0,570.0,835.0,836.0,1110.0,1110.0,953.0,953.0,1310.0,1310.0,102.0,146.0,560.0,820.0,0.0,138.0,138.0,365.0,365.0,1146.0,1178.0,72.0,11.0,11.0,11.0,11.0,910.0,910.0,910.0,910.0,408.0,408.0,466.0,466.0,110.0,17.0,495.0,11.0,150.0,150.0,1120.0,1120.0,1307.0,1065.0,1065.0,1065.0,774.0,777.0,770.0,769.0,822.0,822.0,822.0,795.0,770.0,821.0,821.0,540.0,920.0,920.0,900.0,900.0,915.0,974.0,0.0,0.0,1120.0,1120.0,35.0,35.0,35.0,35.0,1171.0,845.0,845.0,840.0,25.0,17.0,1145.0,1145.0,1300.0,1300.0,1300.0,1300.0,20.0,650.0,650.0,655.0,601.0,601.0,35.0,35.0,35.0,35.0,300.0,300.0,315.0,313.0,925.0,925.0,925.0,925.0,604.0,604.0,68.0,170.0,480.0,870.0,870.0,905.0,905.0,280.0,1455.0,1455.0,1450.0,1450.0,950.0,939.0,1100.0,1150.0,1150.0,778.0,880.0,915.0,880.0,880.0,825.0,890.0,890.0,890.0,890.0,0.0,881.0,881.0,881.0,881.0,0.0,0.0,906.0,930.0,930.0,1084.0,1106.0,392.0,445.0,1006.0,1000.0,1030.0,1100.0,203.0,14.0,234.0,192.0,794.0,794.0,601.0,468.0,420.0,420.0,420.0,275.0,275.0,607.0,545.0,0.0,70.0,22.0,608.0,1242.0,247.0,60.0,1093.0,1000.0,1000.0,1000.0,1000.0,829.0,829.0,880.0,880.0,821.0,1330.0,1330.0,1630.0,900.0,900.0,1050.0,478.0,330.0,148.0,439.0,760.0,760.0,760.0,760.0,1067.0,1067.0,1067.0,1067.0,1067.0,1000.0,1000.0,1000.0,1000.0,1000.0,1000.0,36.0,36.0,150.0,24.0,529.0,529.0,1127.0,1127.0,250.0,645.0,54.0,1010.0,1310.0,1310.0,1225.0,1250.0,910.0,910.0,910.0,910.0,910.0,910.0,440.0,408.0,408.0,408.0,408.0,1289.0,23.0,237.0,1244.0,1249.0,700.0,582.0,1126.0,1126.0,0.0,0.0,75.0,516.0,814.0,1056.0,1092.0,1325.0,0.0,995.0,988.0,986.0,970.0,992.0,993.0,966.0,967.0,997.0,999.0,998.0,997.0,590.0,595.0,777.0,784.0,611.0,611.0,615.0,615.0,1067.0,0.0,0.0,0.0,250.0,250.0,625.0,625.0,1630.0,1630.0,0.0,0.0,1061.0,1061.0,1061.0,1061.0,1061.0,1061.0,1067.0,65.0,150.0,150.0,624.0,624.0,1185.0,1185.0,1380.0,538.0,538.0,846.0,265.0,873.0,965.0,870.0,1285.0,0.0,0.0,0.0,153.0,10.0,13.0,15.0,202.0,202.0,202.0,202.0,0.0,0.0,202.0,202.0,630.0,630.0,950.0,950.0,950.0,950.0,470.0,202.0,202.0,0.0,0.0,125.0,50.0,1067.0,1067.0,1067.0,1067.0,1067.0,1315.0,1315.0,535.0,950.0,950.0,1035.0,1035.0,18.0,921.0,921.0,411.0,411.0,411.0,411.0,558.0,640.0,1011.0,1012.0,408.0,408.0,408.0,408.0,1003.0,1003.0,632.0,1260.0,917.0,917.0,917.0,917.0,0.0,0.0,0.0,0.0,0.0,0.0,985.0,985.0,925.0,925.0,925.0,925.0,50.0,777.0,780.0,1078.0,1078.0,200.0,960.0,1066.0,1066.0,1085.0,1085.0,925.0,925.0,925.0,925.0,0.0,0.0,1055.0,1055.0,950.0,950.0,1007.0,1007.0,183.0,0.0,0.0,420.0,420.0,6.0,1300.0,1300.0,936.0,938.0,825.0,1180.0,1180.0,320.0,470.0,780.0,660.0,870.0,1159.0,436.0,469.0,440.0,440.0,246.0,545.0,306.0,1219.0,202.0,202.0,805.0,1225.0,100.0,620.0,1100.0,1018.0,1018.0,1018.0,1018.0,0.0,0.0,0.0,0.0,1310.0,1310.0,907.0,907.0,1114.0,1114.0,197.0,336.0,385.0,385.0,950.0,283.0,887.0,887.0,887.0,1120.0,1120.0,1127.0,1127.0,1328.0,300.0,300.0,660.0,660.0,1600.0,0.0,498.0,796.0,796.0,440.0,580.0,1050.0,650.0,408.0,410.0,410.0,410.0,805.0,1221.0,1304.0,1304.0,1330.0,1330.0,1330.0,1330.0,59.0,40.0,1065.0,1065.0,0.0,0.0,1330.0,1330.0,0.0,1205.0,233.0,864.0,1268.0,508.0,508.0,508.0,508.0,516.0,516.0,516.0,516.0,655.0,11.0,497.0,497.0,660.0,0.0,530.0,530.0,308.0,610.0,610.0,619.0,619.0,677.0,677.0,789.0,789.0,470.0,207.0,207.0,202.0,202.0,202.0,202.0,630.0,630.0,918.0,62.0,881.0,820.0,1072.0,1130.0,966.0,17.0,950.0,950.0,950.0,950.0,361.0,384.0,950.0,950.0,1090.0,1115.0,436.0,1070.0,1070.0,1157.0,1157.0,0.0,0.0,0.0,0.0,440.0,3.0,1149.0,846.0,846.0,0.0,1148.0,1148.0,0.0,0.0,0.0,0.0,0.0,900.0,200.0,505.0,1108.0,439.0,789.0,1325.0,997.0,993.0,1340.0,1340.0,996.0,996.0,1416.0,1418.0,1340.0,1340.0,60.0,809.0,0.0,0.0,0.0,0.0,290.0,290.0,1188.0,0.0,0.0,925.0,925.0,925.0,1250.0,1250.0,950.0,950.0,950.0,1335.0,1335.0,480.0,515.0,915.0,880.0,830.0,830.0,630.0,900.0,1117.0,1117.0,1200.0,788.0,788.0,1065.0,1065.0,1660.0,1660.0,780.0,780.0,830.0,830.0,0.0,0.0,0.0,0.0,200.0,200.0,502.0,502.0,1027.0,1029.0,819.0,906.0,296.0,990.0,990.0,1060.0,1060.0,1000.0,1000.0,870.0,900.0,1020.0,159.0,1056.0,550.0,550.0,866.0,645.0,645.0,250.0,250.0,915.0,915.0,915.0,915.0,990.0,1130.0,341.0,1115.0,0.0,0.0,693.0,693.0,1230.0,480.0,930.0,514.0,0.0,0.0,1122.0,1101.0,1117.0,1117.0,1104.0,1218.0,1165.0,32.0,92.0,1170.0,629.0,596.0,627.0,600.0,0.0,0.0,640.0,0.0,0.0,550.0,550.0,0.0,0.0,0.0,0.0,1021.0,1000.0,1000.0,1000.0,1021.0,1000.0,0.0,0.0,175.0,950.0,950.0,950.0,950.0,950.0,950.0,1126.0,1040.0,1040.0,1000.0,1345.0,1014.0,1000.0,1014.0,1080.0,1175.0,1080.0,1175.0,1116.0,1126.0,1116.0,642.0,600.0,655.0,655.0,692.0,295.0,1117.0,1534.0,1534.0,1000.0,0.0,0.0,0.0,0.0,0.0,0.0,0.0,0.0,0.0,0.0,0.0,0.0],\"coloraxis\":\"coloraxis\",\"size\":[9.0,30.0,30.0,0.0,0.0,1114.0,1114.0,1114.0,0.0,52.0,900.0,900.0,609.0,1245.0,1340.0,5.0,850.0,912.0,376.0,375.0,0.0,995.0,997.0,340.0,692.0,950.0,950.0,950.0,950.0,1109.0,1345.0,1345.0,1345.0,0.0,0.0,570.0,570.0,835.0,836.0,1110.0,1110.0,953.0,953.0,1310.0,1310.0,102.0,146.0,560.0,820.0,0.0,138.0,138.0,365.0,365.0,1146.0,1178.0,72.0,11.0,11.0,11.0,11.0,910.0,910.0,910.0,910.0,408.0,408.0,466.0,466.0,110.0,17.0,495.0,11.0,150.0,150.0,1120.0,1120.0,1307.0,1065.0,1065.0,1065.0,774.0,777.0,770.0,769.0,822.0,822.0,822.0,795.0,770.0,821.0,821.0,540.0,920.0,920.0,900.0,900.0,915.0,974.0,0.0,0.0,1120.0,1120.0,35.0,35.0,35.0,35.0,1171.0,845.0,845.0,840.0,25.0,17.0,1145.0,1145.0,1300.0,1300.0,1300.0,1300.0,20.0,650.0,650.0,655.0,601.0,601.0,35.0,35.0,35.0,35.0,300.0,300.0,315.0,313.0,925.0,925.0,925.0,925.0,604.0,604.0,68.0,170.0,480.0,870.0,870.0,905.0,905.0,280.0,1455.0,1455.0,1450.0,1450.0,950.0,939.0,1100.0,1150.0,1150.0,778.0,880.0,915.0,880.0,880.0,825.0,890.0,890.0,890.0,890.0,0.0,881.0,881.0,881.0,881.0,0.0,0.0,906.0,930.0,930.0,1084.0,1106.0,392.0,445.0,1006.0,1000.0,1030.0,1100.0,203.0,14.0,234.0,192.0,794.0,794.0,601.0,468.0,420.0,420.0,420.0,275.0,275.0,607.0,545.0,0.0,70.0,22.0,608.0,1242.0,247.0,60.0,1093.0,1000.0,1000.0,1000.0,1000.0,829.0,829.0,880.0,880.0,821.0,1330.0,1330.0,1630.0,900.0,900.0,1050.0,478.0,330.0,148.0,439.0,760.0,760.0,760.0,760.0,1067.0,1067.0,1067.0,1067.0,1067.0,1000.0,1000.0,1000.0,1000.0,1000.0,1000.0,36.0,36.0,150.0,24.0,529.0,529.0,1127.0,1127.0,250.0,645.0,54.0,1010.0,1310.0,1310.0,1225.0,1250.0,910.0,910.0,910.0,910.0,910.0,910.0,440.0,408.0,408.0,408.0,408.0,1289.0,23.0,237.0,1244.0,1249.0,700.0,582.0,1126.0,1126.0,0.0,0.0,75.0,516.0,814.0,1056.0,1092.0,1325.0,0.0,995.0,988.0,986.0,970.0,992.0,993.0,966.0,967.0,997.0,999.0,998.0,997.0,590.0,595.0,777.0,784.0,611.0,611.0,615.0,615.0,1067.0,0.0,0.0,0.0,250.0,250.0,625.0,625.0,1630.0,1630.0,0.0,0.0,1061.0,1061.0,1061.0,1061.0,1061.0,1061.0,1067.0,65.0,150.0,150.0,624.0,624.0,1185.0,1185.0,1380.0,538.0,538.0,846.0,265.0,873.0,965.0,870.0,1285.0,0.0,0.0,0.0,153.0,10.0,13.0,15.0,202.0,202.0,202.0,202.0,0.0,0.0,202.0,202.0,630.0,630.0,950.0,950.0,950.0,950.0,470.0,202.0,202.0,0.0,0.0,125.0,50.0,1067.0,1067.0,1067.0,1067.0,1067.0,1315.0,1315.0,535.0,950.0,950.0,1035.0,1035.0,18.0,921.0,921.0,411.0,411.0,411.0,411.0,558.0,640.0,1011.0,1012.0,408.0,408.0,408.0,408.0,1003.0,1003.0,632.0,1260.0,917.0,917.0,917.0,917.0,0.0,0.0,0.0,0.0,0.0,0.0,985.0,985.0,925.0,925.0,925.0,925.0,50.0,777.0,780.0,1078.0,1078.0,200.0,960.0,1066.0,1066.0,1085.0,1085.0,925.0,925.0,925.0,925.0,0.0,0.0,1055.0,1055.0,950.0,950.0,1007.0,1007.0,183.0,0.0,0.0,420.0,420.0,6.0,1300.0,1300.0,936.0,938.0,825.0,1180.0,1180.0,320.0,470.0,780.0,660.0,870.0,1159.0,436.0,469.0,440.0,440.0,246.0,545.0,306.0,1219.0,202.0,202.0,805.0,1225.0,100.0,620.0,1100.0,1018.0,1018.0,1018.0,1018.0,0.0,0.0,0.0,0.0,1310.0,1310.0,907.0,907.0,1114.0,1114.0,197.0,336.0,385.0,385.0,950.0,283.0,887.0,887.0,887.0,1120.0,1120.0,1127.0,1127.0,1328.0,300.0,300.0,660.0,660.0,1600.0,0.0,498.0,796.0,796.0,440.0,580.0,1050.0,650.0,408.0,410.0,410.0,410.0,805.0,1221.0,1304.0,1304.0,1330.0,1330.0,1330.0,1330.0,59.0,40.0,1065.0,1065.0,0.0,0.0,1330.0,1330.0,0.0,1205.0,233.0,864.0,1268.0,508.0,508.0,508.0,508.0,516.0,516.0,516.0,516.0,655.0,11.0,497.0,497.0,660.0,0.0,530.0,530.0,308.0,610.0,610.0,619.0,619.0,677.0,677.0,789.0,789.0,470.0,207.0,207.0,202.0,202.0,202.0,202.0,630.0,630.0,918.0,62.0,881.0,820.0,1072.0,1130.0,966.0,17.0,950.0,950.0,950.0,950.0,361.0,384.0,950.0,950.0,1090.0,1115.0,436.0,1070.0,1070.0,1157.0,1157.0,0.0,0.0,0.0,0.0,440.0,3.0,1149.0,846.0,846.0,0.0,1148.0,1148.0,0.0,0.0,0.0,0.0,0.0,900.0,200.0,505.0,1108.0,439.0,789.0,1325.0,997.0,993.0,1340.0,1340.0,996.0,996.0,1416.0,1418.0,1340.0,1340.0,60.0,809.0,0.0,0.0,0.0,0.0,290.0,290.0,1188.0,0.0,0.0,925.0,925.0,925.0,1250.0,1250.0,950.0,950.0,950.0,1335.0,1335.0,480.0,515.0,915.0,880.0,830.0,830.0,630.0,900.0,1117.0,1117.0,1200.0,788.0,788.0,1065.0,1065.0,1660.0,1660.0,780.0,780.0,830.0,830.0,0.0,0.0,0.0,0.0,200.0,200.0,502.0,502.0,1027.0,1029.0,819.0,906.0,296.0,990.0,990.0,1060.0,1060.0,1000.0,1000.0,870.0,900.0,1020.0,159.0,1056.0,550.0,550.0,866.0,645.0,645.0,250.0,250.0,915.0,915.0,915.0,915.0,990.0,1130.0,341.0,1115.0,0.0,0.0,693.0,693.0,1230.0,480.0,930.0,514.0,0.0,0.0,1122.0,1101.0,1117.0,1117.0,1104.0,1218.0,1165.0,32.0,92.0,1170.0,629.0,596.0,627.0,600.0,0.0,0.0,640.0,0.0,0.0,550.0,550.0,0.0,0.0,0.0,0.0,1021.0,1000.0,1000.0,1000.0,1021.0,1000.0,0.0,0.0,175.0,950.0,950.0,950.0,950.0,950.0,950.0,1126.0,1040.0,1040.0,1000.0,1345.0,1014.0,1000.0,1014.0,1080.0,1175.0,1080.0,1175.0,1116.0,1126.0,1116.0,642.0,600.0,655.0,655.0,692.0,295.0,1117.0,1534.0,1534.0,1000.0,0.0,0.0,0.0,0.0,0.0,0.0,0.0,0.0,0.0,0.0,0.0,0.0],\"sizemode\":\"area\",\"sizeref\":4.15},\"mode\":\"markers\",\"name\":\"\",\"showlegend\":false,\"subplot\":\"mapbox\",\"type\":\"scattermapbox\"}],                        {\"coloraxis\":{\"colorbar\":{\"title\":{\"text\":\"Capacity\"}},\"colorscale\":[[0.0,\"#ffe1cc\"],[0.25,\"#ff9a66\"],[0.5,\"#ff7833\"],[0.75,\"#ff5600\"],[1.0,\"#de4b00\"]]},\"height\":500,\"legend\":{\"itemsizing\":\"constant\",\"tracegroupgap\":0},\"mapbox\":{\"accesstoken\":\"pk.eyJ1IjoibWVyY3VyeWNvZGUiLCJhIjoiY2t2OHo2enA0MDJ3czJ3bnpxeTU5dXNvcCJ9.HFSLsaR13BM2y573g4ZmsQ\",\"center\":{\"lat\":40.51032620264899,\"lon\":25.078987260927153},\"domain\":{\"x\":[0.0,1.0],\"y\":[0.0,1.0]},\"style\":\"dark\",\"zoom\":1},\"margin\":{\"b\":0,\"l\":0,\"r\":0,\"t\":0},\"template\":{\"data\":{\"bar\":[{\"error_x\":{\"color\":\"#2a3f5f\"},\"error_y\":{\"color\":\"#2a3f5f\"},\"marker\":{\"line\":{\"color\":\"#E5ECF6\",\"width\":0.5},\"pattern\":{\"fillmode\":\"overlay\",\"size\":10,\"solidity\":0.2}},\"type\":\"bar\"}],\"barpolar\":[{\"marker\":{\"line\":{\"color\":\"#E5ECF6\",\"width\":0.5},\"pattern\":{\"fillmode\":\"overlay\",\"size\":10,\"solidity\":0.2}},\"type\":\"barpolar\"}],\"carpet\":[{\"aaxis\":{\"endlinecolor\":\"#2a3f5f\",\"gridcolor\":\"white\",\"linecolor\":\"white\",\"minorgridcolor\":\"white\",\"startlinecolor\":\"#2a3f5f\"},\"baxis\":{\"endlinecolor\":\"#2a3f5f\",\"gridcolor\":\"white\",\"linecolor\":\"white\",\"minorgridcolor\":\"white\",\"startlinecolor\":\"#2a3f5f\"},\"type\":\"carpet\"}],\"choropleth\":[{\"colorbar\":{\"outlinewidth\":0,\"ticks\":\"\"},\"type\":\"choropleth\"}],\"contour\":[{\"colorbar\":{\"outlinewidth\":0,\"ticks\":\"\"},\"colorscale\":[[0.0,\"#0d0887\"],[0.1111111111111111,\"#46039f\"],[0.2222222222222222,\"#7201a8\"],[0.3333333333333333,\"#9c179e\"],[0.4444444444444444,\"#bd3786\"],[0.5555555555555556,\"#d8576b\"],[0.6666666666666666,\"#ed7953\"],[0.7777777777777778,\"#fb9f3a\"],[0.8888888888888888,\"#fdca26\"],[1.0,\"#f0f921\"]],\"type\":\"contour\"}],\"contourcarpet\":[{\"colorbar\":{\"outlinewidth\":0,\"ticks\":\"\"},\"type\":\"contourcarpet\"}],\"heatmap\":[{\"colorbar\":{\"outlinewidth\":0,\"ticks\":\"\"},\"colorscale\":[[0.0,\"#0d0887\"],[0.1111111111111111,\"#46039f\"],[0.2222222222222222,\"#7201a8\"],[0.3333333333333333,\"#9c179e\"],[0.4444444444444444,\"#bd3786\"],[0.5555555555555556,\"#d8576b\"],[0.6666666666666666,\"#ed7953\"],[0.7777777777777778,\"#fb9f3a\"],[0.8888888888888888,\"#fdca26\"],[1.0,\"#f0f921\"]],\"type\":\"heatmap\"}],\"heatmapgl\":[{\"colorbar\":{\"outlinewidth\":0,\"ticks\":\"\"},\"colorscale\":[[0.0,\"#0d0887\"],[0.1111111111111111,\"#46039f\"],[0.2222222222222222,\"#7201a8\"],[0.3333333333333333,\"#9c179e\"],[0.4444444444444444,\"#bd3786\"],[0.5555555555555556,\"#d8576b\"],[0.6666666666666666,\"#ed7953\"],[0.7777777777777778,\"#fb9f3a\"],[0.8888888888888888,\"#fdca26\"],[1.0,\"#f0f921\"]],\"type\":\"heatmapgl\"}],\"histogram\":[{\"marker\":{\"pattern\":{\"fillmode\":\"overlay\",\"size\":10,\"solidity\":0.2}},\"type\":\"histogram\"}],\"histogram2d\":[{\"colorbar\":{\"outlinewidth\":0,\"ticks\":\"\"},\"colorscale\":[[0.0,\"#0d0887\"],[0.1111111111111111,\"#46039f\"],[0.2222222222222222,\"#7201a8\"],[0.3333333333333333,\"#9c179e\"],[0.4444444444444444,\"#bd3786\"],[0.5555555555555556,\"#d8576b\"],[0.6666666666666666,\"#ed7953\"],[0.7777777777777778,\"#fb9f3a\"],[0.8888888888888888,\"#fdca26\"],[1.0,\"#f0f921\"]],\"type\":\"histogram2d\"}],\"histogram2dcontour\":[{\"colorbar\":{\"outlinewidth\":0,\"ticks\":\"\"},\"colorscale\":[[0.0,\"#0d0887\"],[0.1111111111111111,\"#46039f\"],[0.2222222222222222,\"#7201a8\"],[0.3333333333333333,\"#9c179e\"],[0.4444444444444444,\"#bd3786\"],[0.5555555555555556,\"#d8576b\"],[0.6666666666666666,\"#ed7953\"],[0.7777777777777778,\"#fb9f3a\"],[0.8888888888888888,\"#fdca26\"],[1.0,\"#f0f921\"]],\"type\":\"histogram2dcontour\"}],\"mesh3d\":[{\"colorbar\":{\"outlinewidth\":0,\"ticks\":\"\"},\"type\":\"mesh3d\"}],\"parcoords\":[{\"line\":{\"colorbar\":{\"outlinewidth\":0,\"ticks\":\"\"}},\"type\":\"parcoords\"}],\"pie\":[{\"automargin\":true,\"type\":\"pie\"}],\"scatter\":[{\"marker\":{\"colorbar\":{\"outlinewidth\":0,\"ticks\":\"\"}},\"type\":\"scatter\"}],\"scatter3d\":[{\"line\":{\"colorbar\":{\"outlinewidth\":0,\"ticks\":\"\"}},\"marker\":{\"colorbar\":{\"outlinewidth\":0,\"ticks\":\"\"}},\"type\":\"scatter3d\"}],\"scattercarpet\":[{\"marker\":{\"colorbar\":{\"outlinewidth\":0,\"ticks\":\"\"}},\"type\":\"scattercarpet\"}],\"scattergeo\":[{\"marker\":{\"colorbar\":{\"outlinewidth\":0,\"ticks\":\"\"}},\"type\":\"scattergeo\"}],\"scattergl\":[{\"marker\":{\"colorbar\":{\"outlinewidth\":0,\"ticks\":\"\"}},\"type\":\"scattergl\"}],\"scattermapbox\":[{\"marker\":{\"colorbar\":{\"outlinewidth\":0,\"ticks\":\"\"}},\"type\":\"scattermapbox\"}],\"scatterpolar\":[{\"marker\":{\"colorbar\":{\"outlinewidth\":0,\"ticks\":\"\"}},\"type\":\"scatterpolar\"}],\"scatterpolargl\":[{\"marker\":{\"colorbar\":{\"outlinewidth\":0,\"ticks\":\"\"}},\"type\":\"scatterpolargl\"}],\"scatterternary\":[{\"marker\":{\"colorbar\":{\"outlinewidth\":0,\"ticks\":\"\"}},\"type\":\"scatterternary\"}],\"surface\":[{\"colorbar\":{\"outlinewidth\":0,\"ticks\":\"\"},\"colorscale\":[[0.0,\"#0d0887\"],[0.1111111111111111,\"#46039f\"],[0.2222222222222222,\"#7201a8\"],[0.3333333333333333,\"#9c179e\"],[0.4444444444444444,\"#bd3786\"],[0.5555555555555556,\"#d8576b\"],[0.6666666666666666,\"#ed7953\"],[0.7777777777777778,\"#fb9f3a\"],[0.8888888888888888,\"#fdca26\"],[1.0,\"#f0f921\"]],\"type\":\"surface\"}],\"table\":[{\"cells\":{\"fill\":{\"color\":\"#EBF0F8\"},\"line\":{\"color\":\"white\"}},\"header\":{\"fill\":{\"color\":\"#C8D4E3\"},\"line\":{\"color\":\"white\"}},\"type\":\"table\"}]},\"layout\":{\"annotationdefaults\":{\"arrowcolor\":\"#2a3f5f\",\"arrowhead\":0,\"arrowwidth\":1},\"autotypenumbers\":\"strict\",\"coloraxis\":{\"colorbar\":{\"outlinewidth\":0,\"ticks\":\"\"}},\"colorscale\":{\"diverging\":[[0,\"#8e0152\"],[0.1,\"#c51b7d\"],[0.2,\"#de77ae\"],[0.3,\"#f1b6da\"],[0.4,\"#fde0ef\"],[0.5,\"#f7f7f7\"],[0.6,\"#e6f5d0\"],[0.7,\"#b8e186\"],[0.8,\"#7fbc41\"],[0.9,\"#4d9221\"],[1,\"#276419\"]],\"sequential\":[[0.0,\"#0d0887\"],[0.1111111111111111,\"#46039f\"],[0.2222222222222222,\"#7201a8\"],[0.3333333333333333,\"#9c179e\"],[0.4444444444444444,\"#bd3786\"],[0.5555555555555556,\"#d8576b\"],[0.6666666666666666,\"#ed7953\"],[0.7777777777777778,\"#fb9f3a\"],[0.8888888888888888,\"#fdca26\"],[1.0,\"#f0f921\"]],\"sequentialminus\":[[0.0,\"#0d0887\"],[0.1111111111111111,\"#46039f\"],[0.2222222222222222,\"#7201a8\"],[0.3333333333333333,\"#9c179e\"],[0.4444444444444444,\"#bd3786\"],[0.5555555555555556,\"#d8576b\"],[0.6666666666666666,\"#ed7953\"],[0.7777777777777778,\"#fb9f3a\"],[0.8888888888888888,\"#fdca26\"],[1.0,\"#f0f921\"]]},\"colorway\":[\"#636efa\",\"#EF553B\",\"#00cc96\",\"#ab63fa\",\"#FFA15A\",\"#19d3f3\",\"#FF6692\",\"#B6E880\",\"#FF97FF\",\"#FECB52\"],\"font\":{\"color\":\"#2a3f5f\"},\"geo\":{\"bgcolor\":\"white\",\"lakecolor\":\"white\",\"landcolor\":\"#E5ECF6\",\"showlakes\":true,\"showland\":true,\"subunitcolor\":\"white\"},\"hoverlabel\":{\"align\":\"left\"},\"hovermode\":\"closest\",\"mapbox\":{\"style\":\"light\"},\"paper_bgcolor\":\"white\",\"plot_bgcolor\":\"#E5ECF6\",\"polar\":{\"angularaxis\":{\"gridcolor\":\"white\",\"linecolor\":\"white\",\"ticks\":\"\"},\"bgcolor\":\"#E5ECF6\",\"radialaxis\":{\"gridcolor\":\"white\",\"linecolor\":\"white\",\"ticks\":\"\"}},\"scene\":{\"xaxis\":{\"backgroundcolor\":\"#E5ECF6\",\"gridcolor\":\"white\",\"gridwidth\":2,\"linecolor\":\"white\",\"showbackground\":true,\"ticks\":\"\",\"zerolinecolor\":\"white\"},\"yaxis\":{\"backgroundcolor\":\"#E5ECF6\",\"gridcolor\":\"white\",\"gridwidth\":2,\"linecolor\":\"white\",\"showbackground\":true,\"ticks\":\"\",\"zerolinecolor\":\"white\"},\"zaxis\":{\"backgroundcolor\":\"#E5ECF6\",\"gridcolor\":\"white\",\"gridwidth\":2,\"linecolor\":\"white\",\"showbackground\":true,\"ticks\":\"\",\"zerolinecolor\":\"white\"}},\"shapedefaults\":{\"line\":{\"color\":\"#2a3f5f\"}},\"ternary\":{\"aaxis\":{\"gridcolor\":\"white\",\"linecolor\":\"white\",\"ticks\":\"\"},\"baxis\":{\"gridcolor\":\"white\",\"linecolor\":\"white\",\"ticks\":\"\"},\"bgcolor\":\"#E5ECF6\",\"caxis\":{\"gridcolor\":\"white\",\"linecolor\":\"white\",\"ticks\":\"\"}},\"title\":{\"x\":0.05},\"xaxis\":{\"automargin\":true,\"gridcolor\":\"white\",\"linecolor\":\"white\",\"ticks\":\"\",\"title\":{\"standoff\":15},\"zerolinecolor\":\"white\",\"zerolinewidth\":2},\"yaxis\":{\"automargin\":true,\"gridcolor\":\"white\",\"linecolor\":\"white\",\"ticks\":\"\",\"title\":{\"standoff\":15},\"zerolinecolor\":\"white\",\"zerolinewidth\":2}}},\"title\":{\"text\":\"nuclear power plant power and distribution\"}},                        {\"responsive\": true}                    ).then(function(){\n",
       "                            \n",
       "var gd = document.getElementById('4b3ed044-8069-4c18-987c-e2720389ef93');\n",
       "var x = new MutationObserver(function (mutations, observer) {{\n",
       "        var display = window.getComputedStyle(gd).display;\n",
       "        if (!display || display === 'none') {{\n",
       "            console.log([gd, 'removed!']);\n",
       "            Plotly.purge(gd);\n",
       "            observer.disconnect();\n",
       "        }}\n",
       "}});\n",
       "\n",
       "// Listen for the removal of the full notebook cells\n",
       "var notebookContainer = gd.closest('#notebook-container');\n",
       "if (notebookContainer) {{\n",
       "    x.observe(notebookContainer, {childList: true});\n",
       "}}\n",
       "\n",
       "// Listen for the clearing of the current output cell\n",
       "var outputEl = gd.closest('.output');\n",
       "if (outputEl) {{\n",
       "    x.observe(outputEl, {childList: true});\n",
       "}}\n",
       "\n",
       "                        })                };                });            </script>        </div>"
      ]
     },
     "metadata": {},
     "output_type": "display_data"
    }
   ],
   "source": [
    "fig = px.scatter_mapbox(df,lat= 'Latitude',lon='Longitude',zoom=1,size= 'Capacity',\n",
    "              hover_data=['Country','Capacity','Name'],color='Capacity',color_continuous_scale=colorscales,\n",
    "                        height=500,title='nuclear power plant power and distribution')\n",
    "\n",
    "fig.update_layout(mapbox_style=\"dark\", mapbox_accesstoken=token)\n",
    "fig.update_layout(margin={\"r\":0,\"t\":0,\"l\":0,\"b\":0})\n",
    "fig.show()"
   ]
  },
  {
   "cell_type": "code",
   "execution_count": null,
   "metadata": {},
   "outputs": [],
   "source": []
  },
  {
   "cell_type": "code",
   "execution_count": null,
   "metadata": {},
   "outputs": [],
   "source": []
  }
 ],
 "metadata": {
  "kernelspec": {
   "display_name": "Python 3",
   "language": "python",
   "name": "python3"
  },
  "language_info": {
   "codemirror_mode": {
    "name": "ipython",
    "version": 3
   },
   "file_extension": ".py",
   "mimetype": "text/x-python",
   "name": "python",
   "nbconvert_exporter": "python",
   "pygments_lexer": "ipython3",
   "version": "3.8.5"
  }
 },
 "nbformat": 4,
 "nbformat_minor": 4
}
